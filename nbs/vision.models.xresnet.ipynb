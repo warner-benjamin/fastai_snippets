{
 "cells": [
  {
   "cell_type": "code",
   "execution_count": null,
   "metadata": {},
   "outputs": [],
   "source": [
    "#|default_exp vision.models.xresnet"
   ]
  },
  {
   "cell_type": "markdown",
   "metadata": {},
   "source": [
    "# XResNet Extended\n",
    "> fastai's XResNet with more flexibility."
   ]
  },
  {
   "cell_type": "markdown",
   "metadata": {},
   "source": [
    "fastxtend's `XResNet` is backwards compatible with fastai's `XResNet`. \n",
    "\n",
    "It adds the following features to `XResNet`:\n",
    "\n",
    "- Compatibility with [TorchScript](https://pytorch.org/docs/stable/jit.html)\n",
    "- Support for [Stochastic Depth](https://pytorch.org/vision/main/generated/torchvision.ops.stochastic_depth.html)\n",
    "- Set SE activation independently from model activation\n",
    "- Support for [ECA](vision.models.attention_modules.html#eca), [SA](vision.models.attention_modules.html#shuffleattention), and [TA](vision.models.attention_modules.html#tripletattention) attention modules\n",
    "- Allows passing a `custom_head` on creation\n",
    "- Allows setting `stem_pool`, `block_pool`, and `head_pool` pooling layers on creation"
   ]
  },
  {
   "cell_type": "code",
   "execution_count": null,
   "metadata": {},
   "outputs": [],
   "source": [
    "#|export\n",
    "from torchvision.ops.stochastic_depth import StochasticDepth\n",
    "\n",
    "from fastai.basics import defaults\n",
    "from fastai.layers import ConvLayer, NormType, SimpleSelfAttention, AvgPool, SEModule, MaxPool, AdaptiveAvgPool, Flatten\n",
    "from fastai.vision.models.xresnet import init_cnn\n",
    "\n",
    "from fastxtend.vision.models.attention_modules import *\n",
    "from fastxtend.imports import *"
   ]
  },
  {
   "cell_type": "code",
   "execution_count": null,
   "metadata": {},
   "outputs": [],
   "source": [
    "#|hide\n",
    "from nbdev.showdoc import *"
   ]
  },
  {
   "cell_type": "markdown",
   "metadata": {},
   "source": [
    "## ResBlock -"
   ]
  },
  {
   "cell_type": "code",
   "execution_count": null,
   "metadata": {},
   "outputs": [],
   "source": [
    "#|export\n",
    "class ResBlock(Module):\n",
    "    \"Resnet block from `ni` to `nh` with `stride`\"\n",
    "    @delegates(ConvLayer.__init__)\n",
    "    def __init__(self, expansion, ni, nf, stride=1, groups=1, attn_mod=None, nh1=None, nh2=None, \n",
    "                 dw=False, g2=1, sa=False, sym=False, norm_type=NormType.Batch, act_cls=defaults.activation, \n",
    "                 ndim=2, ks=3, block_pool=AvgPool, pool_first=True, stoch_depth=0, **kwargs):\n",
    "        norm2 = (NormType.BatchZero if norm_type==NormType.Batch else\n",
    "                 NormType.InstanceZero if norm_type==NormType.Instance else norm_type)\n",
    "        if nh2 is None: nh2 = nf\n",
    "        if nh1 is None: nh1 = nh2\n",
    "        nf,ni = nf*expansion,ni*expansion\n",
    "        k0 = dict(norm_type=norm_type, act_cls=act_cls, ndim=ndim, **kwargs)\n",
    "        k1 = dict(norm_type=norm2, act_cls=None, ndim=ndim, **kwargs)\n",
    "        convpath  = [ConvLayer(ni,  nh2, ks, stride=stride, groups=ni if dw else groups, **k0),\n",
    "                     ConvLayer(nh2,  nf, ks, groups=g2, **k1)\n",
    "        ] if expansion == 1 else [\n",
    "                     ConvLayer(ni,  nh1, 1, **k0),\n",
    "                     ConvLayer(nh1, nh2, ks, stride=stride, groups=nh1 if dw else groups, **k0),\n",
    "                     ConvLayer(nh2,  nf, 1, groups=g2, **k1)]\n",
    "        if attn_mod: convpath.append(attn_mod(nf))\n",
    "        if sa: convpath.append(SimpleSelfAttention(nf,ks=1,sym=sym))\n",
    "        self.convpath = nn.Sequential(*convpath)\n",
    "        idpath = []\n",
    "        if ni!=nf: idpath.append(ConvLayer(ni, nf, 1, act_cls=None, ndim=ndim, **kwargs))\n",
    "        if stride!=1:\n",
    "            idpath.insert((1,0)[pool_first], block_pool(stride, ndim=ndim, ceil_mode=True))\n",
    "        self.idpath = nn.Sequential(*idpath)\n",
    "        self.act = act_cls()\n",
    "        self.depth = nn.Identity() if stoch_depth==0 else StochasticDepth(stoch_depth, 'batch')\n",
    "\n",
    "    def forward(self, x): return self.act(self.depth(self.convpath(x)) + self.idpath(x))"
   ]
  },
  {
   "cell_type": "markdown",
   "metadata": {},
   "source": [
    "## ResNeXt -"
   ]
  },
  {
   "cell_type": "code",
   "execution_count": null,
   "metadata": {},
   "outputs": [],
   "source": [
    "#|export\n",
    "@delegates(ResBlock)\n",
    "def ResNeXtBlock(expansion, ni, nf, groups=32, stride=1, base_width=4, **kwargs):\n",
    "    w = math.floor(nf * (base_width / 64)) * groups\n",
    "    return ResBlock(expansion, ni, nf, stride=stride, groups=groups, nh2=w, **kwargs)"
   ]
  },
  {
   "cell_type": "markdown",
   "metadata": {},
   "source": [
    "## Squeeze and Excitation -"
   ]
  },
  {
   "cell_type": "code",
   "execution_count": null,
   "metadata": {},
   "outputs": [],
   "source": [
    "#|export\n",
    "@delegates(ResBlock)\n",
    "def SEBlock(expansion, ni, nf, groups=1, se_reduction=16, stride=1, se_act_cls=defaults.activation, **kwargs):\n",
    "    \"A Squeeze and Excitation `XResNet` Block. Can set `se_act_cls` seperately.\"\n",
    "    attn_mod = partial(SEModule, reduction=se_reduction, act_cls=se_act_cls)\n",
    "    return ResBlock(expansion, ni, nf, stride=stride, groups=groups, attn_mod=attn_mod, nh1=nf*2, nh2=nf*expansion, **kwargs)"
   ]
  },
  {
   "cell_type": "code",
   "execution_count": null,
   "metadata": {},
   "outputs": [],
   "source": [
    "#|export\n",
    "@delegates(ResBlock)\n",
    "def SEResNeXtBlock(expansion, ni, nf, groups=32, se_reduction=16, stride=1, base_width=4, se_act_cls=defaults.activation, **kwargs):\n",
    "    \"A Squeeze and Excitation `XResNeXtBlock`. Can set `se_act_cls` seperately.\"\n",
    "    w = math.floor(nf * (base_width / 64)) * groups\n",
    "    attn_mod = partial(SEModule, reduction=se_reduction, act_cls=se_act_cls)\n",
    "    return ResBlock(expansion, ni, nf, stride=stride, groups=groups, attn_mod=attn_mod, nh2=w, **kwargs)"
   ]
  },
  {
   "cell_type": "markdown",
   "metadata": {},
   "source": [
    "## Efficient Channel Attention -"
   ]
  },
  {
   "cell_type": "code",
   "execution_count": null,
   "metadata": {},
   "outputs": [],
   "source": [
    "#|export\n",
    "@delegates(ResBlock)\n",
    "def ECABlock(expansion, ni, nf, groups=1, eca_ks=None, stride=1, **kwargs):\n",
    "    \"An Efficient Channel Attention `XResNet` Block\"\n",
    "    attn_mod = partial(ECA, ks=eca_ks)\n",
    "    return ResBlock(expansion, ni, nf, stride=stride, groups=groups, attn_mod=attn_mod, nh1=nf*2, nh2=nf*expansion, **kwargs)"
   ]
  },
  {
   "cell_type": "code",
   "execution_count": null,
   "metadata": {},
   "outputs": [],
   "source": [
    "#|export\n",
    "@delegates(ResBlock)\n",
    "def ECAResNeXtBlock(expansion, ni, nf, groups=32, eca_ks=None, stride=1, base_width=4, **kwargs):\n",
    "    \"An Efficient Channel Attention `XResNeXtBlock`\"\n",
    "    w = math.floor(nf * (base_width / 64)) * groups\n",
    "    attn_mod = partial(ECA, ks=eca_ks)\n",
    "    return ResBlock(expansion, ni, nf, stride=stride, groups=groups, attn_mod=attn_mod, nh2=w, **kwargs)"
   ]
  },
  {
   "cell_type": "markdown",
   "metadata": {},
   "source": [
    "## Shuffle Attention -"
   ]
  },
  {
   "cell_type": "code",
   "execution_count": null,
   "metadata": {},
   "outputs": [],
   "source": [
    "#|export\n",
    "@delegates(ResBlock)\n",
    "def SABlock(expansion, ni, nf, groups=1, sa_grps=64, stride=1, **kwargs):\n",
    "    \"A Shuffle Attention `XResNet` Block\"\n",
    "    attn_mod = partial(ShuffleAttention, groups=sa_grps)\n",
    "    return ResBlock(expansion, ni, nf, stride=stride, groups=groups, attn_mod=attn_mod, nh1=nf*2, nh2=nf*expansion, **kwargs)"
   ]
  },
  {
   "cell_type": "code",
   "execution_count": null,
   "metadata": {},
   "outputs": [],
   "source": [
    "#|export\n",
    "@delegates(ResBlock)\n",
    "def SAResNeXtBlock(expansion, ni, nf, groups=32, sa_grps=64, stride=1, base_width=4, **kwargs):\n",
    "    \"A Shuffle Attention `XResNeXtBlock`\"\n",
    "    w = math.floor(nf * (base_width / 64)) * groups\n",
    "    attn_mod = partial(ShuffleAttention, groups=sa_grps)\n",
    "    return ResBlock(expansion, ni, nf, stride=stride, groups=groups, attn_mod=attn_mod, nh2=w, **kwargs)"
   ]
  },
  {
   "cell_type": "markdown",
   "metadata": {},
   "source": [
    "## Triplet Attention -"
   ]
  },
  {
   "cell_type": "code",
   "execution_count": null,
   "metadata": {},
   "outputs": [],
   "source": [
    "#|export\n",
    "@delegates(ResBlock)\n",
    "def TABlock(expansion, ni, nf, groups=1, ta_ks=7, stride=1, **kwargs):\n",
    "    \"A Triplet Attention `XResNet` Block\"\n",
    "    attn_mod = partial(TripletAttention, ks=ta_ks)\n",
    "    return ResBlock(expansion, ni, nf, stride=stride, groups=groups, attn_mod=attn_mod, nh1=nf*2, nh2=nf*expansion, **kwargs)"
   ]
  },
  {
   "cell_type": "code",
   "execution_count": null,
   "metadata": {},
   "outputs": [],
   "source": [
    "#|export\n",
    "@delegates(ResBlock)\n",
    "def TAResNeXtBlock(expansion, ni, nf, groups=32, ta_ks=7, stride=1, base_width=4, **kwargs):\n",
    "    \"A Triplet Attention `XResNeXtBlock`\"\n",
    "    w = math.floor(nf * (base_width / 64)) * groups\n",
    "    attn_mod = partial(TripletAttention, ks=ta_ks)\n",
    "    return ResBlock(expansion, ni, nf, stride=stride, groups=groups, attn_mod=attn_mod, nh2=w, **kwargs)"
   ]
  },
  {
   "cell_type": "markdown",
   "metadata": {},
   "source": [
    "## XResNet -"
   ]
  },
  {
   "cell_type": "code",
   "execution_count": null,
   "metadata": {},
   "outputs": [],
   "source": [
    "#|export\n",
    "class XResNet(nn.Sequential):\n",
    "    \"A flexible version of fastai's XResNet\"\n",
    "    @delegates(ResBlock)\n",
    "    def __init__(self, block, expansion, layers, p=0.0, c_in=3, n_out=1000, stem_szs=(32,32,64), \n",
    "                 block_szs=[64,128,256,512], widen=1.0, sa=False, act_cls=defaults.activation, ndim=2, \n",
    "                 ks=3, stride=2, stem_layer=ConvLayer, stem_pool=MaxPool, head_pool=AdaptiveAvgPool, \n",
    "                 custom_head=None, pretrained=False, **kwargs):\n",
    "        store_attr('block,expansion,act_cls,ndim,ks')\n",
    "        if ks % 2 == 0: raise Exception('kernel size has to be odd!')\n",
    "        stem_szs = [c_in, *stem_szs]\n",
    "        stem = [stem_layer(stem_szs[i], stem_szs[i+1], ks=ks, stride=stride if i==0 else 1,\n",
    "                           act_cls=act_cls, ndim=ndim)\n",
    "                for i in range(len(stem_szs)-1)]\n",
    "\n",
    "        assert len(layers) == len(block_szs), 'Length of `layers` must match `block_szs`'\n",
    "        block_szs = [int(o*widen) for o in block_szs]\n",
    "        block_szs = [stem_szs[-1]//expansion] + block_szs\n",
    "        stem_pool = stem_pool(ks=ks, stride=stride, padding=ks//2, ndim=ndim)\n",
    "        if not is_listy(stem_pool): stem_pool = [stem_pool]\n",
    "        blocks    = self._make_blocks(layers, block_szs, sa, stride, **kwargs)\n",
    "\n",
    "        if custom_head:\n",
    "            head = custom_head(block_szs[-1]*expansion, n_out)\n",
    "            if not is_listy(head): head = [head]\n",
    "            body = nn.Sequential(*stem, *stem_pool, *blocks)\n",
    "            init_cnn(body)\n",
    "            super().__init__(*list(body), *head)\n",
    "        else:\n",
    "            head = self._make_head(block_szs[-1]*expansion, head_pool, ndim, p, n_out)\n",
    "            super().__init__(*stem, *stem_pool, *blocks, *head)\n",
    "            init_cnn(self)\n",
    "\n",
    "    def _make_blocks(self, layers, block_szs, sa, stride, **kwargs):\n",
    "        return [self._make_layer(ni=block_szs[i], nf=block_szs[i+1], blocks=l,\n",
    "                                 stride=1 if i==0 else stride, sa=sa and i==len(layers)-4, **kwargs)\n",
    "                for i,l in enumerate(layers)]\n",
    "\n",
    "    def _make_layer(self, ni, nf, blocks, stride, sa, **kwargs):\n",
    "        return nn.Sequential(\n",
    "            *[self.block(self.expansion, ni if i==0 else nf, nf, stride=stride if i==0 else 1,\n",
    "                      sa=sa and i==(blocks-1), act_cls=self.act_cls, ndim=self.ndim, ks=self.ks, **kwargs)\n",
    "              for i in range(blocks)])\n",
    "\n",
    "    def _make_head(self, ni, head_pool, ndim, p, n_out):\n",
    "        return [head_pool(sz=1, ndim=ndim), nn.Flatten(), nn.Dropout(p), nn.Linear(ni, n_out)]"
   ]
  },
  {
   "cell_type": "markdown",
   "metadata": {},
   "source": [
    "Fastxtend's `XResNet` allows a `custom_head`, setting `stem_pool`, `block_pool`, and `head_pool` pooling layers on creation, per `ResBlock` stochastic depth `stoch_depth`, and support for more attention modules."
   ]
  },
  {
   "cell_type": "markdown",
   "metadata": {},
   "source": [
    "## XResNet Models\n",
    "Predefined XResNet models"
   ]
  },
  {
   "cell_type": "code",
   "execution_count": null,
   "metadata": {},
   "outputs": [],
   "source": [
    "#|export\n",
    "@delegates(XResNet)\n",
    "def xresnet18(n_out=1000, **kwargs): \n",
    "    return XResNet(ResBlock, 1, [2, 2, 2, 2], n_out=n_out, **kwargs)\n",
    "\n",
    "@delegates(XResNet)\n",
    "def xresnet34(n_out=1000, **kwargs):  \n",
    "    return XResNet(ResBlock, 1, [3, 4, 6, 3], n_out=n_out, **kwargs)\n",
    "\n",
    "@delegates(XResNet)\n",
    "def xresnet50(n_out=1000, **kwargs): \n",
    "    return XResNet(ResBlock, 4, [3, 4, 6, 3], n_out=n_out, **kwargs)\n",
    "\n",
    "@delegates(XResNet)\n",
    "def xresnet101(n_out=1000, **kwargs): \n",
    "    return XResNet(ResBlock, 4, [3, 4, 23, 3], n_out=n_out, **kwargs)"
   ]
  },
  {
   "cell_type": "markdown",
   "metadata": {},
   "source": [
    "## XResNeXt Models\n",
    "Predefined XResNeXt models"
   ]
  },
  {
   "cell_type": "code",
   "execution_count": null,
   "metadata": {},
   "outputs": [],
   "source": [
    "#|export\n",
    "@delegates(XResNet)\n",
    "def xresnext18(n_out=1000, **kwargs): \n",
    "    return XResNet(ResNeXtBlock, 1, [2, 2, 2, 2], n_out=n_out, **kwargs)\n",
    "\n",
    "@delegates(XResNet)\n",
    "def xresnext34(n_out=1000, **kwargs):  \n",
    "    return XResNet(ResNeXtBlock, 1, [3, 4, 6, 3], n_out=n_out, **kwargs)\n",
    "\n",
    "@delegates(XResNet)\n",
    "def xresnext50(n_out=1000, **kwargs): \n",
    "    return XResNet(ResNeXtBlock, 4, [3, 4, 6, 3], n_out=n_out, **kwargs)\n",
    "\n",
    "@delegates(XResNet)\n",
    "def xresnext101(n_out=1000, **kwargs): \n",
    "    return XResNet(ResNeXtBlock, 4, [3, 4, 23, 3], n_out=n_out, **kwargs)"
   ]
  },
  {
   "cell_type": "markdown",
   "metadata": {},
   "source": [
    "## XSE-ResNet Models\n",
    "Predefined Squeeze and Excitation XResNet models"
   ]
  },
  {
   "cell_type": "code",
   "execution_count": null,
   "metadata": {},
   "outputs": [],
   "source": [
    "#|export\n",
    "@delegates(XResNet)\n",
    "def xse_resnet18(n_out=1000, **kwargs):   \n",
    "    return XResNet(SEBlock, 1, [2, 2, 2, 2], n_out=n_out, **kwargs)\n",
    "\n",
    "@delegates(XResNet)\n",
    "def xse_resnet34(n_out=1000, **kwargs):   \n",
    "    return XResNet(SEBlock, 1, [3, 4, 6, 3], n_out=n_out, **kwargs)\n",
    "\n",
    "@delegates(XResNet)\n",
    "def xse_resnet50(n_out=1000, **kwargs): \n",
    "    return XResNet(SEBlock, 4, [3, 4, 6, 3], n_out=n_out, **kwargs)\n",
    "\n",
    "@delegates(XResNet)\n",
    "def xse_resnet101(n_out=1000, **kwargs):   \n",
    "    return XResNet(SEBlock, 4, [3, 4, 23, 3], n_out=n_out, **kwargs)"
   ]
  },
  {
   "cell_type": "markdown",
   "metadata": {},
   "source": [
    "## XSE-ResNeXt Models\n",
    "Predefined Squeeze and Excitation XResNeXt models"
   ]
  },
  {
   "cell_type": "code",
   "execution_count": null,
   "metadata": {},
   "outputs": [],
   "source": [
    "#|export\n",
    "@delegates(XResNet)\n",
    "def xse_resnext18(n_out=1000, **kwargs):  \n",
    "    return XResNet(SEResNeXtBlock, 1, [2, 2, 2, 2], n_out=n_out, **kwargs)\n",
    "\n",
    "@delegates(XResNet)\n",
    "def xse_resnext34(n_out=1000, **kwargs):  \n",
    "    return XResNet(SEResNeXtBlock, 1, [3, 4, 6, 3], n_out=n_out, **kwargs)\n",
    "\n",
    "@delegates(XResNet)\n",
    "def xse_resnext50(n_out=1000, **kwargs):  \n",
    "    return XResNet(SEResNeXtBlock, 4, [3, 4, 6, 3], n_out=n_out, **kwargs)\n",
    "\n",
    "@delegates(XResNet)\n",
    "def xse_resnext101(n_out=1000, **kwargs): \n",
    "    return XResNet(SEResNeXtBlock, 4, [3, 4, 23, 3], n_out=n_out, **kwargs)"
   ]
  },
  {
   "cell_type": "markdown",
   "metadata": {},
   "source": [
    "## XECA-ResNet Models\n",
    "Predefined Efficient Channel Attention XResNet models"
   ]
  },
  {
   "cell_type": "code",
   "execution_count": null,
   "metadata": {},
   "outputs": [],
   "source": [
    "#|export\n",
    "@delegates(XResNet)\n",
    "def xeca_resnet18(n_out=1000, **kwargs):   \n",
    "    return XResNet(ECABlock, 1, [2, 2, 2, 2], n_out=n_out, **kwargs)\n",
    "\n",
    "@delegates(XResNet)\n",
    "def xeca_resnet34(n_out=1000, **kwargs):   \n",
    "    return XResNet(ECABlock, 1, [3, 4, 6, 3], n_out=n_out, **kwargs)\n",
    "\n",
    "@delegates(XResNet)\n",
    "def xeca_resnet50(n_out=1000, **kwargs): \n",
    "    return XResNet(ECABlock, 4, [3, 4, 6, 3], n_out=n_out, **kwargs)\n",
    "\n",
    "@delegates(XResNet)\n",
    "def xeca_resnet101(n_out=1000, **kwargs):   \n",
    "    return XResNet(ECABlock, 4, [3, 4, 23, 3], n_out=n_out, **kwargs)"
   ]
  },
  {
   "cell_type": "markdown",
   "metadata": {},
   "source": [
    "## XECA-ResNeXt Models\n",
    "Predefined Efficient Channel Attention XResNeXt models"
   ]
  },
  {
   "cell_type": "code",
   "execution_count": null,
   "metadata": {},
   "outputs": [],
   "source": [
    "#|export\n",
    "@delegates(XResNet)\n",
    "def xeca_resnext18(n_out=1000, **kwargs):  \n",
    "    return XResNet(ECAResNeXtBlock, 1, [2, 2, 2, 2], n_out=n_out, **kwargs)\n",
    "\n",
    "@delegates(XResNet)\n",
    "def xeca_resnext34(n_out=1000, **kwargs):  \n",
    "    return XResNet(ECAResNeXtBlock, 1, [3, 4, 6, 3], n_out=n_out, **kwargs)\n",
    "\n",
    "@delegates(XResNet)\n",
    "def xeca_resnext50(n_out=1000, **kwargs):  \n",
    "    return XResNet(ECAResNeXtBlock, 4, [3, 4, 6, 3], n_out=n_out, **kwargs)\n",
    "\n",
    "@delegates(XResNet)\n",
    "def xeca_resnext101(n_out=1000, **kwargs): \n",
    "    return XResNet(ECAResNeXtBlock, 4, [3, 4, 23, 3], n_out=n_out, **kwargs)"
   ]
  },
  {
   "cell_type": "markdown",
   "metadata": {},
   "source": [
    "## XSA-ResNet Models\n",
    "Predefined Shuffle Attention XResNet models"
   ]
  },
  {
   "cell_type": "code",
   "execution_count": null,
   "metadata": {},
   "outputs": [],
   "source": [
    "#|export\n",
    "@delegates(XResNet)\n",
    "def xsa_resnet18(n_out=1000, **kwargs):   \n",
    "    return XResNet(SABlock, 1, [2, 2, 2, 2], n_out=n_out, sa_grps=32, **kwargs)\n",
    "\n",
    "@delegates(XResNet)\n",
    "def xsa_resnet34(n_out=1000, **kwargs):   \n",
    "    return XResNet(SABlock, 1, [3, 4, 6, 3], n_out=n_out, sa_grps=32, **kwargs)\n",
    "\n",
    "@delegates(XResNet)\n",
    "def xsa_resnet50(n_out=1000, **kwargs): \n",
    "    return XResNet(SABlock, 4, [3, 4, 6, 3], n_out=n_out, **kwargs)\n",
    "\n",
    "@delegates(XResNet)\n",
    "def xsa_resnet101(n_out=1000, **kwargs):   \n",
    "    return XResNet(SABlock, 4, [3, 4, 23, 3], n_out=n_out, **kwargs)"
   ]
  },
  {
   "cell_type": "markdown",
   "metadata": {},
   "source": [
    "## XSA-ResNeXt Models\n",
    "Predefined Shuffle Attention XResNeXt models"
   ]
  },
  {
   "cell_type": "code",
   "execution_count": null,
   "metadata": {},
   "outputs": [],
   "source": [
    "#|export\n",
    "@delegates(XResNet)\n",
    "def xsa_resnext18(n_out=1000, **kwargs):  \n",
    "    return XResNet(SAResNeXtBlock, 1, [2, 2, 2, 2], n_out=n_out, sa_grps=32, **kwargs)\n",
    "\n",
    "@delegates(XResNet)\n",
    "def xsa_resnext34(n_out=1000, **kwargs):  \n",
    "    return XResNet(SAResNeXtBlock, 1, [3, 4, 6, 3], n_out=n_out, sa_grps=32, **kwargs)\n",
    "\n",
    "@delegates(XResNet)\n",
    "def xsa_resnext50(n_out=1000, **kwargs):  \n",
    "    return XResNet(SAResNeXtBlock, 4, [3, 4, 6, 3], n_out=n_out, **kwargs)\n",
    "\n",
    "@delegates(XResNet)\n",
    "def xsa_resnext101(n_out=1000, **kwargs): \n",
    "    return XResNet(SAResNeXtBlock, 4, [3, 4, 23, 3], n_out=n_out, **kwargs)"
   ]
  },
  {
   "cell_type": "markdown",
   "metadata": {},
   "source": [
    "## XTA-ResNet Models\n",
    "Predefined Triplet Attention XResNet models"
   ]
  },
  {
   "cell_type": "code",
   "execution_count": null,
   "metadata": {},
   "outputs": [],
   "source": [
    "#|export\n",
    "@delegates(XResNet)\n",
    "def xta_resnet18(n_out=1000, **kwargs):   \n",
    "    return XResNet(TABlock, 1, [2, 2, 2, 2], n_out=n_out, **kwargs)\n",
    "\n",
    "@delegates(XResNet)\n",
    "def xta_resnet34(n_out=1000, **kwargs):   \n",
    "    return XResNet(TABlock, 1, [3, 4, 6, 3], n_out=n_out, **kwargs)\n",
    "\n",
    "@delegates(XResNet)\n",
    "def xta_resnet50(n_out=1000, **kwargs): \n",
    "    return XResNet(TABlock, 4, [3, 4, 6, 3], n_out=n_out, **kwargs)\n",
    "\n",
    "@delegates(XResNet)\n",
    "def xta_resnet101(n_out=1000, **kwargs):   \n",
    "    return XResNet(TABlock, 4, [3, 4, 23, 3], n_out=n_out, **kwargs)"
   ]
  },
  {
   "cell_type": "markdown",
   "metadata": {},
   "source": [
    "## XTA-ResNeXt Models\n",
    "Predefined Triplet Attention XResNeXt models"
   ]
  },
  {
   "cell_type": "code",
   "execution_count": null,
   "metadata": {},
   "outputs": [],
   "source": [
    "#|export\n",
    "@delegates(XResNet)\n",
    "def xta_resnext18(n_out=1000, **kwargs):  \n",
    "    return XResNet(TAResNeXtBlock, 1, [2, 2, 2, 2], n_out=n_out, sa_grps=32, **kwargs)\n",
    "\n",
    "@delegates(XResNet)\n",
    "def xta_resnext34(n_out=1000, **kwargs):  \n",
    "    return XResNet(TAResNeXtBlock, 1, [3, 4, 6, 3], n_out=n_out, sa_grps=32, **kwargs)\n",
    "\n",
    "@delegates(XResNet)\n",
    "def xta_resnext50(n_out=1000, **kwargs):  \n",
    "    return XResNet(TAResNeXtBlock, 4, [3, 4, 6, 3], n_out=n_out, **kwargs)\n",
    "\n",
    "@delegates(XResNet)\n",
    "def xta_resnext101(n_out=1000, **kwargs): \n",
    "    return XResNet(TAResNeXtBlock, 4, [3, 4, 23, 3], n_out=n_out, **kwargs)"
   ]
  }
 ],
 "metadata": {
  "kernelspec": {
   "display_name": "Python 3.9.13 ('fastai')",
   "language": "python",
   "name": "python3"
  }
 },
 "nbformat": 4,
 "nbformat_minor": 2
}
