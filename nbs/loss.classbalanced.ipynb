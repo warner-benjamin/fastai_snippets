{
 "cells": [
  {
   "cell_type": "code",
   "execution_count": null,
   "metadata": {},
   "outputs": [],
   "source": [
    "# default_exp loss.classbalanced"
   ]
  },
  {
   "cell_type": "code",
   "execution_count": null,
   "metadata": {},
   "outputs": [],
   "source": [
    "#export\n",
    "import torch\n",
    "from torch import Tensor\n",
    "import torch.nn as nn\n",
    "import torch.nn.functional as F\n",
    "import torch.nn.modules.loss as L\n",
    "from fastcore.meta import delegates"
   ]
  },
  {
   "cell_type": "code",
   "execution_count": null,
   "metadata": {},
   "outputs": [],
   "source": [
    "#exporti\n",
    "class ClassBalanced(L._WeightedLoss):\n",
    "    \"Class Balanced weight calculation, from https://arxiv.org/abs/1901.05555.\"\n",
    "    def __init__(self, \n",
    "        samples_per_class:Tensor, \n",
    "        beta:float=0.99,\n",
    "        size_average=None,\n",
    "        reduce=None, \n",
    "        reduction:str='mean', \n",
    "    ):\n",
    "        num_classes = len(samples_per_class)\n",
    "\n",
    "        effective_num = 1.0 - torch.pow(beta, samples_per_class)\n",
    "        weight = (1.0 - beta) / effective_num\n",
    "        weight = weight / weight.sum() * num_classes\n",
    "\n",
    "        super().__init__(weight, size_average, reduce, reduction)\n",
    "\n",
    "    @delegates(nn.Module.to)\n",
    "    def to(self, *args, **kwargs):\n",
    "        device, dtype, non_blocking, convert_to_format = torch._C._nn._parse_to(*args, **kwargs)\n",
    "        if self.weight.device != device: self.weight = self.weight.to(device=device)\n",
    "        super().to(*args, **kwargs)\n",
    "\n",
    "# Refactored from https://github.com/vandit15/Class-balanced-loss-pytorch by Vandit Jain\n",
    "\n",
    "# Original code, Copyright 2019 by Vandit Jain\n",
    "# Licensed under the MIT License"
   ]
  },
  {
   "cell_type": "code",
   "execution_count": null,
   "metadata": {},
   "outputs": [],
   "source": [
    "#export\n",
    "class ClassBalancedCrossEntropyLoss(ClassBalanced):\n",
    "    \"Class Balanced Cross Entropy Loss, from https://arxiv.org/abs/1901.05555.\"\n",
    "    __constants__ = ['ignore_index', 'reduction', 'label_smoothing']\n",
    "    ignore_index: int\n",
    "    label_smoothing: float\n",
    "\n",
    "    def __init__(self,\n",
    "        samples_per_class:Tensor, \n",
    "        beta:float=0.99,\n",
    "        size_average=None, \n",
    "        ignore_index:int=-100,\n",
    "        reduce=None, \n",
    "        reduction:str='mean', \n",
    "        label_smoothing:float=0.0\n",
    "    ):\n",
    "        super().__init__(samples_per_class, beta, size_average, reduce, reduction)\n",
    "        self.ignore_index = ignore_index\n",
    "        self.label_smoothing = label_smoothing\n",
    "\n",
    "    def forward(self, input:Tensor, target:Tensor) -> Tensor:\n",
    "        return F.cross_entropy(input, target, weight=self.weight,\n",
    "                               ignore_index=self.ignore_index, reduction=self.reduction,\n",
    "                               label_smoothing=self.label_smoothing)"
   ]
  },
  {
   "cell_type": "code",
   "execution_count": null,
   "metadata": {},
   "outputs": [],
   "source": [
    "#export\n",
    "class ClassBalancedBCEWithLogitsLoss(ClassBalanced):\n",
    "    \"Class Balanced BCE With Logits Loss, from https://arxiv.org/abs/1901.05555.\"\n",
    "\n",
    "    def forward(self, input:Tensor, target:Tensor) -> Tensor:\n",
    "        return F.binary_cross_entropy_with_logits(input, target, weight=self.weight, reduction=self.reduction)"
   ]
  }
 ],
 "metadata": {
  "kernelspec": {
   "display_name": "Python 3.9.7 ('base')",
   "language": "python",
   "name": "python3"
  }
 },
 "nbformat": 4,
 "nbformat_minor": 2
}
