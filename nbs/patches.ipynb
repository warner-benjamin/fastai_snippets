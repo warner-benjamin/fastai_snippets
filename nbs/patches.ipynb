{
 "cells": [
  {
   "cell_type": "code",
   "execution_count": null,
   "metadata": {},
   "outputs": [],
   "source": [
    "#|default_exp patches"
   ]
  },
  {
   "attachments": {},
   "cell_type": "markdown",
   "metadata": {},
   "source": [
    "# Compatibility Patches\n",
    "> PyTorch version compatibility and fastai backport patches for fastxtend"
   ]
  },
  {
   "cell_type": "code",
   "execution_count": null,
   "metadata": {},
   "outputs": [],
   "source": [
    "#|export\n",
    "from packaging.version import parse\n",
    "\n",
    "import fastai\n",
    "from fastai.torch_core import _rebuild_from_type\n",
    "from fastai.data.core import TfmdDL\n",
    "from fastai.callback.training import ProgressCallback\n",
    "\n",
    "from fastxtend.imports import *"
   ]
  },
  {
   "cell_type": "code",
   "execution_count": null,
   "metadata": {},
   "outputs": [],
   "source": [
    "#|exporti\n",
    "_torch_version = parse(torch.__version__)\n",
    "_torch_20  = parse('2.0')\n",
    "_torch_20d = parse('2.0.0dev')\n",
    "_torch_113 = parse('1.13')\n",
    "_torch_112 = parse('1.12')"
   ]
  },
  {
   "attachments": {},
   "cell_type": "markdown",
   "metadata": {},
   "source": [
    "## fastai Backports -"
   ]
  },
  {
   "cell_type": "code",
   "execution_count": null,
   "metadata": {},
   "outputs": [],
   "source": [
    "#|exporti\n",
    "# This has been upstreamed in fastai 2.7.11\n",
    "if parse(fastai.__version__) < parse('2.7.11'):\n",
    "    @patch\n",
    "    def to(self:TfmdDL, device):\n",
    "        self.device = device\n",
    "        for tfm in self.after_batch.fs:\n",
    "            # Check that tfm.to is callable as TabularPandas & transforms set tfm.to as an object\n",
    "            if hasattr(tfm, 'to') and callable(tfm.to):\n",
    "                tfm.to(device)\n",
    "            else:\n",
    "                for a in L(getattr(tfm, 'parameters', None)):\n",
    "                    setattr(tfm, a, getattr(tfm, a).to(device))\n",
    "        return self"
   ]
  },
  {
   "attachments": {},
   "cell_type": "markdown",
   "metadata": {},
   "source": [
    "## PyTorch 1.12 and 1.13 -"
   ]
  },
  {
   "cell_type": "code",
   "execution_count": null,
   "metadata": {},
   "outputs": [],
   "source": [
    "#|export\n",
    "if parse(fastai.__version__) < parse('2.7.12'):\n",
    "    @patch\n",
    "    def clone(self:TensorBase, *, memory_format=None):\n",
    "        cls = type(self)\n",
    "        return self.as_subclass(Tensor).clone(memory_format=memory_format).as_subclass(cls)\n",
    "\n",
    "    @patch\n",
    "    def new_empty(self:TensorBase, size, *, dtype=None, layout=None, device=None, pin_memory=False, requires_grad=False):\n",
    "        cls = type(self)\n",
    "        if _torch_version < _torch_113 and layout is None:\n",
    "            layout = torch.strided\n",
    "        if _torch_version < _torch_112:\n",
    "            return super(TensorBase, self).new_empty(size, dtype=dtype, layout=layout, device=device, pin_memory=pin_memory, requires_grad=requires_grad)\n",
    "        return self.as_subclass(Tensor).new_empty(size, dtype=dtype, layout=layout, device=device, pin_memory=pin_memory, requires_grad=requires_grad).as_subclass(cls)\n",
    "\n",
    "    @patch\n",
    "    def new_empty(self:TensorBase, *size, dtype=None, layout=None, device=None, pin_memory=False, requires_grad=False):\n",
    "        cls = type(self)\n",
    "        if _torch_version < _torch_113 and layout is None:\n",
    "            layout = torch.strided\n",
    "        if _torch_version < _torch_112:\n",
    "            return super(TensorBase, self).new_empty(*size, dtype=dtype, layout=layout, device=device, pin_memory=pin_memory, requires_grad=requires_grad)\n",
    "        return self.as_subclass(Tensor).new_empty(*size, dtype=dtype, layout=layout, device=device, pin_memory=pin_memory, requires_grad=requires_grad).as_subclass(cls)"
   ]
  },
  {
   "cell_type": "code",
   "execution_count": null,
   "metadata": {},
   "outputs": [],
   "source": [
    "#|hide\n",
    "from copy import deepcopy"
   ]
  },
  {
   "cell_type": "code",
   "execution_count": null,
   "metadata": {},
   "outputs": [],
   "source": [
    "#|hide\n",
    "x = TensorBase(torch.rand(4,3,16,16))\n",
    "x.test = 'test metadata'\n",
    "y = deepcopy(x)\n",
    "assert hasattr(y, 'test') and y.test == x.test"
   ]
  },
  {
   "attachments": {},
   "cell_type": "markdown",
   "metadata": {},
   "source": [
    "## PyTorch 2.0 Nightly -"
   ]
  },
  {
   "cell_type": "code",
   "execution_count": null,
   "metadata": {},
   "outputs": [],
   "source": [
    "#|exporti\n",
    "if _torch_version >= _torch_20d and _torch_version < _torch_20:\n",
    "    def _rebuild_tensor(storage, storage_offset, size, stride, dtype):\n",
    "        # first construct a tensor with the correct dtype/device\n",
    "        t = torch.tensor([], dtype=dtype, device=storage.untyped().device)\n",
    "        return t.set_(storage.untyped(), storage_offset, size, stride)\n",
    "\n",
    "    def _rebuild_tensor_v2(\n",
    "        storage, storage_offset, size, stride, dtype, requires_grad, backward_hooks,\n",
    "    ):\n",
    "        tensor = _rebuild_tensor(storage, storage_offset, size, stride, dtype)\n",
    "        tensor.requires_grad = requires_grad\n",
    "        # NB: This line exists only for backwards compatibility; the\n",
    "        # general expectation is that backward_hooks is an empty\n",
    "        # OrderedDict.  See Note [Don't serialize hooks]\n",
    "        tensor._backward_hooks = backward_hooks\n",
    "        return tensor\n",
    "\n",
    "    @patch\n",
    "    def __reduce_ex__(self:TensorBase, proto):\n",
    "        torch.utils.hooks.warn_if_has_hooks(self)\n",
    "        args = (self.untyped_storage(), self.storage_offset(), tuple(self.size()), self.stride(), self.dtype)\n",
    "        if self.is_quantized:\n",
    "            args = args + (self.q_scale(), self.q_zero_point())\n",
    "        args = args + (self.requires_grad, OrderedDict())\n",
    "        f = torch._utils._rebuild_qtensor if self.is_quantized else _rebuild_tensor_v2\n",
    "        return (_rebuild_from_type, (f, type(self), args, self.__dict__))\n",
    "\n",
    "    @patch\n",
    "    def after_batch(self:ProgressCallback):\n",
    "        self.pbar.update(self.iter+1)\n",
    "        if hasattr(self, 'smooth_loss'):\n",
    "            self.pbar.comment = f'{self.smooth_loss.item():.4f}'"
   ]
  }
 ],
 "metadata": {
  "kernelspec": {
   "display_name": "python3",
   "language": "python",
   "name": "python3"
  }
 },
 "nbformat": 4,
 "nbformat_minor": 2
}
