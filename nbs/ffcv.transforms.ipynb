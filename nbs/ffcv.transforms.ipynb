{
 "cells": [
  {
   "cell_type": "code",
   "execution_count": null,
   "metadata": {},
   "outputs": [],
   "source": [
    "#|default_exp ffcv.transforms"
   ]
  },
  {
   "cell_type": "code",
   "execution_count": null,
   "metadata": {},
   "outputs": [],
   "source": [
    "#|export\n",
    "from __future__ import annotations\n",
    "\n",
    "import math\n",
    "import numpy as np\n",
    "from numpy.random import rand\n",
    "from typing import Callable, Optional, Tuple\n",
    "from dataclasses import replace\n",
    "\n",
    "from ffcv.pipeline.compiler import Compiler\n",
    "from ffcv.pipeline.allocation_query import AllocationQuery\n",
    "from ffcv.pipeline.operation import Operation\n",
    "from ffcv.pipeline.state import State\n",
    "\n",
    "from ffcv.transforms.cutout import Cutout\n",
    "from ffcv.transforms.flip import RandomHorizontalFlip as _RandomHorizontalFlip\n",
    "from ffcv.transforms.random_resized_crop import RandomResizedCrop\n",
    "from ffcv.transforms.translate import RandomTranslate\n",
    "from ffcv.transforms.color_jitter import RandomBrightness as _RandomBrightness\n",
    "from ffcv.transforms.color_jitter import RandomContrast as _RandomContrast\n",
    "from ffcv.transforms.color_jitter import RandomSaturation as _RandomSaturation\n",
    "from ffcv.transforms.poisoning import Poison\n",
    "from ffcv.transforms.replace_label import ReplaceLabel\n",
    "from ffcv.transforms.common import Squeeze"
   ]
  },
  {
   "cell_type": "code",
   "execution_count": null,
   "metadata": {},
   "outputs": [],
   "source": [
    "#|export\n",
    "_all_ = ['RandomResizedCrop', 'RandomTranslate', 'Cutout', 'Poison', 'ReplaceLabel', 'Squeeze']"
   ]
  },
  {
   "cell_type": "code",
   "execution_count": null,
   "metadata": {},
   "outputs": [],
   "source": [
    "#|hide\n",
    "from nbdev.showdoc import show_doc"
   ]
  },
  {
   "attachments": {},
   "cell_type": "markdown",
   "metadata": {},
   "source": [
    "# FFCV Transforms\n",
    "> Image transformations from FFCV"
   ]
  },
  {
   "attachments": {},
   "cell_type": "markdown",
   "metadata": {},
   "source": [
    "Also contains transforms not yet merged into FFCV. FFCV Transforms are a doc reference for transforms provided by FFCV."
   ]
  },
  {
   "attachments": {},
   "cell_type": "markdown",
   "metadata": {},
   "source": [
    "## FFCV Transforms"
   ]
  },
  {
   "attachments": {},
   "cell_type": "markdown",
   "metadata": {},
   "source": [
    "The FFCV Transforms here have had thier initilization arguments harminized, and are otherwise identical to their FFCV counterparts."
   ]
  },
  {
   "cell_type": "code",
   "execution_count": null,
   "metadata": {},
   "outputs": [],
   "source": [
    "show_doc(RandomResizedCrop)"
   ]
  },
  {
   "cell_type": "code",
   "execution_count": null,
   "metadata": {},
   "outputs": [],
   "source": [
    "#|export\n",
    "class RandomHorizontalFlip(_RandomHorizontalFlip):\n",
    "    \"\"\"\n",
    "    Flip the image horizontally with probability flip_prob.\n",
    "    Operates on raw arrays (not tensors).\n",
    "\n",
    "    Parameters\n",
    "    ----------\n",
    "    prob : float\n",
    "        The probability with which to flip each image in the batch\n",
    "        horizontally.\n",
    "    \"\"\"\n",
    "\n",
    "    def __init__(self, prob: float = 0.5):\n",
    "        super().__init__(prob)"
   ]
  },
  {
   "cell_type": "code",
   "execution_count": null,
   "metadata": {},
   "outputs": [],
   "source": [
    "show_doc(Cutout)"
   ]
  },
  {
   "cell_type": "code",
   "execution_count": null,
   "metadata": {},
   "outputs": [],
   "source": [
    "show_doc(RandomTranslate)"
   ]
  },
  {
   "cell_type": "code",
   "execution_count": null,
   "metadata": {},
   "outputs": [],
   "source": [
    "#|export\n",
    "class RandomBrightness(_RandomBrightness):\n",
    "    '''\n",
    "    Randomly adjust image brightness. Operates on raw arrays (not tensors).\n",
    "\n",
    "    Parameters\n",
    "    ----------\n",
    "    prob : float\n",
    "        probability to apply brightness\n",
    "    magnitude : float\n",
    "        randomly choose brightness enhancement factor on [max(0, 1-magnitude), 1+magnitude]\n",
    "    '''\n",
    "    def __init__(self, prob:float, magnitude: float):\n",
    "        super().__init__(magnitude, prob)"
   ]
  },
  {
   "cell_type": "code",
   "execution_count": null,
   "metadata": {},
   "outputs": [],
   "source": [
    "#|export\n",
    "class RandomContrast(_RandomContrast):\n",
    "    '''\n",
    "    Randomly adjust image contrast. Operates on raw arrays (not tensors).\n",
    "\n",
    "    Parameters\n",
    "    ----------\n",
    "    prob : float\n",
    "        probability to apply contrast\n",
    "    magnitude : float\n",
    "        randomly choose contrast enhancement factor on [max(0, 1-magnitude), 1+magnitude]\n",
    "    '''\n",
    "    def __init__(self, prob:float, magnitude:float):\n",
    "        super().__init__(magnitude, prob)"
   ]
  },
  {
   "cell_type": "code",
   "execution_count": null,
   "metadata": {},
   "outputs": [],
   "source": [
    "#|export\n",
    "class RandomSaturation(Operation):\n",
    "    '''\n",
    "    Randomly adjust image color balance. Operates on raw arrays (not tensors).\n",
    "\n",
    "    Parameters\n",
    "    ----------\n",
    "    prob : float\n",
    "        probability to apply saturation\n",
    "    magnitude : float\n",
    "        randomly choose color balance enhancement factor on [max(0, 1-magnitude), 1+magnitude]\n",
    "    '''\n",
    "    def __init__(self, prob:float, magnitude:float):\n",
    "        super().__init__(magnitude, prob)"
   ]
  },
  {
   "cell_type": "code",
   "execution_count": null,
   "metadata": {},
   "outputs": [],
   "source": [
    "show_doc(Poison)"
   ]
  },
  {
   "cell_type": "code",
   "execution_count": null,
   "metadata": {},
   "outputs": [],
   "source": [
    "show_doc(ReplaceLabel)"
   ]
  },
  {
   "cell_type": "code",
   "execution_count": null,
   "metadata": {},
   "outputs": [],
   "source": [
    "show_doc(Squeeze)"
   ]
  },
  {
   "attachments": {},
   "cell_type": "markdown",
   "metadata": {},
   "source": [
    "## Additional Transforms"
   ]
  },
  {
   "attachments": {},
   "cell_type": "markdown",
   "metadata": {},
   "source": [
    "These transforms are pending acceptance and/or release for the next version of FFCV and will be converted to a documentation reference."
   ]
  },
  {
   "cell_type": "code",
   "execution_count": null,
   "metadata": {},
   "outputs": [],
   "source": [
    "#|export\n",
    "class RandomCutout(Cutout):\n",
    "    \"\"\"Random cutout data augmentation (https://arxiv.org/abs/1708.04552).\n",
    "\n",
    "    Parameters\n",
    "    ----------\n",
    "    prob : float\n",
    "        Probability of applying on each image.\n",
    "    crop_size : int\n",
    "        Size of the random square to cut out.\n",
    "    fill : Tuple[int, int, int], optional\n",
    "        An RGB color ((0, 0, 0) by default) to fill the cutout square with.\n",
    "        Useful for when a normalization layer follows cutout, in which case\n",
    "        you can set the fill such that the square is zero post-normalization.\n",
    "    \"\"\"\n",
    "    def __init__(self, prob: float, crop_size: int, fill: Tuple[int, int, int] = (0, 0, 0)):\n",
    "        super().__init__(crop_size, fill)\n",
    "        self.prob = np.clip(prob, 0., 1.)\n",
    "\n",
    "    def generate_code(self) -> Callable:\n",
    "        my_range = Compiler.get_iterator()\n",
    "        crop_size = self.crop_size\n",
    "        fill = self.fill\n",
    "        prob = self.prob\n",
    "\n",
    "        def cutout_square(images, *_):\n",
    "            should_cutout = rand(images.shape[0]) < prob\n",
    "            for i in my_range(images.shape[0]):\n",
    "                if should_cutout[i]:\n",
    "                    # Generate random origin\n",
    "                    coord = (\n",
    "                        np.random.randint(images.shape[1] - crop_size + 1),\n",
    "                        np.random.randint(images.shape[2] - crop_size + 1),\n",
    "                    )\n",
    "                    # Black out image in-place\n",
    "                    images[i, coord[0]:coord[0] + crop_size, coord[1]:coord[1] + crop_size] = fill\n",
    "            return images\n",
    "\n",
    "        cutout_square.is_parallel = True\n",
    "        return cutout_square"
   ]
  },
  {
   "cell_type": "code",
   "execution_count": null,
   "metadata": {},
   "outputs": [],
   "source": [
    "#|export\n",
    "\n",
    "# Implementation inspired by fastai https://docs.fast.ai/vision.augment.html#randomerasing\n",
    "# fastai - Apache License 2.0 - Copyright (c) 2023 fast.ai\n",
    "class RandomErasing(Operation):\n",
    "    \"\"\"Random erasing data augmentation (https://arxiv.org/abs/1708.04896).\n",
    "\n",
    "    Parameters\n",
    "    ----------\n",
    "    prob : float\n",
    "        Probability of applying on each image.\n",
    "    min_area : float\n",
    "        Minimum erased area as percentage of image size.\n",
    "    max_area : float\n",
    "        Maximum erased area as percentage of image size.\n",
    "    min_aspect : float\n",
    "        Minimum aspect ratio of erased area.\n",
    "    max_count : int\n",
    "        Maximum number of erased blocks per image. Erased Area is scaled by max_count.\n",
    "    fill_mean : Tuple[int, int, int], optional\n",
    "        The RGB color mean (ImageNet's (124, 116, 103) by default) to randomly fill the\n",
    "        erased area with. Should be the mean of dataset or pretrained dataset.\n",
    "    fill_std : Tuple[int, int, int], optional\n",
    "        The RGB color standard deviation (ImageNet's (58, 57, 57) by default) to randomly\n",
    "        fill the erased area with. Should be the st. dev of dataset or pretrained dataset.\n",
    "    fast_fill : bool\n",
    "        Default of True is ~2X faster by generating noise once per batch and randomly\n",
    "        selecting slices of the noise instead of generating unique noise per each image.\n",
    "    \"\"\"\n",
    "    def __init__(self, prob: float, min_area: float = 0.02, max_area: float = 0.3,\n",
    "                 min_aspect: float = 0.3, max_count: int = 1,\n",
    "                 fill_mean: Tuple[int, int, int] = (124, 116, 103),\n",
    "                 fill_std: Tuple[int, int, int] = (58, 57, 57),\n",
    "                 fast_fill : bool = True):\n",
    "        super().__init__()\n",
    "        self.prob = np.clip(prob, 0., 1.)\n",
    "        self.min_area = np.clip(min_area, 0., 1.)\n",
    "        self.max_area = np.clip(max_area, 0., 1.)\n",
    "        self.log_ratio = (math.log(np.clip(min_aspect, 0., 1.)), math.log(1/np.clip(min_aspect, 0., 1.)))\n",
    "        self.max_count = max_count\n",
    "        self.fill_mean = np.array(fill_mean)\n",
    "        self.fill_std = np.array(fill_std)\n",
    "        self.fast_fill = fast_fill\n",
    "\n",
    "    def generate_code(self) -> Callable:\n",
    "        my_range = Compiler.get_iterator()\n",
    "        prob = self.prob\n",
    "        min_area = self.min_area\n",
    "        max_area = self.max_area\n",
    "        log_ratio = self.log_ratio\n",
    "        max_count = self.max_count\n",
    "        fill_mean = self.fill_mean\n",
    "        fill_std = self.fill_std\n",
    "        fast_fill = self.fast_fill\n",
    "\n",
    "        def random_erase(images, *_):\n",
    "            if fast_fill:\n",
    "                noise = fill_mean + (fill_std * np.random.randn(images.shape[1], images.shape[2], images.shape[3])).astype(images.dtype)\n",
    "\n",
    "            should_cutout = rand(images.shape[0]) < prob\n",
    "            for i in my_range(images.shape[0]):\n",
    "                if should_cutout[i]:\n",
    "                    count = np.random.randint(1, max_count) if max_count > 1 else 1\n",
    "                    for j in range(count):\n",
    "                        # Randomly select bounds\n",
    "                        area = np.random.uniform(min_area, max_area, 1) * images.shape[1] * images.shape[2] / count\n",
    "                        aspect = np.exp(np.random.uniform(log_ratio[0], log_ratio[1], 1))\n",
    "                        bound = (\n",
    "                            int(round(np.sqrt(area * aspect).item())),\n",
    "                            int(round(np.sqrt(area / aspect).item())),\n",
    "                        )\n",
    "                        # Select random erased area\n",
    "                        coord = (\n",
    "                            np.random.randint(0, max(1, images.shape[1] - bound[0])),\n",
    "                            np.random.randint(0, max(1, images.shape[2] - bound[1])),\n",
    "                        )\n",
    "                        # Fill image with random noise in-place\n",
    "                        if fast_fill:\n",
    "                            images[i, coord[0]:coord[0] + bound[0], coord[1]:coord[1] + bound[1]] =\\\n",
    "                                noise[coord[0]:coord[0] + bound[0], coord[1]:coord[1] + bound[1]]\n",
    "                        else:\n",
    "                            noise = fill_mean + (fill_std * np.random.randn(bound[0], bound[1], images.shape[3])).astype(images.dtype)\n",
    "                            images[i, coord[0]:coord[0] + bound[0], coord[1]:coord[1] + bound[1]] = noise\n",
    "            return images\n",
    "\n",
    "        random_erase.is_parallel = True\n",
    "        return random_erase\n",
    "\n",
    "    def declare_state_and_memory(self, previous_state: State) -> Tuple[State, Optional[AllocationQuery]]:\n",
    "        return replace(previous_state, jit_mode=True), None"
   ]
  },
  {
   "cell_type": "code",
   "execution_count": null,
   "metadata": {},
   "outputs": [],
   "source": [
    "#|export\n",
    "# RandomHue adapted from pending FFCV PR: https://github.com/libffcv/ffcv/pull/226\n",
    "# FFCV - Apache License 2.0 - Copyright (c) 2022 FFCV Team\n",
    "\n",
    "# Code for Hue adapted from:\n",
    "# https://sanje2v.wordpress.com/2021/01/11/accelerating-data-transforms/\n",
    "# https://stackoverflow.com/questions/8507885\n",
    "\n",
    "class RandomHue(Operation):\n",
    "    '''\n",
    "    Randomly adjust image hue Operates on raw arrays (not tensors).\n",
    "\n",
    "    Parameters\n",
    "    ----------\n",
    "    prob : float\n",
    "        probability to apply hue shift\n",
    "    magnitude : float\n",
    "        Randomly choose hue factor on [-magnitude, magnitude], clipped to [-0.5, 0.5].\n",
    "        0.5 and -0.5 give a complete reversal of the hue channel. 0 means no shift.\n",
    "    '''\n",
    "    def __init__(self, prob:float, magnitude:float):\n",
    "        super().__init__()\n",
    "        self.prob = prob\n",
    "        self.magnitude  = np.clip(magnitude, 0, 0.5)\n",
    "\n",
    "    def generate_code(self):\n",
    "        my_range = Compiler.get_iterator()\n",
    "        prob = self.prob\n",
    "        magnitude = self.magnitude\n",
    "\n",
    "        def hue(images, dst):\n",
    "            apply_hue = np.random.rand(images.shape[0]) < prob\n",
    "            magnitudes = np.random.uniform(-magnitude, magnitude, images.shape[0])\n",
    "            for i in my_range(images.shape[0]):\n",
    "                if apply_hue[i] and magnitudes[i]!=0.:\n",
    "                    img = images[i] / 255.0\n",
    "                    hue_factor_radians = magnitudes[i] * 2.0 * np.pi\n",
    "                    cosA = np.cos(hue_factor_radians)\n",
    "                    sinA = np.sin(hue_factor_radians)\n",
    "                    hue_rotation_matrix =\\\n",
    "                        [[cosA + (1.0 - cosA) / 3.0, 1./3. * (1.0 - cosA) - np.sqrt(1./3.) * sinA, 1./3. * (1.0 - cosA) + np.sqrt(1./3.) * sinA],\n",
    "                        [1./3. * (1.0 - cosA) + np.sqrt(1./3.) * sinA, cosA + 1./3.*(1.0 - cosA), 1./3. * (1.0 - cosA) - np.sqrt(1./3.) * sinA],\n",
    "                        [1./3. * (1.0 - cosA) - np.sqrt(1./3.) * sinA, 1./3. * (1.0 - cosA) + np.sqrt(1./3.) * sinA, cosA + 1./3. * (1.0 - cosA)]]\n",
    "                    hue_rotation_matrix = np.array(hue_rotation_matrix, dtype=img.dtype)\n",
    "\n",
    "                    for row in range(img.shape[0]):\n",
    "                        for col in range(img.shape[1]):\n",
    "                            r, g, b = img[row, col, :]\n",
    "                            img[row, col, 0] = r * hue_rotation_matrix[0, 0] + g * hue_rotation_matrix[0, 1] + b * hue_rotation_matrix[0, 2]\n",
    "                            img[row, col, 1] = r * hue_rotation_matrix[1, 0] + g * hue_rotation_matrix[1, 1] + b * hue_rotation_matrix[1, 2]\n",
    "                            img[row, col, 2] = r * hue_rotation_matrix[2, 0] + g * hue_rotation_matrix[2, 1] + b * hue_rotation_matrix[2, 2]\n",
    "                    dst[i] = np.asarray(np.clip(img * 255., 0, 255), dtype=np.uint8)\n",
    "                else:\n",
    "                    dst[i] = images[i]\n",
    "            return dst\n",
    "\n",
    "        hue.is_parallel = True\n",
    "        return hue\n",
    "\n",
    "    def declare_state_and_memory(self, previous_state: State) -> Tuple[State, Optional[AllocationQuery]]:\n",
    "        return (replace(previous_state, jit_mode=True), AllocationQuery(shape=previous_state.shape, dtype=previous_state.dtype))"
   ]
  }
 ],
 "metadata": {
  "kernelspec": {
   "display_name": "python3",
   "language": "python",
   "name": "python3"
  }
 },
 "nbformat": 4,
 "nbformat_minor": 2
}
