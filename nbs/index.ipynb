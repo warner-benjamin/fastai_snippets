{
 "cells": [
  {
   "cell_type": "markdown",
   "metadata": {},
   "source": [
    "# fastxtend\n",
    "> fastxtend (fastai extensions) is a collection of useful tools and extensions I have created or adapted for version 2 of the fastai framework."
   ]
  },
  {
   "cell_type": "markdown",
   "metadata": {},
   "source": [
    "## Install\n",
    "\n",
    "To install, run:\n",
    "```\n",
    "pip install git+https://github.com/warner-benjamin/fastxtend.git\n",
    "```\n",
    "\n",
    "Or to create an editable install:\n",
    "```\n",
    "git clone https://github.com/warner-benjamin/fastxtend.git\n",
    "cd fastxtend\n",
    "pip install -e \".[dev]\"\n",
    "```"
   ]
  },
  {
   "cell_type": "markdown",
   "metadata": {},
   "source": [
    "## Requirements\n",
    "\n",
    "fastxtend requires fastai to be installed. See http://docs.fast.ai/ for installation instructions."
   ]
  },
  {
   "cell_type": "markdown",
   "metadata": {},
   "source": [
    "## Documentation\n",
    "https://warner-benjamin.github.io/fastxtend/"
   ]
  }
 ],
 "metadata": {},
 "nbformat": 4,
 "nbformat_minor": 2
}
