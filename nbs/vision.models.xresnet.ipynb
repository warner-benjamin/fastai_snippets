{
 "cells": [
  {
   "cell_type": "code",
   "execution_count": null,
   "metadata": {},
   "outputs": [],
   "source": [
    "# default_exp vision.models.xresnet"
   ]
  },
  {
   "cell_type": "markdown",
   "metadata": {},
   "source": [
    "# Flexible XResNet\n",
    "> Fastai's XResNet, but with more flexibility."
   ]
  },
  {
   "cell_type": "code",
   "execution_count": null,
   "metadata": {},
   "outputs": [],
   "source": [
    "#export\n",
    "import torch.nn as nn\n",
    "from fastcore.basics import store_attr\n",
    "from fastcore.meta import delegates\n",
    "from fastai.layers import ConvLayer, MaxPool, AdaptiveAvgPool, Flatten, defaults\n",
    "from fastai.vision.models.xresnet import init_cnn\n",
    "from fastxtend.vision.models.resnet_blocks import *\n",
    "from fastxtend.imports import *"
   ]
  },
  {
   "cell_type": "markdown",
   "metadata": {},
   "source": [
    "## XResNet Definition-"
   ]
  },
  {
   "cell_type": "code",
   "execution_count": null,
   "metadata": {},
   "outputs": [],
   "source": [
    "#export\n",
    "class XResNet(nn.Sequential):\n",
    "    @delegates(ResBlock)\n",
    "    def __init__(self, block, expansion, layers, p=0.0, c_in=3, n_out=1000, stem_szs=(32,32,64), \n",
    "                 block_szs=[64,128,256,512], widen=1.0, sa=False, act_cls=defaults.activation, ndim=2, \n",
    "                 ks=3, stride=2, stem_layer=ConvLayer, stem_pool=MaxPool, head_pool=AdaptiveAvgPool, \n",
    "                 custom_head=None, **kwargs):\n",
    "        store_attr('block,expansion,act_cls,ndim,ks')\n",
    "        if ks % 2 == 0: raise Exception('kernel size has to be odd!')\n",
    "        stem_szs = [c_in, *stem_szs]\n",
    "        stem = [stem_layer(stem_szs[i], stem_szs[i+1], ks=ks, stride=stride if i==0 else 1,\n",
    "                           act_cls=act_cls, ndim=ndim)\n",
    "                for i in range(3)]\n",
    "\n",
    "        assert len(layers) == len(block_szs), 'Length of `layers` must match `block_szs`'\n",
    "        block_szs = [int(o*widen) for o in block_szs]\n",
    "        block_szs = [stem_szs[-1]//expansion] + block_szs\n",
    "        stem_pool = stem_pool(ks=ks, stride=stride, padding=ks//2, ndim=ndim)\n",
    "        if not is_listy(stem_pool): stem_pool = [stem_pool]\n",
    "        blocks    = self._make_blocks(layers, block_szs, sa, stride, **kwargs)\n",
    "\n",
    "        if custom_head:\n",
    "            head = custom_head(block_szs[-1]*expansion, n_out)\n",
    "            if not is_listy(head): head = [head]\n",
    "            body = nn.Sequential(*stem, *stem_pool, *blocks)\n",
    "            init_cnn(body)\n",
    "            super().__init__(*list(body), *head)\n",
    "        else:\n",
    "            head = self._make_head(block_szs[-1]*expansion, head_pool, ndim, p, n_out)\n",
    "            super().__init__(*stem, *stem_pool, *blocks, *head)\n",
    "            init_cnn(self)\n",
    "\n",
    "    def _make_blocks(self, layers, block_szs, sa, stride, **kwargs):\n",
    "        return [self._make_layer(ni=block_szs[i], nf=block_szs[i+1], blocks=l,\n",
    "                                 stride=1 if i==0 else stride, sa=sa and i==len(layers)-4, **kwargs)\n",
    "                for i,l in enumerate(layers)]\n",
    "\n",
    "    def _make_layer(self, ni, nf, blocks, stride, sa, **kwargs):\n",
    "        return nn.Sequential(\n",
    "            *[self.block(self.expansion, ni if i==0 else nf, nf, stride=stride if i==0 else 1,\n",
    "                      sa=sa and i==(blocks-1), act_cls=self.act_cls, ndim=self.ndim, ks=self.ks, **kwargs)\n",
    "              for i in range(blocks)])\n",
    "\n",
    "    def _make_head(self, ni, head_pool, ndim, p, n_out):\n",
    "        return [head_pool(sz=1, ndim=ndim), Flatten(), nn.Dropout(p), nn.Linear(ni, n_out)]"
   ]
  },
  {
   "cell_type": "markdown",
   "metadata": {},
   "source": [
    "## XResNet -"
   ]
  },
  {
   "cell_type": "code",
   "execution_count": null,
   "metadata": {},
   "outputs": [],
   "source": [
    "#export\n",
    "@delegates(XResNet)\n",
    "def xresnet18(n_out=1000, c_in=3, p=0.0, act_cls=defaults.activation, **kwargs): \n",
    "    return XResNet(ResBlock, 1, [2, 2, 2, 2], n_out=n_out, **kwargs)\n",
    "\n",
    "@delegates(XResNet)\n",
    "def xresnet34(n_out=1000, **kwargs):  \n",
    "    return XResNet(ResBlock, 1, [3, 4, 6, 3], n_out=n_out, **kwargs)\n",
    "\n",
    "@delegates(XResNet)\n",
    "def xresnet50(n_out=1000, **kwargs): \n",
    "    return XResNet(ResBlock, 4, [3, 4, 6, 3], n_out=n_out, **kwargs)\n",
    "\n",
    "@delegates(XResNet)\n",
    "def xresnet101(n_out=1000, **kwargs): \n",
    "    return XResNet(ResBlock, 4, [3, 4, 23, 3], n_out=n_out, **kwargs)"
   ]
  },
  {
   "cell_type": "markdown",
   "metadata": {},
   "source": [
    "## XResNeXt -"
   ]
  },
  {
   "cell_type": "code",
   "execution_count": null,
   "metadata": {},
   "outputs": [],
   "source": [
    "#export\n",
    "@delegates(XResNet)\n",
    "def xresnext18(n_out=1000, **kwargs): \n",
    "    return XResNet(ResNeXtBlock, 1, [2, 2, 2, 2], n_out=n_out, **kwargs)\n",
    "\n",
    "@delegates(XResNet)\n",
    "def xresnext34(n_out=1000, **kwargs):  \n",
    "    return XResNet(ResNeXtBlock, 1, [3, 4, 6, 3], n_out=n_out, **kwargs)\n",
    "\n",
    "@delegates(XResNet)\n",
    "def xresnext50(n_out=1000, **kwargs): \n",
    "    return XResNet(ResNeXtBlock, 4, [3, 4, 6, 3], n_out=n_out, **kwargs)\n",
    "\n",
    "@delegates(XResNet)\n",
    "def xresnext101(n_out=1000, **kwargs): \n",
    "    return XResNet(ResNeXtBlock, 4, [3, 4, 23, 3], n_out=n_out, **kwargs)"
   ]
  },
  {
   "cell_type": "markdown",
   "metadata": {},
   "source": [
    "## XSE-ResNet -"
   ]
  },
  {
   "cell_type": "code",
   "execution_count": null,
   "metadata": {},
   "outputs": [],
   "source": [
    "#export\n",
    "@delegates(XResNet)\n",
    "def xse_resnet18(n_out=1000, **kwargs):   \n",
    "    return XResNet(SEBlock, 1, [2, 2, 2, 2], n_out=n_out, **kwargs)\n",
    "\n",
    "@delegates(XResNet)\n",
    "def xse_resnet34(n_out=1000, **kwargs):   \n",
    "    return XResNet(SEBlock, 1, [3, 4, 6, 3], n_out=n_out, **kwargs)\n",
    "\n",
    "@delegates(XResNet)\n",
    "def xse_resnet50(n_out=1000, **kwargs): \n",
    "    return XResNet(SEBlock, 4, [3, 4, 6, 3], n_out=n_out, **kwargs)\n",
    "\n",
    "@delegates(XResNet)\n",
    "def xse_resnet101(n_out=1000, **kwargs):   \n",
    "    return XResNet(SEBlock, 4, [3, 4, 23, 3], n_out=n_out, **kwargs)"
   ]
  },
  {
   "cell_type": "markdown",
   "metadata": {},
   "source": [
    "## XSE-ResNeXt -"
   ]
  },
  {
   "cell_type": "code",
   "execution_count": null,
   "metadata": {},
   "outputs": [],
   "source": [
    "#export\n",
    "@delegates(XResNet)\n",
    "def xse_resnext18(n_out=1000, **kwargs):  \n",
    "    return XResNet(SEResNeXtBlock, 1, [2, 2, 2, 2], n_out=n_out, **kwargs)\n",
    "\n",
    "@delegates(XResNet)\n",
    "def xse_resnext34(n_out=1000, **kwargs):  \n",
    "    return XResNet(SEResNeXtBlock, 1, [3, 4, 6, 3], n_out=n_out, **kwargs)\n",
    "\n",
    "@delegates(XResNet)\n",
    "def xse_resnext50(n_out=1000, **kwargs):  \n",
    "    return XResNet(SEResNeXtBlock, 4, [3, 4, 6, 3], n_out=n_out, **kwargs)\n",
    "\n",
    "@delegates(XResNet)\n",
    "def xse_resnext101(n_out=1000, **kwargs): \n",
    "    return XResNet(SEResNeXtBlock, 4, [3, 4, 23, 3], n_out=n_out, **kwargs)"
   ]
  },
  {
   "cell_type": "markdown",
   "metadata": {},
   "source": [
    "## XECA-ResNet -"
   ]
  },
  {
   "cell_type": "code",
   "execution_count": null,
   "metadata": {},
   "outputs": [],
   "source": [
    "#export\n",
    "@delegates(XResNet)\n",
    "def xeca_resnet18(n_out=1000, **kwargs):   \n",
    "    return XResNet(ECABlock, 1, [2, 2, 2, 2], n_out=n_out, **kwargs)\n",
    "\n",
    "@delegates(XResNet)\n",
    "def xeca_resnet34(n_out=1000, **kwargs):   \n",
    "    return XResNet(ECABlock, 1, [3, 4, 6, 3], n_out=n_out, **kwargs)\n",
    "\n",
    "@delegates(XResNet)\n",
    "def xeca_resnet50(n_out=1000, **kwargs): \n",
    "    return XResNet(ECABlock, 4, [3, 4, 6, 3], n_out=n_out, **kwargs)\n",
    "\n",
    "@delegates(XResNet)\n",
    "def xeca_resnet101(n_out=1000, **kwargs):   \n",
    "    return XResNet(ECABlock, 4, [3, 4, 23, 3], n_out=n_out, **kwargs)"
   ]
  },
  {
   "cell_type": "markdown",
   "metadata": {},
   "source": [
    "## XECA-ResNeXt -"
   ]
  },
  {
   "cell_type": "code",
   "execution_count": null,
   "metadata": {},
   "outputs": [],
   "source": [
    "#export\n",
    "@delegates(XResNet)\n",
    "def xeca_resnext18(n_out=1000, **kwargs):  \n",
    "    return XResNet(ECAResNeXtBlock, 1, [2, 2, 2, 2], n_out=n_out, **kwargs)\n",
    "\n",
    "@delegates(XResNet)\n",
    "def xeca_resnext34(n_out=1000, **kwargs):  \n",
    "    return XResNet(ECAResNeXtBlock, 1, [3, 4, 6, 3], n_out=n_out, **kwargs)\n",
    "\n",
    "@delegates(XResNet)\n",
    "def xeca_resnext50(n_out=1000, **kwargs):  \n",
    "    return XResNet(ECAResNeXtBlock, 4, [3, 4, 6, 3], n_out=n_out, **kwargs)\n",
    "\n",
    "@delegates(XResNet)\n",
    "def xeca_resnext101(n_out=1000, **kwargs): \n",
    "    return XResNet(ECAResNeXtBlock, 4, [3, 4, 23, 3], n_out=n_out, **kwargs)"
   ]
  },
  {
   "cell_type": "markdown",
   "metadata": {},
   "source": [
    "## XSA-ResNet -"
   ]
  },
  {
   "cell_type": "code",
   "execution_count": null,
   "metadata": {},
   "outputs": [],
   "source": [
    "#export\n",
    "@delegates(XResNet)\n",
    "def xsa_resnet18(n_out=1000, **kwargs):   \n",
    "    return XResNet(SABlock, 1, [2, 2, 2, 2], n_out=n_out, sa_grps=32, **kwargs)\n",
    "\n",
    "@delegates(XResNet)\n",
    "def xsa_resnet34(n_out=1000, **kwargs):   \n",
    "    return XResNet(SABlock, 1, [3, 4, 6, 3], n_out=n_out, sa_grps=32, **kwargs)\n",
    "\n",
    "@delegates(XResNet)\n",
    "def xsa_resnet50(n_out=1000, **kwargs): \n",
    "    return XResNet(SABlock, 4, [3, 4, 6, 3], n_out=n_out, **kwargs)\n",
    "\n",
    "@delegates(XResNet)\n",
    "def xsa_resnet101(n_out=1000, **kwargs):   \n",
    "    return XResNet(SABlock, 4, [3, 4, 23, 3], n_out=n_out, **kwargs)"
   ]
  },
  {
   "cell_type": "markdown",
   "metadata": {},
   "source": [
    "## XSA-ResNeXt -"
   ]
  },
  {
   "cell_type": "code",
   "execution_count": null,
   "metadata": {},
   "outputs": [],
   "source": [
    "#export\n",
    "@delegates(XResNet)\n",
    "def xsa_resnext18(n_out=1000, **kwargs):  \n",
    "    return XResNet(SAResNeXtBlock, 1, [2, 2, 2, 2], n_out=n_out, sa_grps=32, **kwargs)\n",
    "\n",
    "@delegates(XResNet)\n",
    "def xsa_resnext34(n_out=1000, **kwargs):  \n",
    "    return XResNet(SAResNeXtBlock, 1, [3, 4, 6, 3], n_out=n_out, sa_grps=32, **kwargs)\n",
    "\n",
    "@delegates(XResNet)\n",
    "def xsa_resnext50(n_out=1000, **kwargs):  \n",
    "    return XResNet(SAResNeXtBlock, 4, [3, 4, 6, 3], n_out=n_out, **kwargs)\n",
    "\n",
    "@delegates(XResNet)\n",
    "def xsa_resnext101(n_out=1000, **kwargs): \n",
    "    return XResNet(SAResNeXtBlock, 4, [3, 4, 23, 3], n_out=n_out, **kwargs)"
   ]
  },
  {
   "cell_type": "markdown",
   "metadata": {},
   "source": [
    "## XTA-ResNet -"
   ]
  },
  {
   "cell_type": "code",
   "execution_count": null,
   "metadata": {},
   "outputs": [],
   "source": [
    "#export\n",
    "@delegates(XResNet)\n",
    "def xta_resnet18(n_out=1000, **kwargs):   \n",
    "    return XResNet(TABlock, 1, [2, 2, 2, 2], n_out=n_out, **kwargs)\n",
    "\n",
    "@delegates(XResNet)\n",
    "def xta_resnet34(n_out=1000, **kwargs):   \n",
    "    return XResNet(TABlock, 1, [3, 4, 6, 3], n_out=n_out, **kwargs)\n",
    "\n",
    "@delegates(XResNet)\n",
    "def xta_resnet50(n_out=1000, **kwargs): \n",
    "    return XResNet(TABlock, 4, [3, 4, 6, 3], n_out=n_out, **kwargs)\n",
    "\n",
    "@delegates(XResNet)\n",
    "def xta_resnet101(n_out=1000, **kwargs):   \n",
    "    return XResNet(TABlock, 4, [3, 4, 23, 3], n_out=n_out, **kwargs)"
   ]
  },
  {
   "cell_type": "markdown",
   "metadata": {},
   "source": [
    "## XTA-ResNeXt -"
   ]
  },
  {
   "cell_type": "code",
   "execution_count": null,
   "metadata": {},
   "outputs": [],
   "source": [
    "#export\n",
    "@delegates(XResNet)\n",
    "def xta_resnext18(n_out=1000, **kwargs):  \n",
    "    return XResNet(TAResNeXtBlock, 1, [2, 2, 2, 2], n_out=n_out, sa_grps=32, **kwargs)\n",
    "\n",
    "@delegates(XResNet)\n",
    "def xta_resnext34(n_out=1000, **kwargs):  \n",
    "    return XResNet(TAResNeXtBlock, 1, [3, 4, 6, 3], n_out=n_out, sa_grps=32, **kwargs)\n",
    "\n",
    "@delegates(XResNet)\n",
    "def xta_resnext50(n_out=1000, **kwargs):  \n",
    "    return XResNet(TAResNeXtBlock, 4, [3, 4, 6, 3], n_out=n_out, **kwargs)\n",
    "\n",
    "@delegates(XResNet)\n",
    "def xta_resnext101(n_out=1000, **kwargs): \n",
    "    return XResNet(TAResNeXtBlock, 4, [3, 4, 23, 3], n_out=n_out, **kwargs)"
   ]
  }
 ],
 "metadata": {
  "kernelspec": {
   "display_name": "Python 3.9.7 ('base')",
   "language": "python",
   "name": "python3"
  }
 },
 "nbformat": 4,
 "nbformat_minor": 2
}
