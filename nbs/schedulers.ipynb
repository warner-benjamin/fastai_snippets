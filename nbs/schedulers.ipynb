{
 "cells": [
  {
   "cell_type": "code",
   "execution_count": null,
   "metadata": {},
   "outputs": [],
   "source": [
    "#|default_exp schedulers"
   ]
  },
  {
   "cell_type": "markdown",
   "metadata": {},
   "source": [
    "# Schedulers\n",
    "> Additional model training schedulers for fastai"
   ]
  },
  {
   "cell_type": "code",
   "execution_count": null,
   "metadata": {},
   "outputs": [],
   "source": [
    "#|export\n",
    "from __future__ import annotations\n",
    "\n",
    "import numpy as np\n",
    "\n",
    "from fastcore.basics import even_mults\n",
    "\n",
    "from fastai.callback.core import Callback\n",
    "from fastai.callback.schedule import SchedCos, SchedNo, combine_scheds, ParamScheduler, _Annealer\n",
    "from fastai.learner import Learner\n",
    "\n",
    "from fastxtend.basics import is_listish\n",
    "from fastxtend.imports import *"
   ]
  },
  {
   "cell_type": "code",
   "execution_count": null,
   "metadata": {},
   "outputs": [],
   "source": [
    "#|hide\n",
    "from fastai.callback.schedule import SchedLin\n",
    "from fastai.test_utils import synth_learner"
   ]
  },
  {
   "cell_type": "markdown",
   "metadata": {},
   "source": [
    "## Fit Flat Warmup -"
   ]
  },
  {
   "cell_type": "code",
   "execution_count": null,
   "metadata": {},
   "outputs": [],
   "source": [
    "#|export\n",
    "@patch\n",
    "def fit_flat_warmup(self:Learner, \n",
    "    n_epoch:int, # Number of epochs\n",
    "    lr:float|None=None, # Maximum learning rate\n",
    "    div:Number=25., # Initial learning rate: `lr/div`\n",
    "    div_final:Number=1e5, # Final learning rate: `lr/div_final`\n",
    "    pct_start:float=0.75, # Start learning rate cosine annealing\n",
    "    warm_pct:float=0.2, # Learning rate warmup in percent\n",
    "    warm_epoch:int=5, # Learning rate warmup in epochs\n",
    "    warm_mode:str='auto', # Warmup using 'epoch', 'pct', or min of epoch/pct if 'auto'\n",
    "    warm_sched:Callable[..., _Annealer]=SchedCos, # Learning rate warmup schedule\n",
    "    wd:float|None=None, # Weight decay, defaults to `Optimizer` weight decay\n",
    "    cbs:listified[Callback]|None=None, # Temporary Callbacks to apply during fit\n",
    "    reset_opt:bool=False # Reset `Optimizer` before fit\n",
    "):\n",
    "    \"Fit `self.model` for `n_epoch` at flat `lr` with a warmup and ending with cosine annealing.\"\n",
    "    if self.opt is None: \n",
    "        self.create_opt()\n",
    "    self.opt.set_hyper('lr', self.lr if lr is None else lr)\n",
    "\n",
    "    if warm_mode=='auto':\n",
    "        warm_pct = min(warm_epoch/n_epoch, warm_pct)\n",
    "    elif warm_mode=='epoch':\n",
    "        warm_pct = warm_epoch/n_epoch\n",
    "\n",
    "    pcts = [warm_pct, 1-(warm_pct+(1-pct_start)), 1-pct_start]\n",
    "    scheds = [warm_sched(lr/div, lr), SchedNo(lr,lr), SchedCos(lr, lr/div_final)]\n",
    "    scheds = {'lr': combine_scheds(pcts, scheds)}\n",
    "\n",
    "    self.fit(n_epoch, cbs=ParamScheduler(scheds)+L(cbs), reset_opt=reset_opt, wd=wd, start_epoch=0)"
   ]
  },
  {
   "cell_type": "markdown",
   "metadata": {},
   "source": [
    "`fit_flat_warmup` is identical to fastai's [`fit_flat_cos`](https://docs.fast.ai/callback.schedule.html#learner.fit_flat_cos), except with an added learning rate warmup phase.\n",
    "\n",
    "By default, `fit_flat_warmup` will apply learning rate warmup for a minimum of `warm_pct` percent of training steps or `warm_epoch` number of training epochs. Set `warm_mode='pct'` to warmup the learning rate for `warm_pct` percent of training steps or set `warm_mode='epoch'` to warmup the learning rate for `warm_epoch` number of epochs.\n",
    "\n",
    "`warm_sched` can be one of [`SchedCos`](https://docs.fast.ai/callback.schedule.html#schedcos) (the default), [`SchedLin`](https://docs.fast.ai/callback.schedule.html#schedlin),[`SchedExp`](https://docs.fast.ai/callback.schedule.html#schedexp), [`SchedPoly`](https://docs.fast.ai/callback.schedule.html#schedpoly), or a custom [fastai annealer](https://docs.fast.ai/callback.schedule.html#annealer) based schedule. `SchedPoly` must be passed as partial function: `partial(SchedPoly, power=0.5)`."
   ]
  },
  {
   "cell_type": "code",
   "execution_count": null,
   "metadata": {},
   "outputs": [
    {
     "data": {
      "text/html": [
       "\n",
       "<style>\n",
       "    /* Turns off some styling */\n",
       "    progress {\n",
       "        /* gets rid of default border in Firefox and Opera. */\n",
       "        border: none;\n",
       "        /* Needs to be in here for Safari polyfill so background images work as expected. */\n",
       "        background-size: auto;\n",
       "    }\n",
       "    progress:not([value]), progress:not([value])::-webkit-progress-bar {\n",
       "        background: repeating-linear-gradient(45deg, #7e7e7e, #7e7e7e 10px, #5c5c5c 10px, #5c5c5c 20px);\n",
       "    }\n",
       "    .progress-bar-interrupted, .progress-bar-interrupted::-webkit-progress-bar {\n",
       "        background: #F44336;\n",
       "    }\n",
       "</style>\n"
      ],
      "text/plain": [
       "<IPython.core.display.HTML object>"
      ]
     },
     "metadata": {},
     "output_type": "display_data"
    },
    {
     "data": {
      "text/html": [
       "<table border=\"1\" class=\"dataframe\">\n",
       "  <thead>\n",
       "    <tr style=\"text-align: left;\">\n",
       "      <th>epoch</th>\n",
       "      <th>train_loss</th>\n",
       "      <th>valid_loss</th>\n",
       "      <th>time</th>\n",
       "    </tr>\n",
       "  </thead>\n",
       "  <tbody>\n",
       "    <tr>\n",
       "      <td>0</td>\n",
       "      <td>2.915178</td>\n",
       "      <td>0.041057</td>\n",
       "      <td>00:00</td>\n",
       "    </tr>\n",
       "    <tr>\n",
       "      <td>1</td>\n",
       "      <td>0.350864</td>\n",
       "      <td>0.010789</td>\n",
       "      <td>00:00</td>\n",
       "    </tr>\n",
       "    <tr>\n",
       "      <td>2</td>\n",
       "      <td>0.054753</td>\n",
       "      <td>0.011043</td>\n",
       "      <td>00:00</td>\n",
       "    </tr>\n",
       "    <tr>\n",
       "      <td>3</td>\n",
       "      <td>0.015696</td>\n",
       "      <td>0.010882</td>\n",
       "      <td>00:00</td>\n",
       "    </tr>\n",
       "    <tr>\n",
       "      <td>4</td>\n",
       "      <td>0.010951</td>\n",
       "      <td>0.011181</td>\n",
       "      <td>00:00</td>\n",
       "    </tr>\n",
       "    <tr>\n",
       "      <td>5</td>\n",
       "      <td>0.010294</td>\n",
       "      <td>0.011282</td>\n",
       "      <td>00:00</td>\n",
       "    </tr>\n",
       "    <tr>\n",
       "      <td>6</td>\n",
       "      <td>0.010050</td>\n",
       "      <td>0.010797</td>\n",
       "      <td>00:00</td>\n",
       "    </tr>\n",
       "    <tr>\n",
       "      <td>7</td>\n",
       "      <td>0.010312</td>\n",
       "      <td>0.010678</td>\n",
       "      <td>00:00</td>\n",
       "    </tr>\n",
       "    <tr>\n",
       "      <td>8</td>\n",
       "      <td>0.009915</td>\n",
       "      <td>0.011020</td>\n",
       "      <td>00:00</td>\n",
       "    </tr>\n",
       "    <tr>\n",
       "      <td>9</td>\n",
       "      <td>0.009799</td>\n",
       "      <td>0.010863</td>\n",
       "      <td>00:00</td>\n",
       "    </tr>\n",
       "  </tbody>\n",
       "</table>"
      ],
      "text/plain": [
       "<IPython.core.display.HTML object>"
      ]
     },
     "metadata": {},
     "output_type": "display_data"
    }
   ],
   "source": [
    "#|hide\n",
    "learn = synth_learner(100, 10)\n",
    "learn.fit_flat_warmup(10, 8e-3)"
   ]
  },
  {
   "cell_type": "code",
   "execution_count": null,
   "metadata": {},
   "outputs": [
    {
     "data": {
      "image/png": "[encoded data removed]",
      "text/plain": [
       "<Figure size 600x400 with 1 Axes>"
      ]
     },
     "metadata": {},
     "output_type": "display_data"
    }
   ],
   "source": [
    "#|echo: false\n",
    "learn.recorder.plot_sched()"
   ]
  },
  {
   "cell_type": "markdown",
   "metadata": {},
   "source": [
    "## Fit Cos Anneal -"
   ]
  },
  {
   "cell_type": "code",
   "execution_count": null,
   "metadata": {},
   "outputs": [],
   "source": [
    "#|export\n",
    "@patch\n",
    "def fit_cos_anneal(self:Learner, \n",
    "    n_epoch:int, # Number of epochs\n",
    "    lr:float|None=None, # Maximum learning rate\n",
    "    div:Number=25., # Initial learning rate: `lr/div`\n",
    "    div_final:Number=1e5, # Final learning rate: `lr/div_final`\n",
    "    warm_pct:float=0.2, # Learning rate warmup in percent\n",
    "    warm_epoch:int=5, # Learning rate warmup in epochs\n",
    "    warm_mode:str='auto', # Warmup using 'epoch', 'pct', or min of epoch/pct 'auto'\n",
    "    warm_sched:Callable[..., _Annealer]=SchedCos, # Learning rate warmup schedule\n",
    "    wd:float|None=None, # Weight decay, defaults to `Optimizer` weight decay\n",
    "    cbs:listified[Callback]|None=None, # Temporary Callbacks to apply during fit\n",
    "    reset_opt:bool=False # Reset `Optimizer` before fit\n",
    "):\n",
    "    \"Fit `self.model` for `n_epoch` using a with cosine annealing schedule with a max `lr` and optional warmup.\"\n",
    "    if self.opt is None:\n",
    "        self.create_opt()\n",
    "    self.opt.set_hyper('lr', self.lr if lr is None else lr)\n",
    "\n",
    "    if warm_mode=='auto':\n",
    "        warm_pct = min(warm_epoch/n_epoch, warm_pct)\n",
    "    elif warm_mode=='epoch':\n",
    "        warm_pct = warm_epoch/n_epoch\n",
    "\n",
    "    if warm_pct > 0:\n",
    "        pcts = [warm_pct, 1-warm_pct] \n",
    "        scheds = [warm_sched(lr/div, lr), SchedCos(lr, lr/div_final)]\n",
    "    else:\n",
    "        pcts = [1] \n",
    "        scheds = [SchedCos(lr, lr/div_final)]\n",
    "    scheds = {'lr': combine_scheds(pcts, scheds)}\n",
    "\n",
    "    self.fit(n_epoch, cbs=ParamScheduler(scheds)+L(cbs), reset_opt=reset_opt, wd=wd, start_epoch=0)"
   ]
  },
  {
   "cell_type": "markdown",
   "metadata": {},
   "source": [
    "To disable learning rate warmup, set `warm_pct=0`.\n",
    "\n",
    "By default, `fit_cos_anneal` will apply learning rate warmup for a minimum of `warm_pct` percent of training steps or `warm_epoch` number of training epochs. Set `warm_mode='pct'` to warmup the learning rate for `warm_pct` percent of training steps or set `warm_mode='epoch'` to warmup the learning rate for `warm_epoch` number of epochs.\n",
    "\n",
    "`warm_sched` can be one of [`SchedCos`](https://docs.fast.ai/callback.schedule.html#schedcos) (the default), [`SchedLin`](https://docs.fast.ai/callback.schedule.html#schedlin),[`SchedExp`](https://docs.fast.ai/callback.schedule.html#schedexp), [`SchedPoly`](https://docs.fast.ai/callback.schedule.html#schedpoly), or a custom [fastai annealer](https://docs.fast.ai/callback.schedule.html#annealer) based schedule. `SchedPoly` must be passed as partial function: `partial(SchedPoly, power=0.5)`.\n",
    "\n",
    "With optional learning rate warmup:"
   ]
  },
  {
   "cell_type": "code",
   "execution_count": null,
   "metadata": {},
   "outputs": [
    {
     "data": {
      "text/html": [
       "\n",
       "<style>\n",
       "    /* Turns off some styling */\n",
       "    progress {\n",
       "        /* gets rid of default border in Firefox and Opera. */\n",
       "        border: none;\n",
       "        /* Needs to be in here for Safari polyfill so background images work as expected. */\n",
       "        background-size: auto;\n",
       "    }\n",
       "    progress:not([value]), progress:not([value])::-webkit-progress-bar {\n",
       "        background: repeating-linear-gradient(45deg, #7e7e7e, #7e7e7e 10px, #5c5c5c 10px, #5c5c5c 20px);\n",
       "    }\n",
       "    .progress-bar-interrupted, .progress-bar-interrupted::-webkit-progress-bar {\n",
       "        background: #F44336;\n",
       "    }\n",
       "</style>\n"
      ],
      "text/plain": [
       "<IPython.core.display.HTML object>"
      ]
     },
     "metadata": {},
     "output_type": "display_data"
    },
    {
     "data": {
      "text/html": [
       "<table border=\"1\" class=\"dataframe\">\n",
       "  <thead>\n",
       "    <tr style=\"text-align: left;\">\n",
       "      <th>epoch</th>\n",
       "      <th>train_loss</th>\n",
       "      <th>valid_loss</th>\n",
       "      <th>time</th>\n",
       "    </tr>\n",
       "  </thead>\n",
       "  <tbody>\n",
       "    <tr>\n",
       "      <td>0</td>\n",
       "      <td>3.975236</td>\n",
       "      <td>0.048832</td>\n",
       "      <td>00:00</td>\n",
       "    </tr>\n",
       "    <tr>\n",
       "      <td>1</td>\n",
       "      <td>0.475171</td>\n",
       "      <td>0.009279</td>\n",
       "      <td>00:00</td>\n",
       "    </tr>\n",
       "    <tr>\n",
       "      <td>2</td>\n",
       "      <td>0.070360</td>\n",
       "      <td>0.009291</td>\n",
       "      <td>00:00</td>\n",
       "    </tr>\n",
       "    <tr>\n",
       "      <td>3</td>\n",
       "      <td>0.017823</td>\n",
       "      <td>0.009494</td>\n",
       "      <td>00:00</td>\n",
       "    </tr>\n",
       "    <tr>\n",
       "      <td>4</td>\n",
       "      <td>0.010909</td>\n",
       "      <td>0.009454</td>\n",
       "      <td>00:00</td>\n",
       "    </tr>\n",
       "    <tr>\n",
       "      <td>5</td>\n",
       "      <td>0.009782</td>\n",
       "      <td>0.009295</td>\n",
       "      <td>00:00</td>\n",
       "    </tr>\n",
       "    <tr>\n",
       "      <td>6</td>\n",
       "      <td>0.010164</td>\n",
       "      <td>0.009287</td>\n",
       "      <td>00:00</td>\n",
       "    </tr>\n",
       "    <tr>\n",
       "      <td>7</td>\n",
       "      <td>0.010009</td>\n",
       "      <td>0.009346</td>\n",
       "      <td>00:00</td>\n",
       "    </tr>\n",
       "    <tr>\n",
       "      <td>8</td>\n",
       "      <td>0.009889</td>\n",
       "      <td>0.009337</td>\n",
       "      <td>00:00</td>\n",
       "    </tr>\n",
       "    <tr>\n",
       "      <td>9</td>\n",
       "      <td>0.009672</td>\n",
       "      <td>0.009336</td>\n",
       "      <td>00:00</td>\n",
       "    </tr>\n",
       "  </tbody>\n",
       "</table>"
      ],
      "text/plain": [
       "<IPython.core.display.HTML object>"
      ]
     },
     "metadata": {},
     "output_type": "display_data"
    }
   ],
   "source": [
    "#|hide\n",
    "learn = synth_learner(100, 10)\n",
    "learn.fit_cos_anneal(10, 8e-3)"
   ]
  },
  {
   "cell_type": "code",
   "execution_count": null,
   "metadata": {},
   "outputs": [
    {
     "data": {
      "image/png": "[encoded data removed]",
      "text/plain": [
       "<Figure size 600x400 with 1 Axes>"
      ]
     },
     "metadata": {},
     "output_type": "display_data"
    }
   ],
   "source": [
    "#|echo: false\n",
    "learn.recorder.plot_sched()"
   ]
  },
  {
   "cell_type": "markdown",
   "metadata": {},
   "source": [
    "And without learning ratewarmup:"
   ]
  },
  {
   "cell_type": "code",
   "execution_count": null,
   "metadata": {},
   "outputs": [
    {
     "data": {
      "text/html": [
       "\n",
       "<style>\n",
       "    /* Turns off some styling */\n",
       "    progress {\n",
       "        /* gets rid of default border in Firefox and Opera. */\n",
       "        border: none;\n",
       "        /* Needs to be in here for Safari polyfill so background images work as expected. */\n",
       "        background-size: auto;\n",
       "    }\n",
       "    progress:not([value]), progress:not([value])::-webkit-progress-bar {\n",
       "        background: repeating-linear-gradient(45deg, #7e7e7e, #7e7e7e 10px, #5c5c5c 10px, #5c5c5c 20px);\n",
       "    }\n",
       "    .progress-bar-interrupted, .progress-bar-interrupted::-webkit-progress-bar {\n",
       "        background: #F44336;\n",
       "    }\n",
       "</style>\n"
      ],
      "text/plain": [
       "<IPython.core.display.HTML object>"
      ]
     },
     "metadata": {},
     "output_type": "display_data"
    },
    {
     "data": {
      "text/html": [
       "<table border=\"1\" class=\"dataframe\">\n",
       "  <thead>\n",
       "    <tr style=\"text-align: left;\">\n",
       "      <th>epoch</th>\n",
       "      <th>train_loss</th>\n",
       "      <th>valid_loss</th>\n",
       "      <th>time</th>\n",
       "    </tr>\n",
       "  </thead>\n",
       "  <tbody>\n",
       "    <tr>\n",
       "      <td>0</td>\n",
       "      <td>0.066619</td>\n",
       "      <td>0.011505</td>\n",
       "      <td>00:00</td>\n",
       "    </tr>\n",
       "    <tr>\n",
       "      <td>1</td>\n",
       "      <td>0.016760</td>\n",
       "      <td>0.011333</td>\n",
       "      <td>00:00</td>\n",
       "    </tr>\n",
       "    <tr>\n",
       "      <td>2</td>\n",
       "      <td>0.010673</td>\n",
       "      <td>0.011663</td>\n",
       "      <td>00:00</td>\n",
       "    </tr>\n",
       "    <tr>\n",
       "      <td>3</td>\n",
       "      <td>0.009802</td>\n",
       "      <td>0.011358</td>\n",
       "      <td>00:00</td>\n",
       "    </tr>\n",
       "    <tr>\n",
       "      <td>4</td>\n",
       "      <td>0.009989</td>\n",
       "      <td>0.011434</td>\n",
       "      <td>00:00</td>\n",
       "    </tr>\n",
       "    <tr>\n",
       "      <td>5</td>\n",
       "      <td>0.009777</td>\n",
       "      <td>0.011374</td>\n",
       "      <td>00:00</td>\n",
       "    </tr>\n",
       "    <tr>\n",
       "      <td>6</td>\n",
       "      <td>0.009323</td>\n",
       "      <td>0.011396</td>\n",
       "      <td>00:00</td>\n",
       "    </tr>\n",
       "    <tr>\n",
       "      <td>7</td>\n",
       "      <td>0.009720</td>\n",
       "      <td>0.011402</td>\n",
       "      <td>00:00</td>\n",
       "    </tr>\n",
       "    <tr>\n",
       "      <td>8</td>\n",
       "      <td>0.009358</td>\n",
       "      <td>0.011382</td>\n",
       "      <td>00:00</td>\n",
       "    </tr>\n",
       "    <tr>\n",
       "      <td>9</td>\n",
       "      <td>0.009729</td>\n",
       "      <td>0.011377</td>\n",
       "      <td>00:00</td>\n",
       "    </tr>\n",
       "  </tbody>\n",
       "</table>"
      ],
      "text/plain": [
       "<IPython.core.display.HTML object>"
      ]
     },
     "metadata": {},
     "output_type": "display_data"
    }
   ],
   "source": [
    "#|hide\n",
    "learn = synth_learner(100, 10)\n",
    "learn.fit_cos_anneal(10, 8e-3, warm_pct=0)"
   ]
  },
  {
   "cell_type": "code",
   "execution_count": null,
   "metadata": {},
   "outputs": [
    {
     "data": {
      "image/png": "[encoded data removed]",
      "text/plain": [
       "<Figure size 600x400 with 1 Axes>"
      ]
     },
     "metadata": {},
     "output_type": "display_data"
    }
   ],
   "source": [
    "#|echo: false\n",
    "learn.recorder.plot_sched()"
   ]
  },
  {
   "cell_type": "markdown",
   "metadata": {},
   "source": [
    "## Fit Flat Varied -"
   ]
  },
  {
   "cell_type": "code",
   "execution_count": null,
   "metadata": {},
   "outputs": [],
   "source": [
    "#|export\n",
    "@patch\n",
    "def fit_flat_varied(self:Learner, \n",
    "    n_epoch:int, # Number of epochs\n",
    "    start_lr:float|None=None, # Initial learning rate\n",
    "    div_final:Number=1e5, # Final learning rate: `lr/div_final`\n",
    "    pct_start:float=0.75, # Start learning rate cosine annealing\n",
    "    wd:float|None=None, # Weight decay, defaults to `Optimizer` weight decay\n",
    "    next_lr:listified[float]|slice|None=None, # Learning rates to switch to at `change_by`. Must be same length as `change_by`\n",
    "    change_by:listified[int]|listified[float]|None=None, # Epochs or percent of steps to switch to `next_lr` by. Must be same length as `next_lr`\n",
    "    change_time:listified[int]|listified[float]=1, # If greater than 0 (percent of steps or epochs), how long to change to `next_lr`. Must be same length as `next_lr`\n",
    "    change_sched:listified[Callable[..., _Annealer]]|None=None, # Schedule(s) for change. Defaults to `SchedCos`. Must be same length as `next_lr`\n",
    "    cbs:listified[Callback]|None=None, # Temporary Callbacks to apply during fit\n",
    "    reset_opt:bool=False # Reset `Optimizer` before fit\n",
    "):\n",
    "    \"\"\"\n",
    "    Fit `self.model` for `n_epoch` at flat `start_lr`, then change to flat `next_lr` at `change_by`, \n",
    "    optionally with cosine annealing or custom `change_sched` over `change_time`. Final cosine annealing at `pct_start`.\n",
    "    \"\"\"\n",
    "    assert isinstance(next_lr, (float, slice)) or (is_listish(next_lr) and len(next_lr)>=1), '`next_lr` must be float, slice, or list of float or slice'\n",
    "    assert isinstance(change_by, (int, float, slice)) or (is_listish(change_by) and len(change_by)>=1), '`change_by` must be int, float, slice, or list of int, float, or slice'\n",
    "\n",
    "    if self.opt is None: \n",
    "        self.create_opt()\n",
    "    self.opt.set_hyper('lr', self.lr if start_lr is None else start_lr)\n",
    "    start_lr = np.array([h['lr'] for h in self.opt.hypers])\n",
    "    params_len = len(start_lr)\n",
    "\n",
    "    if not is_listish(next_lr): \n",
    "        next_lr = [next_lr]\n",
    "    if not is_listish(change_by): \n",
    "        change_by = [change_by]\n",
    "    change_by = [i/n_epoch if i>=1 else i for i in change_by]\n",
    "    assert len(change_by)==len(next_lr), '`next_lr` & `change_by` need to be same length'\n",
    "\n",
    "    if not is_listish(change_time): \n",
    "        change_time = [change_time]*len(change_by)\n",
    "    else: assert len(change_by)==len(change_time), '`change_time` list needs to be same length as `next_lr` & `change_by`'\n",
    "    change_time = [i/n_epoch if i>=1 else i for i in change_time]\n",
    "\n",
    "    if change_sched is not None: \n",
    "        if not is_listish(change_sched): \n",
    "            change_sched = [change_sched]\n",
    "        assert len(change_by)==len(change_sched), '`next_lr` & `change_sched` need to be same length'\n",
    "\n",
    "    pcts, scheds, last_lr, last_pct = [], [SchedNo(start_lr, start_lr)], start_lr, 0\n",
    "    for i, cb in enumerate(change_by):\n",
    "        if cb < pct_start:\n",
    "            nlr = next_lr[i]\n",
    "            if isinstance(nlr, slice):\n",
    "                if nlr.start: nlr = even_mults(nlr.start, nlr.stop, params_len)\n",
    "                else: nlr = [nlr.stop/10]*(params_len-1) + [nlr.stop]\n",
    "                nlr=np.array(nlr)\n",
    "\n",
    "            change_pct = cb - change_time[i]\n",
    "            assert change_pct >= last_pct, f'{change_pct} in pos {i} of `change_by` overlaps with previous schedule {last_pct}'\n",
    "\n",
    "            pcts.append(change_pct - sum(pcts))\n",
    "            scheds.append(SchedNo(nlr, nlr))\n",
    "\n",
    "            if change_time[i] > 0:\n",
    "                pcts.append(change_time[i])\n",
    "                if is_listish(change_sched): scheds.insert(-1, change_sched[i](last_lr, nlr))\n",
    "                else: scheds.insert(-1, SchedCos(last_lr, nlr))\n",
    "\n",
    "            last_lr = nlr\n",
    "            last_pct = change_pct\n",
    "        else: \n",
    "            warn(f'change_by: {change_by[i]} is after pct_start={pct_start} and ignored.')\n",
    "\n",
    "    pcts += [pct_start - sum(pcts), 1-pct_start]\n",
    "    scheds += [SchedCos(last_lr, last_lr/div_final)]\n",
    "    scheds = {'lr': combine_scheds(pcts, scheds)}\n",
    "\n",
    "    self.fit(n_epoch, cbs=ParamScheduler(scheds)+L(cbs), reset_opt=reset_opt, wd=wd)"
   ]
  },
  {
   "cell_type": "markdown",
   "metadata": {},
   "source": [
    "`change_sched` can be one of [`SchedLin`](https://docs.fast.ai/callback.schedule.html#schedlin), [`SchedCos`](https://docs.fast.ai/callback.schedule.html#schedcos) (the default), [`SchedExp`](https://docs.fast.ai/callback.schedule.html#schedexp), [`SchedPoly`](https://docs.fast.ai/callback.schedule.html#schedpoly), or a custom [fastai annealer](https://docs.fast.ai/callback.schedule.html#annealer) based schedule. `SchedPoly` must be passed as partial function: `partial(SchedPoly, power=0.5)`."
   ]
  },
  {
   "cell_type": "markdown",
   "metadata": {},
   "source": [
    "### Example Fit Flat Varied Schedules\n",
    "\n",
    "Discriminative Linear Warmup:\n",
    "\n",
    "```python\n",
    "learn.fit_flat_varied(4, slice(3e-5, 3e-3), next_lr=3e-3, change_by=1, change_time=1, change_sched=SchedLin)\n",
    "```\n",
    "\n",
    "![discriminative linear warmup](images/fit_flat_varied_3.png)\n",
    "\n",
    "Multiple Cosine Annealing:\n",
    "\n",
    "```python\n",
    "learn.fit_flat_varied((15, 8e-3, next_lr=[6e-3, 4e-3], change_by=[4, 8], change_time=2)\n",
    "```\n",
    "\n",
    "![multiple cosine annealing](images/fit_flat_varied_1.png)\n",
    "\n",
    "\n",
    "Immediate Change:\n",
    "\n",
    "```python\n",
    "learn.fit_flat_varied((10, 8e-3, next_lr=[6e-3, 4e-3], change_by=[0.25, 0.5], change_time=0)\n",
    "```\n",
    "\n",
    "![immediate change](images/fit_flat_varied_2.png)"
   ]
  },
  {
   "cell_type": "code",
   "execution_count": null,
   "metadata": {},
   "outputs": [
    {
     "data": {
      "text/html": [
       "\n",
       "<style>\n",
       "    /* Turns off some styling */\n",
       "    progress {\n",
       "        /* gets rid of default border in Firefox and Opera. */\n",
       "        border: none;\n",
       "        /* Needs to be in here for Safari polyfill so background images work as expected. */\n",
       "        background-size: auto;\n",
       "    }\n",
       "    progress:not([value]), progress:not([value])::-webkit-progress-bar {\n",
       "        background: repeating-linear-gradient(45deg, #7e7e7e, #7e7e7e 10px, #5c5c5c 10px, #5c5c5c 20px);\n",
       "    }\n",
       "    .progress-bar-interrupted, .progress-bar-interrupted::-webkit-progress-bar {\n",
       "        background: #F44336;\n",
       "    }\n",
       "</style>\n"
      ],
      "text/plain": [
       "<IPython.core.display.HTML object>"
      ]
     },
     "metadata": {},
     "output_type": "display_data"
    },
    {
     "data": {
      "text/html": [
       "<table border=\"1\" class=\"dataframe\">\n",
       "  <thead>\n",
       "    <tr style=\"text-align: left;\">\n",
       "      <th>epoch</th>\n",
       "      <th>train_loss</th>\n",
       "      <th>valid_loss</th>\n",
       "      <th>time</th>\n",
       "    </tr>\n",
       "  </thead>\n",
       "  <tbody>\n",
       "    <tr>\n",
       "      <td>0</td>\n",
       "      <td>0.552985</td>\n",
       "      <td>0.008279</td>\n",
       "      <td>00:00</td>\n",
       "    </tr>\n",
       "    <tr>\n",
       "      <td>1</td>\n",
       "      <td>0.074130</td>\n",
       "      <td>0.008202</td>\n",
       "      <td>00:00</td>\n",
       "    </tr>\n",
       "    <tr>\n",
       "      <td>2</td>\n",
       "      <td>0.018833</td>\n",
       "      <td>0.008267</td>\n",
       "      <td>00:00</td>\n",
       "    </tr>\n",
       "    <tr>\n",
       "      <td>3</td>\n",
       "      <td>0.011750</td>\n",
       "      <td>0.008165</td>\n",
       "      <td>00:00</td>\n",
       "    </tr>\n",
       "  </tbody>\n",
       "</table>"
      ],
      "text/plain": [
       "<IPython.core.display.HTML object>"
      ]
     },
     "metadata": {},
     "output_type": "display_data"
    },
    {
     "data": {
      "image/png": "[encoded data removed]",
      "text/plain": [
       "<Figure size 600x400 with 1 Axes>"
      ]
     },
     "metadata": {},
     "output_type": "display_data"
    }
   ],
   "source": [
    "#|hide\n",
    "#|slow\n",
    "learn = synth_learner(100, 10)\n",
    "learn.fit_flat_varied(4, slice(3e-5, 3e-3), next_lr=3e-3, change_by=1, change_time=1, change_sched=SchedLin)\n",
    "learn.recorder.plot_sched()"
   ]
  },
  {
   "cell_type": "code",
   "execution_count": null,
   "metadata": {},
   "outputs": [
    {
     "data": {
      "text/html": [
       "\n",
       "<style>\n",
       "    /* Turns off some styling */\n",
       "    progress {\n",
       "        /* gets rid of default border in Firefox and Opera. */\n",
       "        border: none;\n",
       "        /* Needs to be in here for Safari polyfill so background images work as expected. */\n",
       "        background-size: auto;\n",
       "    }\n",
       "    progress:not([value]), progress:not([value])::-webkit-progress-bar {\n",
       "        background: repeating-linear-gradient(45deg, #7e7e7e, #7e7e7e 10px, #5c5c5c 10px, #5c5c5c 20px);\n",
       "    }\n",
       "    .progress-bar-interrupted, .progress-bar-interrupted::-webkit-progress-bar {\n",
       "        background: #F44336;\n",
       "    }\n",
       "</style>\n"
      ],
      "text/plain": [
       "<IPython.core.display.HTML object>"
      ]
     },
     "metadata": {},
     "output_type": "display_data"
    },
    {
     "data": {
      "text/html": [
       "<table border=\"1\" class=\"dataframe\">\n",
       "  <thead>\n",
       "    <tr style=\"text-align: left;\">\n",
       "      <th>epoch</th>\n",
       "      <th>train_loss</th>\n",
       "      <th>valid_loss</th>\n",
       "      <th>time</th>\n",
       "    </tr>\n",
       "  </thead>\n",
       "  <tbody>\n",
       "    <tr>\n",
       "      <td>0</td>\n",
       "      <td>0.239219</td>\n",
       "      <td>0.009471</td>\n",
       "      <td>00:00</td>\n",
       "    </tr>\n",
       "    <tr>\n",
       "      <td>1</td>\n",
       "      <td>0.037019</td>\n",
       "      <td>0.009402</td>\n",
       "      <td>00:00</td>\n",
       "    </tr>\n",
       "    <tr>\n",
       "      <td>2</td>\n",
       "      <td>0.013965</td>\n",
       "      <td>0.009658</td>\n",
       "      <td>00:00</td>\n",
       "    </tr>\n",
       "    <tr>\n",
       "      <td>3</td>\n",
       "      <td>0.010726</td>\n",
       "      <td>0.009394</td>\n",
       "      <td>00:00</td>\n",
       "    </tr>\n",
       "    <tr>\n",
       "      <td>4</td>\n",
       "      <td>0.010179</td>\n",
       "      <td>0.009376</td>\n",
       "      <td>00:00</td>\n",
       "    </tr>\n",
       "    <tr>\n",
       "      <td>5</td>\n",
       "      <td>0.010649</td>\n",
       "      <td>0.009525</td>\n",
       "      <td>00:00</td>\n",
       "    </tr>\n",
       "    <tr>\n",
       "      <td>6</td>\n",
       "      <td>0.010619</td>\n",
       "      <td>0.009379</td>\n",
       "      <td>00:00</td>\n",
       "    </tr>\n",
       "    <tr>\n",
       "      <td>7</td>\n",
       "      <td>0.010789</td>\n",
       "      <td>0.009462</td>\n",
       "      <td>00:00</td>\n",
       "    </tr>\n",
       "    <tr>\n",
       "      <td>8</td>\n",
       "      <td>0.010310</td>\n",
       "      <td>0.009485</td>\n",
       "      <td>00:00</td>\n",
       "    </tr>\n",
       "    <tr>\n",
       "      <td>9</td>\n",
       "      <td>0.010621</td>\n",
       "      <td>0.009402</td>\n",
       "      <td>00:00</td>\n",
       "    </tr>\n",
       "    <tr>\n",
       "      <td>10</td>\n",
       "      <td>0.010622</td>\n",
       "      <td>0.009529</td>\n",
       "      <td>00:00</td>\n",
       "    </tr>\n",
       "    <tr>\n",
       "      <td>11</td>\n",
       "      <td>0.010556</td>\n",
       "      <td>0.009391</td>\n",
       "      <td>00:00</td>\n",
       "    </tr>\n",
       "    <tr>\n",
       "      <td>12</td>\n",
       "      <td>0.010504</td>\n",
       "      <td>0.009362</td>\n",
       "      <td>00:00</td>\n",
       "    </tr>\n",
       "    <tr>\n",
       "      <td>13</td>\n",
       "      <td>0.010490</td>\n",
       "      <td>0.009370</td>\n",
       "      <td>00:00</td>\n",
       "    </tr>\n",
       "    <tr>\n",
       "      <td>14</td>\n",
       "      <td>0.010435</td>\n",
       "      <td>0.009369</td>\n",
       "      <td>00:00</td>\n",
       "    </tr>\n",
       "  </tbody>\n",
       "</table>"
      ],
      "text/plain": [
       "<IPython.core.display.HTML object>"
      ]
     },
     "metadata": {},
     "output_type": "display_data"
    },
    {
     "data": {
      "image/png": "[encoded data removed]",
      "text/plain": [
       "<Figure size 600x400 with 1 Axes>"
      ]
     },
     "metadata": {},
     "output_type": "display_data"
    }
   ],
   "source": [
    "#|hide\n",
    "#|slow\n",
    "learn = synth_learner(100, 10)\n",
    "learn.fit_flat_varied(15, 8e-3, next_lr=[6e-3, 4e-3], change_by=[4, 8], change_time=2)\n",
    "learn.recorder.plot_sched()"
   ]
  },
  {
   "cell_type": "code",
   "execution_count": null,
   "metadata": {},
   "outputs": [
    {
     "data": {
      "text/html": [
       "\n",
       "<style>\n",
       "    /* Turns off some styling */\n",
       "    progress {\n",
       "        /* gets rid of default border in Firefox and Opera. */\n",
       "        border: none;\n",
       "        /* Needs to be in here for Safari polyfill so background images work as expected. */\n",
       "        background-size: auto;\n",
       "    }\n",
       "    progress:not([value]), progress:not([value])::-webkit-progress-bar {\n",
       "        background: repeating-linear-gradient(45deg, #7e7e7e, #7e7e7e 10px, #5c5c5c 10px, #5c5c5c 20px);\n",
       "    }\n",
       "    .progress-bar-interrupted, .progress-bar-interrupted::-webkit-progress-bar {\n",
       "        background: #F44336;\n",
       "    }\n",
       "</style>\n"
      ],
      "text/plain": [
       "<IPython.core.display.HTML object>"
      ]
     },
     "metadata": {},
     "output_type": "display_data"
    },
    {
     "data": {
      "text/html": [
       "<table border=\"1\" class=\"dataframe\">\n",
       "  <thead>\n",
       "    <tr style=\"text-align: left;\">\n",
       "      <th>epoch</th>\n",
       "      <th>train_loss</th>\n",
       "      <th>valid_loss</th>\n",
       "      <th>time</th>\n",
       "    </tr>\n",
       "  </thead>\n",
       "  <tbody>\n",
       "    <tr>\n",
       "      <td>0</td>\n",
       "      <td>0.403492</td>\n",
       "      <td>0.009634</td>\n",
       "      <td>00:00</td>\n",
       "    </tr>\n",
       "    <tr>\n",
       "      <td>1</td>\n",
       "      <td>0.056754</td>\n",
       "      <td>0.008926</td>\n",
       "      <td>00:00</td>\n",
       "    </tr>\n",
       "    <tr>\n",
       "      <td>2</td>\n",
       "      <td>0.016816</td>\n",
       "      <td>0.009177</td>\n",
       "      <td>00:00</td>\n",
       "    </tr>\n",
       "    <tr>\n",
       "      <td>3</td>\n",
       "      <td>0.011556</td>\n",
       "      <td>0.009228</td>\n",
       "      <td>00:00</td>\n",
       "    </tr>\n",
       "    <tr>\n",
       "      <td>4</td>\n",
       "      <td>0.010643</td>\n",
       "      <td>0.009077</td>\n",
       "      <td>00:00</td>\n",
       "    </tr>\n",
       "    <tr>\n",
       "      <td>5</td>\n",
       "      <td>0.010917</td>\n",
       "      <td>0.009311</td>\n",
       "      <td>00:00</td>\n",
       "    </tr>\n",
       "    <tr>\n",
       "      <td>6</td>\n",
       "      <td>0.010902</td>\n",
       "      <td>0.009123</td>\n",
       "      <td>00:00</td>\n",
       "    </tr>\n",
       "    <tr>\n",
       "      <td>7</td>\n",
       "      <td>0.010784</td>\n",
       "      <td>0.009274</td>\n",
       "      <td>00:00</td>\n",
       "    </tr>\n",
       "    <tr>\n",
       "      <td>8</td>\n",
       "      <td>0.010750</td>\n",
       "      <td>0.009101</td>\n",
       "      <td>00:00</td>\n",
       "    </tr>\n",
       "    <tr>\n",
       "      <td>9</td>\n",
       "      <td>0.010509</td>\n",
       "      <td>0.009157</td>\n",
       "      <td>00:00</td>\n",
       "    </tr>\n",
       "  </tbody>\n",
       "</table>"
      ],
      "text/plain": [
       "<IPython.core.display.HTML object>"
      ]
     },
     "metadata": {},
     "output_type": "display_data"
    },
    {
     "data": {
      "image/png": "[encoded data removed]",
      "text/plain": [
       "<Figure size 600x400 with 1 Axes>"
      ]
     },
     "metadata": {},
     "output_type": "display_data"
    }
   ],
   "source": [
    "#|hide\n",
    "#|slow\n",
    "learn = synth_learner(100, 10)\n",
    "learn.fit_flat_varied(10, 8e-3, next_lr=[6e-3, 4e-3], change_by=[0.25, 0.5], change_time=0)\n",
    "learn.recorder.plot_sched()"
   ]
  }
 ],
 "metadata": {
  "jupytext": {
   "split_at_heading": true
  },
  "kernelspec": {
   "display_name": "Python 3.9.13 ('fastai')",
   "language": "python",
   "name": "python3"
  }
 },
 "nbformat": 4,
 "nbformat_minor": 4
}
