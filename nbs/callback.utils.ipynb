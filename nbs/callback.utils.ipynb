{
 "cells": [
  {
   "cell_type": "code",
   "execution_count": null,
   "metadata": {},
   "outputs": [],
   "source": [
    "#|default_exp callback.utils"
   ]
  },
  {
   "attachments": {},
   "cell_type": "markdown",
   "metadata": {},
   "source": [
    "# Callback Utilities\n",
    "> Additional functionality for fastai callbacks"
   ]
  },
  {
   "cell_type": "code",
   "execution_count": null,
   "metadata": {},
   "outputs": [],
   "source": [
    "#|export\n",
    "from __future__ import annotations\n",
    "\n",
    "from fastai.callback.schedule import SchedCos, _Annealer\n",
    "\n",
    "from fastxtend.imports import *"
   ]
  },
  {
   "cell_type": "code",
   "execution_count": null,
   "metadata": {},
   "outputs": [],
   "source": [
    "#|hide\n",
    "from nbdev.showdoc import show_doc"
   ]
  },
  {
   "attachments": {},
   "cell_type": "markdown",
   "metadata": {},
   "source": [
    "## Callback Scheduler"
   ]
  },
  {
   "cell_type": "code",
   "execution_count": null,
   "metadata": {},
   "outputs": [],
   "source": [
    "#|exporti\n",
    "class CallbackScheduler():\n",
    "    \"A mixin for scheduling values in a Callback\"\n",
    "\n",
    "    def setup_schedule(self,\n",
    "        n_epoch:int, # Number of training epochs. From a callback pass n_epoch\n",
    "        dls_len:int, # Length of the training dataset\n",
    "        start_value:Numeric, # Initial scheduling value\n",
    "        final_value:Numeric, # Final scheduling value\n",
    "        start:Numeric, # Start schedule in percent of training steps (float) or epochs (int, index 0)\n",
    "        finish:Numeric, # Finish schedule in percent of training steps (float) or epochs (int, index 0)\n",
    "        schedule:Callable[..., _Annealer]=SchedCos, # Schedule type. Any fastai schedule annealer\n",
    "        ndigits:Numeric|None=None, # Round return value to ndigits if set using Python's `round`.\n",
    "        callback_name:str=\"CallbackScheduler\", # Name of scheduler for warning & error messages\n",
    "        resume:bool=False, # Whether training has resumed or not\n",
    "    ):\n",
    "        \"Setup the schedule for `schedule_step`. Call during `Callback.begin_fit`\"\n",
    "        if start > finish:\n",
    "            raise ValueError(f'{callback_name} schedule {start=} is greater then {finish=}')\n",
    "\n",
    "        if finish >= 1 and isinstance(finish, int):\n",
    "            finish = finish/n_epoch\n",
    "        if finish > 1:\n",
    "            warn(f'{callback_name} {finish=} is  greater than one and will not finish in this training run')\n",
    "\n",
    "        if resume and n_epoch < finish*n_epoch:\n",
    "            raise ValueError(f\"Resuming {callback_name} before the schedule is finished is not supported\")\n",
    "\n",
    "        self.final_value = final_value\n",
    "        self.ndigits = ndigits\n",
    "        self.schedule_pct = 0.\n",
    "        self.schedule = schedule(start_value, final_value)\n",
    "        self._schedule_sched = 1/(dls_len * n_epoch * (finish - start))\n",
    "\n",
    "    def schedule_step(self,\n",
    "        value:Numeric, # Value to schedule. Value is returned as the passed in type\n",
    "        pct_train:float # Training progress in percent. From a callback pass self.pct_train\n",
    "    ):\n",
    "        \"Takes a scheduling step and returns updated value\"\n",
    "        value_type = type(value)\n",
    "        if pct_train >= self.start and value != self.final_value:\n",
    "            if pct_train >= self.finish:\n",
    "                value = self.final_value\n",
    "            else:\n",
    "                value = self.schedule(self.schedule_pct)\n",
    "                self.schedule_pct += self._schedule_sched\n",
    "        if self.ndigits is not None:\n",
    "            return value_type(round(value, self.ndigits))\n",
    "        else:\n",
    "            return value_type(value)"
   ]
  },
  {
   "cell_type": "code",
   "execution_count": null,
   "metadata": {},
   "outputs": [],
   "source": [
    "show_doc(CallbackScheduler)"
   ]
  },
  {
   "cell_type": "code",
   "execution_count": null,
   "metadata": {},
   "outputs": [],
   "source": [
    "show_doc(CallbackScheduler.setup_schedule)"
   ]
  },
  {
   "cell_type": "code",
   "execution_count": null,
   "metadata": {},
   "outputs": [],
   "source": [
    "show_doc(CallbackScheduler.schedule_step)"
   ]
  }
 ],
 "metadata": {
  "kernelspec": {
   "display_name": "python3",
   "language": "python",
   "name": "python3"
  }
 },
 "nbformat": 4,
 "nbformat_minor": 2
}
