{
 "cells": [
  {
   "cell_type": "markdown",
   "metadata": {},
   "source": [
    "# Fastai Snippets\n",
    "> fastai_snippets is a collection of useful code and small extensions I have created or modified for version 2 of the fastai framework."
   ]
  },
  {
   "cell_type": "markdown",
   "metadata": {},
   "source": [
    "## Install\n",
    "\n",
    "To install, run:\n",
    "```\n",
    "pip install git+https://github.com/warner-benjamin/fastai_snippets.git\n",
    "```\n",
    "\n",
    "Or to create an editable install:\n",
    "```\n",
    "git clone https://github.com/warner-benjamin/fastai_snippets.git\n",
    "cd fastai_snippets\n",
    "pip install -e \".[dev]\"\n",
    "```"
   ]
  },
  {
   "cell_type": "markdown",
   "metadata": {},
   "source": [
    "## Requirements\n",
    "\n",
    "fastai_snippets requires fast.ai to be installed. See http://docs.fast.ai/ for installation instructions."
   ]
  },
  {
   "cell_type": "markdown",
   "metadata": {},
   "source": [
    "## Documentation\n",
    "https://warner-benjamin.github.io/fastai_snippets/"
   ]
  }
 ],
 "metadata": {},
 "nbformat": 4,
 "nbformat_minor": 2
}
