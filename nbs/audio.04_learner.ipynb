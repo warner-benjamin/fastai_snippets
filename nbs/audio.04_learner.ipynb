{
 "cells": [
  {
   "cell_type": "code",
   "execution_count": null,
   "metadata": {},
   "outputs": [],
   "source": [
    "# default_exp audio.learner"
   ]
  },
  {
   "cell_type": "markdown",
   "metadata": {},
   "source": [
    "# Audio Learner\n",
    "> Learner which knows to stack `FlattenTransform`"
   ]
  },
  {
   "cell_type": "code",
   "execution_count": null,
   "metadata": {},
   "outputs": [],
   "source": [
    "#export\n",
    "from __future__ import annotations\n",
    "\n",
    "from fastcore.dispatch import retain_type\n",
    "\n",
    "from fastai.callback.core import Callback\n",
    "from fastai.callback.fp16 import MixedPrecision\n",
    "from fastai.learner import Learner, defaults\n",
    "from fastai.optimizer import Adam\n",
    "\n",
    "from fastxtend.audio.data import MelSpectrogram, Spectrogram\n",
    "from fastxtend.imports import *"
   ]
  },
  {
   "cell_type": "code",
   "execution_count": null,
   "metadata": {},
   "outputs": [],
   "source": [
    "#export\n",
    "class DetupleCallback(Callback):\n",
    "    \"\"\n",
    "    order = MixedPrecision.order-1\n",
    "    def before_batch(self):\n",
    "        xb = L(self.xb)\n",
    "        idx = xb.argwhere(lambda x: isinstance(x, tuple))\n",
    "        xb[i] = xb[i].map(lambda x: torch.cat(x, dim=1))\n",
    "        for i in idx:\n",
    "            xb[i] = retain_type(torch.cat(xb[i], dim=1), xb[i][0])\n",
    "        self.learn.xb = tuple(xb)"
   ]
  },
  {
   "cell_type": "code",
   "execution_count": null,
   "metadata": {},
   "outputs": [],
   "source": [
    "#export\n",
    "class AudioLearner(Learner):\n",
    "    \"An Audio specific Learner that knows how to handel\"\n",
    "    def __init__(self, dls, model, loss_func=None, opt_func=Adam, lr=defaults.lr, splitter=trainable_params, cbs=None,\n",
    "                metrics=None, path=None, model_dir='models', wd=None, wd_bn_bias=False, train_bn=True,\n",
    "                moms=(0.95,0.85,0.95)):\n",
    "\n",
    "        detuple = False\n",
    "        for i in range(len(dls.train.after_batch.fs)):\n",
    "            if not detuple and isinstance(dls.train.after_batch[i], (Spectrogram, MelSpectrogram)):\n",
    "                detuple = is_listy(dls.train.after_batch[i].n_fft)\n",
    "        \n",
    "        if detuple:\n",
    "            if cbs is None: cbs = DetupleCallback()\n",
    "            else: cbs = L(cbs) + L(DetupleCallback())\n",
    "\n",
    "        return Learner(dls=dls, model=model, loss_func=loss_func, opt_func=opt_func, lr=lr, splitter=splitter, cbs=cbs,\n",
    "                       metrics=metrics, path=path, model_dir=model_dir, wd=wd, wd_bn_bias=wd_bn_bias, train_bn=train_bn,\n",
    "                       moms=moms)"
   ]
  }
 ],
 "metadata": {
  "kernelspec": {
   "display_name": "Python 3.9.7 ('base')",
   "language": "python",
   "name": "python3"
  }
 },
 "nbformat": 4,
 "nbformat_minor": 2
}
