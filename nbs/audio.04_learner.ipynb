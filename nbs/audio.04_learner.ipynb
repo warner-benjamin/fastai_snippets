{
 "cells": [
  {
   "cell_type": "code",
   "execution_count": null,
   "metadata": {},
   "outputs": [],
   "source": [
    "#|default_exp audio.learner"
   ]
  },
  {
   "cell_type": "code",
   "execution_count": null,
   "metadata": {},
   "outputs": [],
   "source": [
    "#|export\n",
    "# Contains code from https://github.com/fastaudio/fastaudio:\n",
    "# fastaudio - MIT License - Copyright (c) 2020 scart97"
   ]
  },
  {
   "cell_type": "markdown",
   "metadata": {},
   "source": [
    "# Audio Learner\n",
    "> Learner which stacks tuples of `TensorSpec` or `TensorMelSpec`"
   ]
  },
  {
   "cell_type": "code",
   "execution_count": null,
   "metadata": {},
   "outputs": [],
   "source": [
    "#|export\n",
    "from __future__ import annotations\n",
    "\n",
    "from pathlib import Path\n",
    "\n",
    "from fastcore.dispatch import retain_type\n",
    "\n",
    "from fastai.callback.core import Callback\n",
    "from fastai.callback.fp16 import MixedPrecision\n",
    "from fastai.data.core import DataLoaders\n",
    "from fastai.learner import Metric, Learner, defaults\n",
    "from fastai.optimizer import Optimizer, OptimWrapper\n",
    "\n",
    "from fastxtend.audio.core import TensorSpec, TensorMelSpec\n",
    "from fastxtend.audio.data import MelSpectrogram, Spectrogram\n",
    "from fastxtend.optimizer.fused import Adam\n",
    "from fastxtend.imports import *"
   ]
  },
  {
   "cell_type": "markdown",
   "metadata": {},
   "source": [
    "## DetupleCallback -"
   ]
  },
  {
   "cell_type": "code",
   "execution_count": null,
   "metadata": {},
   "outputs": [],
   "source": [
    "#|export\n",
    "class StackSpecCallback(Callback):\n",
    "    \"Stacks tuples of TensorSpec or TensorMelSpec. ToDo: add resizing\"\n",
    "    order = MixedPrecision.order-1\n",
    "    def before_batch(self):\n",
    "        xb = L(self.xb)\n",
    "        idx = xb.argwhere(lambda x: isinstance(x, (TensorSpec, TensorMelSpec)))\n",
    "        ts = []\n",
    "        for i in idx:\n",
    "            ts.append(xb[i])\n",
    "        stacked = torch.stack(ts, dim=2)\n",
    "        xb = retain_type(torch.flatten(stacked, 1, 2), xb[i])\n",
    "        self.learn.xb = tuple(xb)"
   ]
  },
  {
   "cell_type": "markdown",
   "metadata": {},
   "source": [
    "## audio_learner -"
   ]
  },
  {
   "cell_type": "code",
   "execution_count": null,
   "metadata": {},
   "outputs": [],
   "source": [
    "#|export\n",
    "# TODO opt_func type hint should be Callable[..., Optimizer|OptimWrapper]|OptimWrapper\n",
    "# but nbdev 2.3.9 currently doesn't support this type hint\n",
    "\n",
    "def audio_learner(\n",
    "    dls:DataLoaders, # `DataLoaders` containing fastai or PyTorch `DataLoader`s\n",
    "    model:nn.Module, # PyTorch model for training or inference\n",
    "    loss_func:nn.Module|Callable[..., Tensor]|None=None, # Loss function. Defaults to `dls` loss\n",
    "    opt_func:Optimizer|OptimWrapper=Adam, # Optimization function for training\n",
    "    lr:float|slice=defaults.lr, # Default learning rate\n",
    "    splitter:Callable[[nn.Module], list[Tensor]]=trainable_params, # Split model into parameter groups. Defaults to one parameter group\n",
    "    cbs:Listified[Callback]|None=None, # `Callback`s to add to `Learner`\n",
    "    metrics:Listified[Metric]|None=None, # `Metric`s to calculate on validation set\n",
    "    path:str|Path|None=None, # Parent directory to save, load, and export models. Defaults to `dls` `path`\n",
    "    model_dir:str|Path='models', # Subdirectory to save and load models\n",
    "    wd:float|None=None, # Default weight decay\n",
    "    wd_bn_bias:bool=False, # Apply weight decay to normalization and bias parameters\n",
    "    train_bn:bool=True, # Train frozen normalization layers\n",
    "    moms:tuple[float,float,float]=(0.95,0.85,0.95), # Default momentum for schedulers\n",
    "    default_cbs:bool=True # Include default `Callback`s\n",
    ") -> Learner:\n",
    "    \"An Audio specific Learner that stacks tuples of `TensorSpec` or `TensorMelSpec`\"\n",
    "    detuple = False\n",
    "    for i in range(len(dls.train.after_batch.fs)):\n",
    "        if not detuple and isinstance(dls.train.after_batch[i], (Spectrogram, MelSpectrogram)):\n",
    "            detuple = is_listy(dls.train.after_batch[i].n_fft)\n",
    "\n",
    "    if detuple:\n",
    "        if cbs is None:\n",
    "            cbs = StackSpecCallback()\n",
    "        else:\n",
    "            cbs = L(cbs) + L(StackSpecCallback())\n",
    "\n",
    "    return Learner(dls=dls, model=model, loss_func=loss_func, opt_func=opt_func, lr=lr, splitter=splitter, cbs=cbs,\n",
    "                    metrics=metrics, path=path, model_dir=model_dir, wd=wd, wd_bn_bias=wd_bn_bias, train_bn=train_bn,\n",
    "                    moms=moms, default_cbs=default_cbs)"
   ]
  }
 ],
 "metadata": {
  "kernelspec": {
   "display_name": "python3",
   "language": "python",
   "name": "python3"
  }
 },
 "nbformat": 4,
 "nbformat_minor": 2
}
