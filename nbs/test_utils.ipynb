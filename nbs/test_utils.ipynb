{
 "cells": [
  {
   "cell_type": "code",
   "execution_count": null,
   "metadata": {},
   "outputs": [],
   "source": [
    "# default_exp test_utils"
   ]
  },
  {
   "cell_type": "markdown",
   "metadata": {},
   "source": [
    "# Test Utils\n",
    "\n",
    "> Helpers for testing from fastai, fastcore, and fastxtend"
   ]
  },
  {
   "cell_type": "code",
   "execution_count": null,
   "metadata": {},
   "outputs": [],
   "source": [
    "#export\n",
    "from fastcore.test import (test_fail, test, nequals, test_eq, test_eq_type, test_ne, \n",
    "                           is_close, test_close, test_is, test_shuffled, test_stdout, \n",
    "                           test_warns, TEST_IMAGE, test_fig_exists, ExceptionExpected, exception)\n",
    "\n",
    "from fastai.test_utils import synth_dbunch, synth_learner, RegModel, VerboseCallback, get_env, try_import, nvidia_smi, nvidia_mem\n",
    "from fastai.test_utils import show_install as test_show_install\n",
    "from fastxtend.utils import less_random"
   ]
  },
  {
   "cell_type": "markdown",
   "metadata": {},
   "source": [
    "As of this comment, nbdev cannot export `_all_` if it is on more then one line"
   ]
  },
  {
   "cell_type": "code",
   "execution_count": null,
   "metadata": {},
   "outputs": [],
   "source": [
    "#export\n",
    "_all_ = ['test_fail', 'test', 'nequals', 'test_eq', 'test_eq_type', 'test_ne', 'is_close', 'test_close', 'test_is', 'test_shuffled', 'test_stdout', 'test_warns', 'TEST_IMAGE', 'test_fig_exists', 'ExceptionExpected', 'exception',  'synth_dbunch', 'RegModel', 'synth_learner', 'VerboseCallback', 'get_env', 'try_import', 'nvidia_smi', 'nvidia_mem', 'test_show_install', 'less_random']"
   ]
  },
  {
   "cell_type": "code",
   "execution_count": null,
   "metadata": {},
   "outputs": [],
   "source": [
    "#export\n",
    "TEST_AUDIO = 'audio/whistle.mp3'"
   ]
  }
 ],
 "metadata": {
  "kernelspec": {
   "display_name": "Python 3.9.7 ('base')",
   "language": "python",
   "name": "python3"
  }
 },
 "nbformat": 4,
 "nbformat_minor": 2
}
