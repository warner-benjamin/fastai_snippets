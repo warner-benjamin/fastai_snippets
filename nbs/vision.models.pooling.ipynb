{
 "cells": [
  {
   "cell_type": "code",
   "execution_count": null,
   "metadata": {},
   "outputs": [],
   "source": [
    "# default_exp vision.models.pooling"
   ]
  },
  {
   "cell_type": "code",
   "execution_count": null,
   "metadata": {},
   "outputs": [],
   "source": [
    "#hide\n",
    "from nbdev.showdoc import *"
   ]
  },
  {
   "cell_type": "code",
   "execution_count": null,
   "metadata": {},
   "outputs": [],
   "source": [
    "#export\n",
    "from kornia.filters import BlurPool2D, MaxBlurPool2D"
   ]
  },
  {
   "cell_type": "markdown",
   "metadata": {},
   "source": [
    "## BlurPool -"
   ]
  },
  {
   "cell_type": "code",
   "execution_count": null,
   "metadata": {},
   "outputs": [],
   "source": [
    "#export\n",
    "def BlurPool(\n",
    "    ks:int=3, # The kernel size for pooling\n",
    "    stride:int=2, # The stride size for pooling\n",
    "    padding:int=0, # Unused, for fastai compatibility\n",
    "    ndim:int=2, # Unused, for fastai compatibility\n",
    "    ceil_mode:bool=False # Unused, for fastai compatibility\n",
    ") -> BlurPool2D:\n",
    "    \"Compute blur (anti-aliasing) and downsample a given feature map.\"\n",
    "    assert ndim==2, \"BlurPool is only implemented for 2D\"\n",
    "    return BlurPool2D(kernel_size=ks, stride=stride)"
   ]
  },
  {
   "cell_type": "markdown",
   "metadata": {},
   "source": [
    "## MaxBlurPool -"
   ]
  },
  {
   "cell_type": "code",
   "execution_count": null,
   "metadata": {},
   "outputs": [],
   "source": [
    "#export\n",
    "def MaxBlurPool(\n",
    "    ks:int=3, # The kernel size for blur pooling\n",
    "    stride:int=2, # The stride size for blur pooling\n",
    "    padding:int=0, # Unused, for fastai compatibility\n",
    "    ndim:int=2, # Unused, for fastai compatibility\n",
    "    ceil_mode:int=True, # If True, output size matches conv2d with same kernel size\n",
    "    max_ks:int=2 # The kernel size for max pooling\n",
    ") -> MaxBlurPool2D:\n",
    "    \"Compute pools and blurs and downsample a given feature map. Equivalent to `nn.Sequential(nn.MaxPool2d(...), BlurPool2D(...))`\"\n",
    "    assert ndim==2, \"MaxBlurPool is only implemented for 2D\"\n",
    "    return MaxBlurPool2D(kernel_size=ks, stride=stride, ceil_mode=ceil_mode, max_pool_size=max_ks)"
   ]
  }
 ],
 "metadata": {
  "kernelspec": {
   "display_name": "Python 3.9.7 ('base')",
   "language": "python",
   "name": "python3"
  }
 },
 "nbformat": 4,
 "nbformat_minor": 2
}
