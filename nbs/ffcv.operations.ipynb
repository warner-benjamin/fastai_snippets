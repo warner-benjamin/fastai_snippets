{
 "cells": [
  {
   "cell_type": "code",
   "execution_count": null,
   "metadata": {},
   "outputs": [],
   "source": [
    "#|default_exp ffcv.operations"
   ]
  },
  {
   "cell_type": "code",
   "execution_count": null,
   "metadata": {},
   "outputs": [],
   "source": [
    "#|exporti\n",
    "# Contains code from:\n",
    "# FFCV - Apache License 2.0 - Copyright (c) 2022 FFCV Team"
   ]
  },
  {
   "attachments": {},
   "cell_type": "markdown",
   "metadata": {},
   "source": [
    "# FFCV Operations\n",
    "> Transform Ops for the fastai+FFCV integration"
   ]
  },
  {
   "cell_type": "code",
   "execution_count": null,
   "metadata": {},
   "outputs": [],
   "source": [
    "#|export\n",
    "from __future__ import annotations\n",
    "\n",
    "from typing import Callable, Optional, Tuple\n",
    "from dataclasses import replace\n",
    "\n",
    "import torch\n",
    "import numpy as np\n",
    "\n",
    "from fastcore.dispatch import retain_meta\n",
    "\n",
    "from ffcv.pipeline.allocation_query import AllocationQuery\n",
    "from ffcv.pipeline.operation import Operation\n",
    "from ffcv.pipeline.state import State\n",
    "from ffcv.transforms.ops import ToDevice as _ToDevice\n",
    "from ffcv.transforms.ops import Convert, View\n",
    "\n",
    "from fastxtend.imports import *"
   ]
  },
  {
   "cell_type": "code",
   "execution_count": null,
   "metadata": {},
   "outputs": [],
   "source": [
    "#|export\n",
    "_all_ = ['Convert', 'View']"
   ]
  },
  {
   "cell_type": "code",
   "execution_count": null,
   "metadata": {},
   "outputs": [],
   "source": [
    "from nbdev.showdoc import show_doc"
   ]
  },
  {
   "cell_type": "markdown",
   "metadata": {},
   "source": [
    "## FFCV Operations"
   ]
  },
  {
   "cell_type": "code",
   "execution_count": null,
   "metadata": {},
   "outputs": [],
   "source": [
    "show_doc(Convert)"
   ]
  },
  {
   "cell_type": "code",
   "execution_count": null,
   "metadata": {},
   "outputs": [],
   "source": [
    "show_doc(View)"
   ]
  },
  {
   "attachments": {},
   "cell_type": "markdown",
   "metadata": {},
   "source": [
    "## ToDevice"
   ]
  },
  {
   "cell_type": "code",
   "execution_count": null,
   "metadata": {},
   "outputs": [],
   "source": [
    "#|export\n",
    "class ToDevice(_ToDevice):\n",
    "    \"Move tensor to device and retains metadata\"\n",
    "    def __init__(self,\n",
    "        device:int|str|torch.device, # Device to move Tensor to\n",
    "        non_blocking:bool=True # Asynchronous if copying from CPU to GPU\n",
    "    ):\n",
    "        super().__init__(device, non_blocking)\n",
    "\n",
    "    def generate_code(self) -> Callable:\n",
    "        def to_device(inp, dst):\n",
    "            if len(inp.shape) == 4:\n",
    "                if inp.is_contiguous(memory_format=torch.channels_last):\n",
    "                    dst = dst.reshape(inp.shape[0], inp.shape[2], inp.shape[3], inp.shape[1])\n",
    "                    dst = dst.permute(0,3,1,2)\n",
    "            if not isinstance(dst, type(inp)):\n",
    "                dst = retain_meta(dst, torch.as_subclass(dst, type(inp)))\n",
    "            dst = dst[:inp.shape[0]]\n",
    "            dst.copy_(inp, non_blocking=self.non_blocking)\n",
    "            return dst\n",
    "        return to_device"
   ]
  },
  {
   "attachments": {},
   "cell_type": "markdown",
   "metadata": {},
   "source": [
    "## Convert NumPy to fastai Tensors"
   ]
  },
  {
   "cell_type": "code",
   "execution_count": null,
   "metadata": {},
   "outputs": [],
   "source": [
    "#|export\n",
    "class ToTensorBase(Operation):\n",
    "    \"Convert from Numpy array to fastai TensorBase or `tensor_cls`.\"\n",
    "    def __init__(self, tensor_cls:TensorBase=TensorBase):\n",
    "        super().__init__()\n",
    "        self.tensor_cls = tensor_cls\n",
    "\n",
    "    def generate_code(self) -> Callable:\n",
    "        tensor_cls = self.tensor_cls\n",
    "        def to_tensor(inp, dst):\n",
    "            return tensor_cls(torch.from_numpy(inp))\n",
    "        return to_tensor\n",
    "\n",
    "    def declare_state_and_memory(self, previous_state: State) -> Tuple[State, Optional[AllocationQuery]]:\n",
    "        new_dtype = torch.from_numpy(np.empty((), dtype=previous_state.dtype)).dtype\n",
    "        return replace(previous_state, jit_mode=False, dtype=new_dtype), None"
   ]
  },
  {
   "cell_type": "code",
   "execution_count": null,
   "metadata": {},
   "outputs": [],
   "source": [
    "#|export\n",
    "class ToTensorImage(ToTensorBase):\n",
    "    \"Convenience op to convert from Numpy array to fastai TensorImage or `tensor_cls`.\"\n",
    "    def __init__(self, tensor_cls:TensorImageBase=TensorImage):\n",
    "        super().__init__()\n",
    "        self.tensor_cls = tensor_cls\n",
    "\n",
    "    def generate_code(self) -> Callable:\n",
    "        tensor_cls = self.tensor_cls\n",
    "        def to_tensor(inp, dst):\n",
    "            return tensor_cls(torch.from_numpy(inp).permute(0,3,1,2))\n",
    "        return to_tensor"
   ]
  },
  {
   "cell_type": "code",
   "execution_count": null,
   "metadata": {},
   "outputs": [],
   "source": [
    "#|export\n",
    "class ToTensorImageBW(ToTensorImage):\n",
    "    \"Convenience op to convert from Numpy array to fastai TensorImageBW.\"\n",
    "    def __init__(self):\n",
    "        super().__init__(TensorImageBW)"
   ]
  },
  {
   "cell_type": "code",
   "execution_count": null,
   "metadata": {},
   "outputs": [],
   "source": [
    "#|export\n",
    "class ToTensorMask(ToTensorImage):\n",
    "    \"Convenience op to convert from Numpy array to fastai TensorMask.\"\n",
    "    def __init__(self):\n",
    "        super().__init__(TensorMask)"
   ]
  },
  {
   "cell_type": "code",
   "execution_count": null,
   "metadata": {},
   "outputs": [],
   "source": [
    "#|export\n",
    "class ToTensorCategory(ToTensorBase):\n",
    "    \"Convenience op to convert from Numpy array to fastxtend TensorCategory.\"\n",
    "    def __init__(self):\n",
    "        super().__init__(TensorCategory)"
   ]
  },
  {
   "cell_type": "code",
   "execution_count": null,
   "metadata": {},
   "outputs": [],
   "source": [
    "#|export\n",
    "class ToTensorMultiCategory(ToTensorBase):\n",
    "    \"Convenience op convert from Numpy array to fastxtend TensorMultiCategory.\"\n",
    "    def __init__(self):\n",
    "        super().__init__(TensorMultiCategory)"
   ]
  },
  {
   "cell_type": "code",
   "execution_count": null,
   "metadata": {},
   "outputs": [],
   "source": [
    "#|export\n",
    "class ToTensorTitledTensorScalar(ToTensorBase):\n",
    "    \"Convenience op convert from Numpy array to fastai TitledTensorScalar.\"\n",
    "    def __init__(self):\n",
    "        super().__init__(TitledTensorScalar)"
   ]
  }
 ],
 "metadata": {
  "kernelspec": {
   "display_name": "python3",
   "language": "python",
   "name": "python3"
  }
 },
 "nbformat": 4,
 "nbformat_minor": 2
}
