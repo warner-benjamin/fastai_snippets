{
 "cells": [
  {
   "cell_type": "code",
   "execution_count": null,
   "metadata": {},
   "outputs": [],
   "source": [
    "#|default_exp callback.overview"
   ]
  },
  {
   "cell_type": "markdown",
   "metadata": {},
   "source": [
    "# Getting Started with fastxtend Callbacks\n",
    "> An overview of callbacks in fastxtend"
   ]
  },
  {
   "cell_type": "markdown",
   "metadata": {},
   "source": [
    "As an extensions library for fastai, fastxend contains multiple types of callbacks. This guide will briefly go over all types of callbacks in fastxtend. Every callback in this guide will link to the full callback documentation.\n",
    "\n",
    "1) [New and replacement](#new-and-replacement-callbacks) callbacks\n",
    "2) [Task specific](#task-specific-callbacks) callbacks\n",
    "3) [Modification](#modification-callbacks) callbacks\n",
    "4) [Utility](#utility-callbacks) callbacks\n",
    "5) [Feature porting](#feature-porting-callbacks) callbacks"
   ]
  },
  {
   "cell_type": "markdown",
   "metadata": {},
   "source": [
    "## New and Replacement Callbacks\n",
    "\n",
    "The first type of callback in fastxtend are new and replacement callbacks. These callbacks either add new features to fastai or augment existing fastai functionality but are fully backwards compatible. These callbacks are imported via task specific all imports such as `fastxtend.vision.all` or `fastxtend.text.all`.\n",
    "\n",
    "New Callbacks:\n",
    "\n",
    "- [Exponential Moving Average](callback.ema.html) Callbacks\n",
    "  - `EMACallback`\n",
    "  - `EMASchedule`\n",
    "- [Tracking](callback.tracker.html) Callbacks\n",
    "  - `TerminateOnTrainNaN`\n",
    "  - `SaveModelAtEnd`\n",
    "  - `LastMetricCallback`\n",
    "\n",
    "Replacement Callbacks:\n",
    "\n",
    "- [CutMixUp](callback.cutmixup.html) Callbacks\n",
    "  - `MixUp`\n",
    "  - `CutMix`\n",
    "- [Learning Rate Finder](callback.lr_finder.html) Callback\n",
    "  - `LRFinder`"
   ]
  },
  {
   "cell_type": "markdown",
   "metadata": {},
   "source": [
    "## Task Specific Callbacks\n",
    "\n",
    "These callbacks are only imported with task specific imports.\n",
    "\n",
    "Vision callbacks imported from `fastxtend.vision.all`:\n",
    "\n",
    "- [CutMixUp](callback.cutmixup.html) Callbacks\n",
    "  - `CutMixUp`\n",
    "  - `CutMixUpAugment`\n",
    "- [Progressive Resizing](callback.progresize.html) Callback\n",
    "  - `ProgressiveResize`\n",
    "\n",
    "Text callbacks imported from `fastxend.text.all`:\n",
    "\n",
    "- [Transformers Compatibility](text.huggingface.html) Callback\n",
    "  - `HuggingFaceCallback`\n",
    "\n",
    "Audio callbacks imported from `fastxtend.auido.all`:\n",
    "\n",
    "- [Audio Cutmixup](audio.05_mixup.html) Callbacks\n",
    "  - `AudioMixUp`\n",
    "  - `AudioCutMixUp`\n",
    "  - `AudioCutMixUpAugment`"
   ]
  },
  {
   "cell_type": "markdown",
   "metadata": {},
   "source": [
    "## Modification Callbacks\n",
    "\n",
    "These callbacks modify either existing fastai functionality or change the fastai defaults and must be imported separately.\n",
    "\n",
    "- [PyTorch Compile](callback.compiler.html) Callbacks imported via `fastxtend.callback.compiler`\n",
    "  - `CompilerCallback`\n",
    "  - `DynamoExplainCallback`\n",
    "- [Gradient Accumulation](callback.gradaccum.html) Callbacks imported via `fastxtend.callback.gradaccum`\n",
    "  - `GradientAccumulation`\n",
    "  - `GradientAccumulationSchedule`\n",
    "- [Profiling](callback.profiler.html) Callbacks imported via `fastxtend.callback.profiler`\n",
    "  - `ThroughputCallback`\n",
    "  - `SimpleProfilerCallback`"
   ]
  },
  {
   "cell_type": "markdown",
   "metadata": {},
   "source": [
    "## Utility Callbacks\n",
    "\n",
    "These callbacks add tools for developing other callbacks.\n",
    "- `LogDispatch`\n",
    "- `CallbackScheduler`"
   ]
  },
  {
   "cell_type": "markdown",
   "metadata": {},
   "source": [
    "## Feature Porting Callbacks\n",
    "\n",
    "These callbacks backport current fastai features to older versions of fastai. These callbacks started out as fastxtend callbacks and then were upstreamed into fastai. If you are using the latest version of fastai you will be using the fastai versions of these callbacks.\n",
    "\n",
    "- `ChannelsLast`\n",
    "- `MixedPrecision`"
   ]
  }
 ],
 "metadata": {
  "kernelspec": {
   "display_name": "python3",
   "language": "python",
   "name": "python3"
  }
 },
 "nbformat": 4,
 "nbformat_minor": 2
}
