{
 "cells": [
  {
   "cell_type": "code",
   "execution_count": null,
   "metadata": {},
   "outputs": [],
   "source": [
    "#|default_exp basics"
   ]
  },
  {
   "cell_type": "code",
   "execution_count": null,
   "metadata": {},
   "outputs": [],
   "source": [
    "#|export\n",
    "from __future__ import annotations\n",
    "\n",
    "import sys\n",
    "import re\n",
    "\n",
    "from fastcore.basics import annotations, argnames, _store_attr, filter_dict, range_of, Inf\n",
    "from fastcore.dispatch import typedispatch, retain_meta\n",
    "\n",
    "from fastxtend.imports import *"
   ]
  },
  {
   "cell_type": "code",
   "execution_count": null,
   "metadata": {},
   "outputs": [],
   "source": [
    "#|export\n",
    "def is_listish(x):\n",
    "    \"Subset of `is_listy`: (tuple,list,L)\"\n",
    "    return isinstance(x, (tuple,list,L))"
   ]
  },
  {
   "cell_type": "code",
   "execution_count": null,
   "metadata": {},
   "outputs": [],
   "source": [
    "#|export\n",
    "def listify_store_attr(names=None, self=None, but='', cast=False, store_args=None, **attrs):\n",
    "    \"Maybe listify, then store params named in comma-separated `names` from calling context into attrs in `self`\"\n",
    "    fr = sys._getframe(1)\n",
    "    args = argnames(fr, True)\n",
    "    if self: args = ('self', *args)\n",
    "    else: self = fr.f_locals[args[0]]\n",
    "    if store_args is None: store_args = not hasattr(self,'__slots__')\n",
    "    if store_args and not hasattr(self, '__stored_args__'): self.__stored_args__ = {}\n",
    "    anno = annotations(self) if cast else {}\n",
    "    if names and isinstance(names,str): names = re.split(', *', names)\n",
    "    ns = names if names is not None else getattr(self, '__slots__', args[1:])\n",
    "    added = {n:fr.f_locals[n] for n in ns}\n",
    "    attrs = {**attrs, **added}\n",
    "    if isinstance(but,str): but = re.split(', *', but)\n",
    "    # start listify_store_attr code\n",
    "    attrs = {k:v for k,v in attrs.items() if k not in but}\n",
    "    attrs_len = {n:len(attrs[n]) if is_listy(attrs[n]) else 1 for n in attrs.keys()}\n",
    "    l = max(attrs_len.values())\n",
    "    if l > 1:\n",
    "        ones = filter_dict(attrs_len, lambda x,v: v==1)\n",
    "        if len(ones)+1 != len(attrs_len): \n",
    "            raise ValueError(f'Args must be all be length {l} or 1. Invalid args: {list(filter_dict(attrs_len, lambda x,v: l>v>1).keys())}')\n",
    "        for n in ones.keys():\n",
    "            # if-else needed for None input\n",
    "            attrs[n] = L(attrs[n])*l if is_listy(attrs[n]) else L([attrs[n]])*l\n",
    "    return _store_attr(self, anno, **attrs)"
   ]
  },
  {
   "cell_type": "code",
   "execution_count": null,
   "metadata": {},
   "outputs": [],
   "source": [
    "#|export\n",
    "@typedispatch\n",
    "def show_batch(x, y, samples, ctxs=None, max_n=9, **kwargs):\n",
    "    if ctxs is None: ctxs = Inf.nones\n",
    "    plots = []\n",
    "    if hasattr(samples[0], 'show'):\n",
    "        for s,c,_ in zip(samples,ctxs,range(max_n)):\n",
    "            s = retain_meta(x, s)\n",
    "            plots.append(s.show(ctx=c, **kwargs))\n",
    "    else:\n",
    "        for i in range_of(samples[0]): \n",
    "            for b,c,_ in zip(samples.itemgot(i),ctxs,range(max_n)):\n",
    "                b = retain_meta(x, b)\n",
    "                plots.append(b.show(ctx=c, **kwargs))\n",
    "    ctxs = plots\n",
    "    return ctxs"
   ]
  }
 ],
 "metadata": {
  "kernelspec": {
   "display_name": "Python 3.9.5 64-bit ('base': conda)",
   "language": "python",
   "name": "python3"
  }
 },
 "nbformat": 4,
 "nbformat_minor": 2
}
