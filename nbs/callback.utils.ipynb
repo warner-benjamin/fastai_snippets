{
 "cells": [
  {
   "cell_type": "code",
   "execution_count": null,
   "metadata": {},
   "outputs": [],
   "source": [
    "#|default_exp callback.utils"
   ]
  },
  {
   "attachments": {},
   "cell_type": "markdown",
   "metadata": {},
   "source": [
    "# Callback Utilities\n",
    "> Additional functionality for fastai callbacks"
   ]
  },
  {
   "cell_type": "code",
   "execution_count": null,
   "metadata": {},
   "outputs": [],
   "source": [
    "#|export\n",
    "from __future__ import annotations\n",
    "\n",
    "from fastai.basics import defaults\n",
    "from fastai.callback.core import Callback\n",
    "from fastai.callback.schedule import SchedCos, _Annealer\n",
    "from fastai.learner import Learner, Recorder\n",
    "\n",
    "try:\n",
    "    import wandb\n",
    "    from fastai.callback.wandb import WandbCallback\n",
    "    WANDB = True\n",
    "except ImportError:\n",
    "    WANDB = False\n",
    "\n",
    "try:\n",
    "    import tensorboard\n",
    "    from fastai.callback.tensorboard import TensorBoardCallback\n",
    "    TENSORBOARD = True\n",
    "except ImportError:\n",
    "    TENSORBOARD = False\n",
    "\n",
    "from fastxtend.imports import *"
   ]
  },
  {
   "cell_type": "code",
   "execution_count": null,
   "metadata": {},
   "outputs": [],
   "source": [
    "#|hide\n",
    "from nbdev.showdoc import show_doc"
   ]
  },
  {
   "attachments": {},
   "cell_type": "markdown",
   "metadata": {},
   "source": [
    "## Log Values From Callbacks\n",
    "\n",
    "fastxtend adds the ability to log additional values from callbacks via `LogDispatch` callback and `Learner._log_values` & `Learner._log_dict`.\n",
    "\n",
    "To log additional values to a supported logger, import <code>LogDispatch</code> and then pass values as arguments to `self.learn._log_values` or as a dictionary to `self.learn._log_dict` in `after_batch` for training values and `after_epoch` for validation values.\n",
    "\n",
    "```python\n",
    "from fastxtend.callback.utils import *\n",
    "\n",
    "def ExampleCallback(Callback)\n",
    "    def after_batch(self):\n",
    "        self.learn._log_values(train_value1=value1, train_value2=value2)\n",
    "\n",
    "    def after_epoch(self):\n",
    "        self.learn._log_dict({'valid/value1':value1, 'valid/value2':value2})\n",
    "```\n",
    "\n",
    "<code>LogDispatch</code> will update a train and valid dictionary using the argument names as keys, and will call each supported logger's update method after `Recorder` runs.\n",
    "\n",
    "If imported <code>LogDispatch</code> will automatically be added to the default fastai callbacks.\n",
    "\n",
    "Supported loggers:\n",
    "\n",
    "* `fastai.callback.wandb.WandbCallback`\n",
    "* `fastai.callback.tensorboard.TensorBoardCallback`\n",
    "\n",
    "fastxtend uses <code>LogDispatch</code> across multiple callbacks, such as `EMAWarmupCallback` and `ProgressiveResize`, to log additional information.\n",
    "\n",
    "PRs to add additional supported loggers are welcome."
   ]
  },
  {
   "attachments": {},
   "cell_type": "markdown",
   "metadata": {},
   "source": [
    "### Weights and Biases Features\n",
    "\n",
    "`LogDispatch.log_wandb_table` allows logging a [Weights and Biases Table](https://docs.wandb.ai/guides/track/log/log-tables) in a callback.\n",
    "\n",
    "```python\n",
    "def ExampleCallback(Callback)\n",
    "    def after_fit(self):\n",
    "        self.learn.log_dispatch.log_wandb_table(name='pandas_df', dataframe=pandas_df)\n",
    "```\n",
    "\n",
    "`LogDispatch.log_wandb_summary` allows logging [Weights and Biases Summary Metrics](https://docs.wandb.ai/guides/track/log/log-summary) in a callback.\n",
    "\n",
    "```python\n",
    "def ExampleCallback(Callback)\n",
    "    def after_fit(self):\n",
    "        self.learn.log_dispatch.log_wandb_summary(name='summary_metric', summary=summary_metric)\n",
    "```"
   ]
  },
  {
   "cell_type": "code",
   "execution_count": null,
   "metadata": {},
   "outputs": [],
   "source": [
    "#|export\n",
    "# key should be the fastai callback name\n",
    "available_loggers = {\n",
    "    'wandb': WANDB,\n",
    "    'tensorboard': TENSORBOARD\n",
    "    }"
   ]
  },
  {
   "cell_type": "code",
   "execution_count": null,
   "metadata": {},
   "outputs": [],
   "source": [
    "#|export\n",
    "class LogDispatch(Callback):\n",
    "    \"A default callback for dispatching additional values to loggers\"\n",
    "    run_valid, order = False, Recorder.order+2\n",
    "    remove_on_fetch = True\n",
    "\n",
    "    def before_fit(self):\n",
    "        \"Log additional values if a supported logger is detected\"\n",
    "        self.train_values, self.valid_values = {}, {}\n",
    "        self.loggers = []\n",
    "        for logger, available in available_loggers.items():\n",
    "            if available and hasattr(self.learn, logger):\n",
    "                self.loggers.append(getattr(self, f'_log_{logger}'))\n",
    "        # only run if there are initialize loggers\n",
    "        self.run = len(self.loggers) > 0\n",
    "\n",
    "    def after_batch(self):\n",
    "        \"Logs training values added by `_update_values` via `Learner.update_logger_values`\"\n",
    "        if self.learn.recorder.run_train and len(self.train_values) > 0:\n",
    "            for log in self.loggers:\n",
    "                log(self.train_values)\n",
    "\n",
    "    def after_epoch(self):\n",
    "        \"Logs valid values added by `_update_values` via `Learner.update_logger_values`\"\n",
    "        if len(self.valid_values) > 0:\n",
    "            for log in self.loggers:\n",
    "                log(self.valid_values)\n",
    "\n",
    "    def log_wandb_table(self, name:str, **kwargs):\n",
    "        \"Log `wandb.Table` to Weights and Biases. See `wandb.Table` for details\"\n",
    "        if WANDB:\n",
    "            wandb.log({name: wandb.Table(**kwargs)})\n",
    "        else:\n",
    "            raise warn(\"Tried logging Weights and Biases table without wandb installed\")\n",
    "\n",
    "    def log_wandb_summary(self, name:str, summary:Callable):\n",
    "        \"Log Summary Metrics to Weights and Biases. See `wandb.summary` for details\"\n",
    "        if WANDB:\n",
    "            wandb.summary[name] = summary\n",
    "        else:\n",
    "            raise warn(\"Tried logging Weights and Biases Summary Metrics without wandb installed\")\n",
    "\n",
    "    def _update_values(self, **kwargs):\n",
    "        \"Update log dictionaries using arguments\"\n",
    "        if self.training:\n",
    "            self.train_values.update(**kwargs)\n",
    "        else:\n",
    "            self.valid_values.update(**kwargs)\n",
    "\n",
    "    def _update_dict(self, value_dict:dict):\n",
    "        \"Update log dictionaries wiht a dictionary\"\n",
    "        if self.training:\n",
    "            self.train_values.update(value_dict)\n",
    "        else:\n",
    "            self.valid_values.update(value_dict)\n",
    "\n",
    "    def _log_wandb(self, values:dict):\n",
    "        \"Internal method to log values to Weights and Biases\"\n",
    "        wandb.log(values, self.learn.wandb._wandb_step)\n",
    "\n",
    "    def _log_tensorboard(self, values:dict):\n",
    "        \"Internal method to log scalers to TensorBoard\"\n",
    "        for k,v in values.items():\n",
    "            self.learn.tensorboard.writer.add_scalar(k, v, self.train_iter)"
   ]
  },
  {
   "cell_type": "code",
   "execution_count": null,
   "metadata": {},
   "outputs": [],
   "source": [
    "show_doc(LogDispatch.log_wandb_table)"
   ]
  },
  {
   "cell_type": "code",
   "execution_count": null,
   "metadata": {},
   "outputs": [],
   "source": [
    "show_doc(LogDispatch.log_wandb_summary)"
   ]
  },
  {
   "cell_type": "code",
   "execution_count": null,
   "metadata": {},
   "outputs": [],
   "source": [
    "#|exporti\n",
    "if LogDispatch not in defaults.callbacks:\n",
    "    defaults.callbacks.append(LogDispatch)"
   ]
  },
  {
   "cell_type": "code",
   "execution_count": null,
   "metadata": {},
   "outputs": [],
   "source": [
    "#|export\n",
    "@patch\n",
    "def _log_values(self:Learner, **kwargs):\n",
    "    \"Update additional logging values from arguments using `LogDispatch`.\"\n",
    "    self.log_dispatch._update_values(**kwargs)"
   ]
  },
  {
   "cell_type": "code",
   "execution_count": null,
   "metadata": {},
   "outputs": [],
   "source": [
    "show_doc(Learner._log_values)"
   ]
  },
  {
   "cell_type": "code",
   "execution_count": null,
   "metadata": {},
   "outputs": [],
   "source": [
    "#|export\n",
    "@patch\n",
    "def _log_dict(self:Learner, value_dict:dict):\n",
    "    \"Update additional logging values from a dictionary using `LogDispatch`.\"\n",
    "    self.log_dispatch._update_dict(value_dict)"
   ]
  },
  {
   "cell_type": "code",
   "execution_count": null,
   "metadata": {},
   "outputs": [],
   "source": [
    "show_doc(Learner._log_dict)"
   ]
  },
  {
   "attachments": {},
   "cell_type": "markdown",
   "metadata": {},
   "source": [
    "## Callback Scheduler\n",
    "\n",
    "<code>CallbackScheduler</code> is a utlitity method for callback developers to modifying callback values on a schedule.\n",
    "\n",
    "fastxtend uses it in `EMAWarmupCallback` to schedule the EMA decay rate."
   ]
  },
  {
   "cell_type": "code",
   "execution_count": null,
   "metadata": {},
   "outputs": [],
   "source": [
    "#|export\n",
    "class CallbackScheduler():\n",
    "    \"A mixin for scheduling values in a Callback\"\n",
    "\n",
    "    def setup_schedule(self,\n",
    "        n_epoch:int, # Number of training epochs. From a callback pass n_epoch\n",
    "        dls_len:int, # Length of the training dataset\n",
    "        start_value:Numeric, # Initial scheduling value\n",
    "        final_value:Numeric, # Final scheduling value\n",
    "        start:Numeric, # Start schedule in percent of training steps (float) or epochs (int, index 0)\n",
    "        finish:Numeric, # Finish schedule in percent of training steps (float) or epochs (int, index 0)\n",
    "        schedule:Callable[..., _Annealer]=SchedCos, # Schedule type. Any fastai schedule annealer\n",
    "        ndigits:Numeric|None=None, # Round return value to ndigits if set using Python's `round`.\n",
    "        callback_name:str=\"CallbackScheduler\", # Name of scheduler for warning & error messages\n",
    "        resume:bool=False, # Whether training has resumed or not\n",
    "    ):\n",
    "        \"Setup the schedule for `schedule_step`. Call during `Callback.begin_fit`\"\n",
    "        if start > finish:\n",
    "            raise ValueError(f'{callback_name} schedule {start=} is greater then {finish=}')\n",
    "\n",
    "        if finish >= 1 and isinstance(finish, int):\n",
    "            finish = finish/n_epoch\n",
    "        if finish > 1:\n",
    "            warn(f'{callback_name} {finish=} is  greater than one and will not finish in this training run')\n",
    "\n",
    "        if resume and n_epoch < finish*n_epoch:\n",
    "            raise ValueError(f\"Resuming {callback_name} before the schedule is finished is not supported\")\n",
    "\n",
    "        self.start = start\n",
    "        self.finish = finish\n",
    "        self.final_value = final_value\n",
    "        self.ndigits = ndigits\n",
    "        self.schedule_pct = 0.\n",
    "        self.schedule = schedule(start_value, final_value)\n",
    "        self._schedule_sched = 1/(dls_len * n_epoch * (finish - start))\n",
    "\n",
    "    def schedule_step(self,\n",
    "        value:Numeric, # Value to schedule. Value is returned as the passed in type\n",
    "        pct_train:float # Training progress in percent. From a callback pass self.pct_train\n",
    "    ):\n",
    "        \"Takes a scheduling step and returns updated value\"\n",
    "        value_type = type(value)\n",
    "        if pct_train >= self.start and value != self.final_value:\n",
    "            if pct_train >= self.finish:\n",
    "                value = self.final_value\n",
    "            else:\n",
    "                value = self.schedule(self.schedule_pct)\n",
    "                self.schedule_pct += self._schedule_sched\n",
    "        if self.ndigits is not None:\n",
    "            return value_type(round(value, self.ndigits))\n",
    "        else:\n",
    "            return value_type(value)"
   ]
  },
  {
   "cell_type": "code",
   "execution_count": null,
   "metadata": {},
   "outputs": [],
   "source": [
    "show_doc(CallbackScheduler)"
   ]
  },
  {
   "cell_type": "code",
   "execution_count": null,
   "metadata": {},
   "outputs": [],
   "source": [
    "show_doc(CallbackScheduler.setup_schedule)"
   ]
  },
  {
   "cell_type": "code",
   "execution_count": null,
   "metadata": {},
   "outputs": [],
   "source": [
    "show_doc(CallbackScheduler.schedule_step)"
   ]
  },
  {
   "attachments": {},
   "cell_type": "markdown",
   "metadata": {},
   "source": [
    "## Tests -"
   ]
  },
  {
   "cell_type": "code",
   "execution_count": null,
   "metadata": {},
   "outputs": [],
   "source": [
    "#|hide\n",
    "import matplotlib.pyplot as plt\n",
    "\n",
    "from fastxtend.test_utils import *"
   ]
  },
  {
   "cell_type": "code",
   "execution_count": null,
   "metadata": {},
   "outputs": [],
   "source": [
    "#|hide\n",
    "class UtilsTest(Callback, CallbackScheduler):\n",
    "    \"Test LogDispatch & CallbackScheduler\"\n",
    "    def __init__(self, **kwargs):\n",
    "        CallbackScheduler.__init__(self)\n",
    "\n",
    "    def before_fit(self):\n",
    "        self.value = 0.\n",
    "        self.values, self.epochs = [], []\n",
    "        super().setup_schedule(self.n_epoch, len(self.dls.train), 0,\n",
    "                               0.9, 0.25, 0.75, callback_name='CallbackSchedulerTest')\n",
    "\n",
    "    def before_batch(self):\n",
    "        self.value = super().schedule_step(self.value, self.pct_train)\n",
    "\n",
    "    def after_batch(self):\n",
    "        assert self.learn.log_dispatch.run == False\n",
    "        self.learn._log_values(value=self.value)\n",
    "        self.values.append(self.value)\n",
    "\n",
    "    def after_fit(self):\n",
    "        plt.figure(figsize=(4,4))\n",
    "        plt.plot(self.values)\n",
    "        plt.ylim(0,1)\n",
    "        plt.xlabel('Training Percent')\n",
    "        plt.ylabel('Schedule Value')\n",
    "        assert self.learn.log_dispatch.train_values.get('value', 0) == 0.9"
   ]
  },
  {
   "cell_type": "code",
   "execution_count": null,
   "metadata": {},
   "outputs": [
    {
     "data": {
      "text/html": [
       "\n",
       "<style>\n",
       "    /* Turns off some styling */\n",
       "    progress {\n",
       "        /* gets rid of default border in Firefox and Opera. */\n",
       "        border: none;\n",
       "        /* Needs to be in here for Safari polyfill so background images work as expected. */\n",
       "        background-size: auto;\n",
       "    }\n",
       "    progress:not([value]), progress:not([value])::-webkit-progress-bar {\n",
       "        background: repeating-linear-gradient(45deg, #7e7e7e, #7e7e7e 10px, #5c5c5c 10px, #5c5c5c 20px);\n",
       "    }\n",
       "    .progress-bar-interrupted, .progress-bar-interrupted::-webkit-progress-bar {\n",
       "        background: #F44336;\n",
       "    }\n",
       "</style>\n"
      ],
      "text/plain": [
       "<IPython.core.display.HTML object>"
      ]
     },
     "metadata": {},
     "output_type": "display_data"
    },
    {
     "data": {
      "text/html": [
       "\n",
       "    <div>\n",
       "      <progress value='1' class='' max='10' style='width:300px; height:20px; vertical-align: middle;'></progress>\n",
       "      10.00% [1/10 00:00&lt;00:00]\n",
       "    </div>\n",
       "    \n",
       "<table border=\"1\" class=\"dataframe\">\n",
       "  <thead>\n",
       "    <tr style=\"text-align: left;\">\n",
       "      <th>epoch</th>\n",
       "      <th>train_loss</th>\n",
       "      <th>valid_loss</th>\n",
       "      <th>time</th>\n",
       "    </tr>\n",
       "  </thead>\n",
       "  <tbody>\n",
       "    <tr>\n",
       "      <td>0</td>\n",
       "      <td>6.998855</td>\n",
       "      <td>6.030475</td>\n",
       "      <td>00:00</td>\n",
       "    </tr>\n",
       "  </tbody>\n",
       "</table><p>\n",
       "\n",
       "    <div>\n",
       "      <progress value='2' class='' max='2' style='width:300px; height:20px; vertical-align: middle;'></progress>\n",
       "      100.00% [2/2 00:00&lt;00:00 6.0670]\n",
       "    </div>\n",
       "    "
      ],
      "text/plain": [
       "<IPython.core.display.HTML object>"
      ]
     },
     "metadata": {},
     "output_type": "display_data"
    },
    {
     "data": {
      "image/png": "[encoded data removed]",
      "text/plain": [
       "<Figure size 400x400 with 1 Axes>"
      ]
     },
     "metadata": {},
     "output_type": "display_data"
    }
   ],
   "source": [
    "#|hide\n",
    "with no_random():\n",
    "    learn = synth_learner(cbs=[UtilsTest])\n",
    "    learn.fit(10, 1e-3)"
   ]
  }
 ],
 "metadata": {
  "kernelspec": {
   "display_name": "python3",
   "language": "python",
   "name": "python3"
  }
 },
 "nbformat": 4,
 "nbformat_minor": 2
}
