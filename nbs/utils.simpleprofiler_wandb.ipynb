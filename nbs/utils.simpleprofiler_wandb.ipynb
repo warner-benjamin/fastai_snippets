{
 "cells": [
  {
   "cell_type": "code",
   "execution_count": null,
   "metadata": {},
   "outputs": [],
   "source": [
    "# default_exp utils.simpleprofiler_wandb"
   ]
  },
  {
   "cell_type": "code",
   "execution_count": null,
   "metadata": {},
   "outputs": [],
   "source": [
    "#hide\n",
    "from nbdev.showdoc import *"
   ]
  },
  {
   "cell_type": "markdown",
   "metadata": {},
   "source": [
    "# Simple Profiler Wandb Logging\n",
    "> Automatically logs Simple Profiler Callback to wandb."
   ]
  },
  {
   "cell_type": "markdown",
   "metadata": {},
   "source": [
    "Logs two wandb tables: \n",
    "- `simple_profile_report`: formatted report from Simple Profiler Callback\n",
    "- `simple_profile_results`: raw results from Simple Profiler Callback"
   ]
  },
  {
   "cell_type": "markdown",
   "metadata": {},
   "source": [
    "## Usage\n",
    "\n",
    "```python\n",
    "from fastai.callback.wandb import WandbCallback\n",
    "from fastxtend.callback import simpleprofiler\n",
    "from fastxtend.utils import simpleprofiler_wandb\n",
    "\n",
    "# setup learner, dataloaders, and initialize wandb run and WandbCallback\n",
    "\n",
    "learn.profile()\n",
    "\n",
    "# train model and log wandb run like normal\n",
    "```"
   ]
  },
  {
   "cell_type": "code",
   "execution_count": null,
   "metadata": {},
   "outputs": [],
   "source": [
    "#export\n",
    "import wandb\n",
    "from fastcore.foundation import patch\n",
    "from fastai.callback.wandb import WandbCallback"
   ]
  },
  {
   "cell_type": "code",
   "execution_count": null,
   "metadata": {},
   "outputs": [],
   "source": [
    "#exporti\n",
    "if not hasattr(WandbCallback,'_orig_before_fit'): WandbCallback._orig_before_fit = WandbCallback.before_fit\n",
    "if not hasattr(WandbCallback,'_orig_after_fit'): WandbCallback._orig_after_fit = WandbCallback.after_fit"
   ]
  },
  {
   "cell_type": "code",
   "execution_count": null,
   "metadata": {},
   "outputs": [],
   "source": [
    "#exporti\n",
    "@patch\n",
    "def before_fit(self:WandbCallback):\n",
    "    if not hasattr(self.learn, 'lr_finder') and hasattr(self.learn, 'simple_profiler'):\n",
    "        self.log_simple_profiler = True\n",
    "    else:\n",
    "        self.log_simple_profiler = False\n",
    "    \n",
    "    self._orig_before_fit()"
   ]
  },
  {
   "cell_type": "code",
   "execution_count": null,
   "metadata": {},
   "outputs": [],
   "source": [
    "#exporti\n",
    "@patch\n",
    "def after_fit(self:WandbCallback):\n",
    "    self._orig_after_fit()\n",
    "\n",
    "    if self.log_simple_profiler:\n",
    "        report = wandb.Table(dataframe=self.learn.simple_profile_report)\n",
    "        results = wandb.Table(dataframe=self.learn.simple_profile_results)\n",
    "\n",
    "        wandb.log({\"simple_profile_report\": report})\n",
    "        wandb.log({\"simple_profile_results\": results})\n",
    "        wandb.log({}) # ensure sync \n",
    "        \n",
    "        self.log_simple_profiler = False"
   ]
  },
  {
   "cell_type": "code",
   "execution_count": null,
   "metadata": {},
   "outputs": [
    {
     "name": "stdout",
     "output_type": "stream",
     "text": [
      "Converted augment.tensor_item_tfm.ipynb.\n",
      "Converted callback.cutmixup.ipynb.\n",
      "Converted callback.lr_finder.ipynb.\n",
      "Converted callback.simpleprofiler.ipynb.\n",
      "Converted index.ipynb.\n",
      "Converted schedulers.fit_flat_varied.ipynb.\n",
      "Converted utils.simpleprofiler_wandb.ipynb.\n"
     ]
    }
   ],
   "source": [
    "#hide\n",
    "#slow\n",
    "from nbdev.export import notebook2script; notebook2script()"
   ]
  }
 ],
 "metadata": {
  "kernelspec": {
   "display_name": "Python 3.9.5 64-bit ('base': conda)",
   "name": "python3"
  }
 },
 "nbformat": 4,
 "nbformat_minor": 2
}
