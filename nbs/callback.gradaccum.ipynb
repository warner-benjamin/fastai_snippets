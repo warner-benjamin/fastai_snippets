{
 "cells": [
  {
   "cell_type": "code",
   "execution_count": null,
   "metadata": {},
   "outputs": [],
   "source": [
    "#|default_exp callback.gradaccum\n",
    "#|default_cls_lvl 2"
   ]
  },
  {
   "cell_type": "code",
   "execution_count": null,
   "metadata": {},
   "outputs": [],
   "source": [
    "#|exporti\n",
    "# Contains code from:\n",
    "# fastai - Apache License 2.0 - Copyright (c) 2023 fast.ai"
   ]
  },
  {
   "attachments": {},
   "cell_type": "markdown",
   "metadata": {},
   "source": [
    "# Gradient Accumulation\n",
    "> Accumulate multiple mini-batches into one batch"
   ]
  },
  {
   "attachments": {},
   "cell_type": "markdown",
   "metadata": {},
   "source": [
    "Gradient accumulation allows training on batch sizes which are too large to fit into memory by splitting each batch into mini-batches and skipping the optimizer step until gradients have been accumulated from all mini-batches.\n",
    "\n",
    "fastai gradient accumulation works by treating each dataloader batch as a mini-batch, and then accumulating the mini-batches across multiple forward and backward steps into one larger batch.\n",
    "\n",
    "## Differences from fastai\n",
    "\n",
    "By default, `GradientAccumulation` and `GradientAccumulationWarmup` record and log accumulated batches instead of micro-batches. This effects training losses and Weights and Biases training steps.\n",
    "\n",
    "Recorded and logged training losses are the accumulated loss used for the optimization step, not the last micro-batch loss as fastai records. Weights and Biases training steps will be reduced by ratio of micro-batches to accumulated batches, while TensorBoard training steps will be uneffected. \n",
    "\n",
    "To revert to fastai behavor of recording micro-batches, set `log_accum_batch=False`."
   ]
  },
  {
   "cell_type": "code",
   "execution_count": null,
   "metadata": {},
   "outputs": [],
   "source": [
    "#|export\n",
    "from __future__ import annotations\n",
    "\n",
    "import math\n",
    "\n",
    "from fastai.callback.core import Callback, CancelBatchException\n",
    "from fastai.callback.schedule import SchedCos, _Annealer\n",
    "\n",
    "from fastxtend.callback.amp import MixedPrecision\n",
    "from fastxtend.callback.utils import *\n",
    "from fastxtend.imports import *"
   ]
  },
  {
   "cell_type": "code",
   "execution_count": null,
   "metadata": {},
   "outputs": [],
   "source": [
    "#|hide\n",
    "from fastxtend.test_utils import *"
   ]
  },
  {
   "cell_type": "code",
   "execution_count": null,
   "metadata": {},
   "outputs": [],
   "source": [
    "#|exporti\n",
    "_grad_loggers = available_loggers.copy()\n",
    "_grad_loggers['recorder'] = True"
   ]
  },
  {
   "cell_type": "code",
   "execution_count": null,
   "metadata": {},
   "outputs": [],
   "source": [
    "#|export\n",
    "class GradientAccumulation(Callback):\n",
    "    \"Accumulate gradients before updating weights\"\n",
    "    order,run_valid = MixedPrecision.order-4,False\n",
    "    def __init__(self,\n",
    "        accum_bs:int|None, # Accumulation batch size. Defaults to `n_acc` if not set\n",
    "        n_acc:int=32, # Default `accum_bs` value. Used for compatability with fastai\n",
    "        log_accum_batch:bool=True, # Log each accumulated batch (True) or micro batch (False). False is default fastai behavior\n",
    "    ):\n",
    "        accum_bs = n_acc if accum_bs is None else accum_bs\n",
    "        store_attr(but='n_acc')\n",
    "\n",
    "    def before_fit(self):\n",
    "        self.count = 0\n",
    "        self._loggers = []\n",
    "        self.accum_loss = None\n",
    "        self.wandb_epoch = False\n",
    "        if self.log_accum_batch:\n",
    "            for logger, available in _grad_loggers.items():\n",
    "                if available and hasattr(self.learn, logger):\n",
    "                    self._loggers.append(getattr(self.learn, logger))\n",
    "                    if logger=='wandb':\n",
    "                        self.wandb_epoch = True\n",
    "\n",
    "    def after_loss(self):\n",
    "        bs = find_bs(self.learn.yb)\n",
    "        self.count += bs\n",
    "        self.accum_steps = self.accum_bs // bs\n",
    "        self.learn.loss_grad /= self.accum_steps\n",
    "        if self.accum_loss is None:\n",
    "            self.accum_loss = torch.zeros_like(self.learn.loss)\n",
    "\n",
    "    def before_step(self):\n",
    "        \"Skip weight update if we have not seen enough items\"\n",
    "        if self.count < self.accum_bs:\n",
    "            if self.log_accum_batch:\n",
    "                self.accum_loss += self.learn.loss.detach() / self.accum_steps\n",
    "                self._run_loggers(False)\n",
    "            # skip step/zero_grad\n",
    "            raise CancelBatchException()\n",
    "        else:\n",
    "            self.count = 0\n",
    "            if self.log_accum_batch:\n",
    "                self.learn.loss = self.accum_loss + self.learn.loss.detach() / self.accum_steps\n",
    "                self.accum_loss = torch.zeros_like(self.learn.loss)\n",
    "                self._run_loggers(True)\n",
    "\n",
    "    def after_epoch(self):\n",
    "        \"Turn on Recorder & Loggers to log final epoch metrics\"\n",
    "        if self.log_accum_batch:\n",
    "            self._run_loggers(True)\n",
    "\n",
    "    def _run_loggers(self, run_train):\n",
    "        for l in self._loggers:\n",
    "            l.run_train = run_train\n",
    "        if self.wandb_epoch and not run_train:\n",
    "            self.learn.wandb._wandb_epoch += 1/self.n_iter"
   ]
  },
  {
   "cell_type": "code",
   "execution_count": null,
   "metadata": {},
   "outputs": [],
   "source": [
    "#|export\n",
    "class GradientAccumulationSchedule(GradientAccumulation, CallbackScheduler):\n",
    "    \"Gradient accumulation with a schedulable batch size\"\n",
    "    def __init__(self,\n",
    "        start_accum_bs:int, # Initial gradient accumulation batch size\n",
    "        final_accum_bs:int, # Final gradient accumulation batch size\n",
    "        start:Numeric=0, # Start batch size schedule in percent of training steps (float) or epochs (int, index 0)\n",
    "        finish:Numeric=0.3, # Finish batch size schedule in percent of training steps (float) or epochs (int, index 0)\n",
    "        schedule:Callable[..., _Annealer]=SchedCos, # Batch size schedule type\n",
    "        log_accum_batch:bool=True, # Log each accumulated batch (True) or micro batch (False). False is default fastai behavior\n",
    "        micro_batch_size:int|None=None # Manually set micro-batch size if using non-fastai or non-fastxtend dataloader\n",
    "    ):\n",
    "        GradientAccumulation.__init__(self, accum_bs=start_accum_bs, log_accum_batch=log_accum_batch)\n",
    "        CallbackScheduler.__init__(self)\n",
    "        store_attr(names='start_accum_bs,final_accum_bs,start,finish,schedule')\n",
    "        self.micro_batch_size=micro_batch_size\n",
    "\n",
    "    def before_fit(self):\n",
    "        self._sched_accum_bs = self.accum_bs\n",
    "        if self.micro_batch_size is None:\n",
    "            self.micro_batch_size=self.dls.bs\n",
    "\n",
    "        if self.micro_batch_size > self.accum_bs:\n",
    "            raise ValueError(f\"{self.accum_bs=} cannot be smaller then the dataloader batch size {self.micro_batch_size=}\")\n",
    "\n",
    "        super().setup_schedule(\n",
    "            n_epoch=self.n_epoch,\n",
    "            dls_len=len(self.dls.train),\n",
    "            start_value=self.start_accum_bs,\n",
    "            final_value=self.final_accum_bs,\n",
    "            start=self.start,\n",
    "            finish=self.finish,\n",
    "            schedule=self.schedule,\n",
    "            callback_name='Gradient Accumulation Schedule')\n",
    "        super().before_fit()\n",
    "\n",
    "    def before_batch(self):\n",
    "        \"Update gradient accumulation batch size per schedule\"\n",
    "        self._sched_accum_bs = super().schedule_step(self._sched_accum_bs, self.pct_train)\n",
    "        # Only update accum_bs if we are at the beginning of a new macro-batch\n",
    "        if self.count == 0:\n",
    "            self.accum_bs = int(math.floor(self._sched_accum_bs / self.micro_batch_size) * self.micro_batch_size)\n",
    "\n",
    "    def _run_loggers(self, run_train):\n",
    "        super()._run_loggers(run_train)\n",
    "        if run_train:\n",
    "            self.learn._log_values(accumulation_batch_size=self.accum_bs)"
   ]
  },
  {
   "attachments": {},
   "cell_type": "markdown",
   "metadata": {},
   "source": [
    "## Tests -"
   ]
  },
  {
   "cell_type": "code",
   "execution_count": null,
   "metadata": {},
   "outputs": [],
   "source": [
    "#|hide\n",
    "#|cuda\n",
    "import matplotlib.pyplot as plt\n",
    "\n",
    "from fastcore.basics import num_cpus\n",
    "\n",
    "from fastai.callback.training import GradientAccumulation as GradAccum\n",
    "from fastai.data.external import URLs, untar_data\n",
    "from fastai.data.block import DataBlock, CategoryBlock\n",
    "from fastai.data.transforms import GrandparentSplitter, get_image_files, parent_label, Normalize\n",
    "from fastai.learner import Learner\n",
    "from fastai.vision.augment import Resize\n",
    "from fastai.vision.core import imagenet_stats\n",
    "from fastai.vision.data import ImageBlock\n",
    "\n",
    "from fastxtend.callback import channelslast\n",
    "from fastxtend.callback.tracker import LastMetricCallback\n",
    "from fastxtend.metrics import *\n",
    "from fastxtend.optimizer.fused import adam\n",
    "from fastxtend.vision.models.xresnet import xresnext34\n",
    "from fastxtend.utils import free_gpu_memory"
   ]
  },
  {
   "cell_type": "code",
   "execution_count": null,
   "metadata": {},
   "outputs": [
    {
     "name": "stdout",
     "output_type": "stream",
     "text": [
      "fastxtend\n"
     ]
    },
    {
     "data": {
      "text/html": [
       "\n",
       "<style>\n",
       "    /* Turns off some styling */\n",
       "    progress {\n",
       "        /* gets rid of default border in Firefox and Opera. */\n",
       "        border: none;\n",
       "        /* Needs to be in here for Safari polyfill so background images work as expected. */\n",
       "        background-size: auto;\n",
       "    }\n",
       "    progress:not([value]), progress:not([value])::-webkit-progress-bar {\n",
       "        background: repeating-linear-gradient(45deg, #7e7e7e, #7e7e7e 10px, #5c5c5c 10px, #5c5c5c 20px);\n",
       "    }\n",
       "    .progress-bar-interrupted, .progress-bar-interrupted::-webkit-progress-bar {\n",
       "        background: #F44336;\n",
       "    }\n",
       "</style>\n"
      ],
      "text/plain": [
       "<IPython.core.display.HTML object>"
      ]
     },
     "metadata": {},
     "output_type": "display_data"
    },
    {
     "data": {
      "text/html": [
       "<table border=\"1\" class=\"dataframe\">\n",
       "  <thead>\n",
       "    <tr style=\"text-align: left;\">\n",
       "      <th>epoch</th>\n",
       "      <th>train_loss</th>\n",
       "      <th>valid_loss</th>\n",
       "      <th>accuracy</th>\n",
       "      <th>time</th>\n",
       "    </tr>\n",
       "  </thead>\n",
       "  <tbody>\n",
       "    <tr>\n",
       "      <td>0</td>\n",
       "      <td>1.785653</td>\n",
       "      <td>1.651538</td>\n",
       "      <td>0.532229</td>\n",
       "      <td>00:12</td>\n",
       "    </tr>\n",
       "    <tr>\n",
       "      <td>1</td>\n",
       "      <td>1.442656</td>\n",
       "      <td>1.283555</td>\n",
       "      <td>0.676433</td>\n",
       "      <td>00:10</td>\n",
       "    </tr>\n",
       "    <tr>\n",
       "      <td>2</td>\n",
       "      <td>1.199092</td>\n",
       "      <td>1.113374</td>\n",
       "      <td>0.755669</td>\n",
       "      <td>00:10</td>\n",
       "    </tr>\n",
       "    <tr>\n",
       "      <td>3</td>\n",
       "      <td>1.041552</td>\n",
       "      <td>0.998629</td>\n",
       "      <td>0.800764</td>\n",
       "      <td>00:12</td>\n",
       "    </tr>\n",
       "    <tr>\n",
       "      <td>4</td>\n",
       "      <td>0.927283</td>\n",
       "      <td>0.976738</td>\n",
       "      <td>0.812229</td>\n",
       "      <td>00:11</td>\n",
       "    </tr>\n",
       "  </tbody>\n",
       "</table>"
      ],
      "text/plain": [
       "<IPython.core.display.HTML object>"
      ]
     },
     "metadata": {},
     "output_type": "display_data"
    },
    {
     "name": "stdout",
     "output_type": "stream",
     "text": [
      "fastai\n"
     ]
    },
    {
     "data": {
      "text/html": [
       "\n",
       "<style>\n",
       "    /* Turns off some styling */\n",
       "    progress {\n",
       "        /* gets rid of default border in Firefox and Opera. */\n",
       "        border: none;\n",
       "        /* Needs to be in here for Safari polyfill so background images work as expected. */\n",
       "        background-size: auto;\n",
       "    }\n",
       "    progress:not([value]), progress:not([value])::-webkit-progress-bar {\n",
       "        background: repeating-linear-gradient(45deg, #7e7e7e, #7e7e7e 10px, #5c5c5c 10px, #5c5c5c 20px);\n",
       "    }\n",
       "    .progress-bar-interrupted, .progress-bar-interrupted::-webkit-progress-bar {\n",
       "        background: #F44336;\n",
       "    }\n",
       "</style>\n"
      ],
      "text/plain": [
       "<IPython.core.display.HTML object>"
      ]
     },
     "metadata": {},
     "output_type": "display_data"
    },
    {
     "data": {
      "text/html": [
       "<table border=\"1\" class=\"dataframe\">\n",
       "  <thead>\n",
       "    <tr style=\"text-align: left;\">\n",
       "      <th>epoch</th>\n",
       "      <th>train_loss</th>\n",
       "      <th>valid_loss</th>\n",
       "      <th>accuracy</th>\n",
       "      <th>time</th>\n",
       "    </tr>\n",
       "  </thead>\n",
       "  <tbody>\n",
       "    <tr>\n",
       "      <td>0</td>\n",
       "      <td>1.619772</td>\n",
       "      <td>1.651538</td>\n",
       "      <td>0.532229</td>\n",
       "      <td>00:11</td>\n",
       "    </tr>\n",
       "    <tr>\n",
       "      <td>1</td>\n",
       "      <td>1.309767</td>\n",
       "      <td>1.283555</td>\n",
       "      <td>0.676433</td>\n",
       "      <td>00:11</td>\n",
       "    </tr>\n",
       "    <tr>\n",
       "      <td>2</td>\n",
       "      <td>1.116553</td>\n",
       "      <td>1.113374</td>\n",
       "      <td>0.755669</td>\n",
       "      <td>00:11</td>\n",
       "    </tr>\n",
       "    <tr>\n",
       "      <td>3</td>\n",
       "      <td>0.985003</td>\n",
       "      <td>0.998629</td>\n",
       "      <td>0.800764</td>\n",
       "      <td>00:11</td>\n",
       "    </tr>\n",
       "    <tr>\n",
       "      <td>4</td>\n",
       "      <td>0.899296</td>\n",
       "      <td>0.976738</td>\n",
       "      <td>0.812229</td>\n",
       "      <td>00:11</td>\n",
       "    </tr>\n",
       "  </tbody>\n",
       "</table>"
      ],
      "text/plain": [
       "<IPython.core.display.HTML object>"
      ]
     },
     "metadata": {},
     "output_type": "display_data"
    }
   ],
   "source": [
    "#|hide\n",
    "#|cuda\n",
    "imagenette = untar_data(URLs.IMAGENETTE_160)\n",
    "\n",
    "accuracy = []\n",
    "for cb, name in zip([GradientAccumulation(128), GradAccum(128)], ['fastxtend', 'fastai']):\n",
    "    print(name)\n",
    "    with less_random():\n",
    "        dblock = DataBlock(blocks=(ImageBlock, CategoryBlock),\n",
    "                        splitter=GrandparentSplitter(valid_name='val'),\n",
    "                        get_items=get_image_files, get_y=parent_label,\n",
    "                        item_tfms=Resize(128),\n",
    "                        batch_tfms=[Normalize.from_stats(*imagenet_stats)])\n",
    "\n",
    "        dls = dblock.dataloaders(imagenette, bs=32, num_workers=num_cpus())\n",
    "\n",
    "        cbs = [] if cb is None else [cb]\n",
    "        learn = Learner(dls, xresnext34(n_out=dls.c), opt_func=adam(foreach=True),\n",
    "                        loss_func=nn.CrossEntropyLoss(label_smoothing=0.1),\n",
    "                        metrics=Accuracy(), cbs=cbs+[LastMetricCallback()]).to_channelslast()\n",
    "\n",
    "        learn.fit_one_cycle(5, 3e-3)\n",
    "        accuracy.append(learn.lastmetric['accuracy'])\n",
    "\n",
    "        free_gpu_memory(learn, dls)\n",
    "\n",
    "test_close(accuracy[0], accuracy[1])"
   ]
  },
  {
   "cell_type": "code",
   "execution_count": null,
   "metadata": {},
   "outputs": [],
   "source": [
    "#|hide\n",
    "#|cuda\n",
    "class GradAccumSchedTest(Callback):\n",
    "    \"Test EMACallback against timm's ModelEmaV2\"\n",
    "    order,run_valid = GradientAccumulationSchedule.order+1,False\n",
    "\n",
    "    def before_fit(self):\n",
    "        self.accum_bs, self.epochs = [], []\n",
    "\n",
    "    def after_batch(self):\n",
    "        self.accum_bs.append(self.learn.gradient_accumulation_schedule.accum_bs)\n",
    "\n",
    "    def after_fit(self):\n",
    "        plt.figure(figsize=(4,4))\n",
    "        plt.plot(self.accum_bs)\n",
    "        plt.xlabel('Micro-Batch Steps')\n",
    "        plt.ylabel('Accumulated Batch Size')"
   ]
  },
  {
   "cell_type": "code",
   "execution_count": null,
   "metadata": {},
   "outputs": [
    {
     "data": {
      "text/html": [
       "\n",
       "<style>\n",
       "    /* Turns off some styling */\n",
       "    progress {\n",
       "        /* gets rid of default border in Firefox and Opera. */\n",
       "        border: none;\n",
       "        /* Needs to be in here for Safari polyfill so background images work as expected. */\n",
       "        background-size: auto;\n",
       "    }\n",
       "    progress:not([value]), progress:not([value])::-webkit-progress-bar {\n",
       "        background: repeating-linear-gradient(45deg, #7e7e7e, #7e7e7e 10px, #5c5c5c 10px, #5c5c5c 20px);\n",
       "    }\n",
       "    .progress-bar-interrupted, .progress-bar-interrupted::-webkit-progress-bar {\n",
       "        background: #F44336;\n",
       "    }\n",
       "</style>\n"
      ],
      "text/plain": [
       "<IPython.core.display.HTML object>"
      ]
     },
     "metadata": {},
     "output_type": "display_data"
    },
    {
     "data": {
      "text/html": [
       "<table border=\"1\" class=\"dataframe\">\n",
       "  <thead>\n",
       "    <tr style=\"text-align: left;\">\n",
       "      <th>epoch</th>\n",
       "      <th>train_loss</th>\n",
       "      <th>valid_loss</th>\n",
       "      <th>accuracy</th>\n",
       "      <th>time</th>\n",
       "    </tr>\n",
       "  </thead>\n",
       "  <tbody>\n",
       "    <tr>\n",
       "      <td>0</td>\n",
       "      <td>1.652636</td>\n",
       "      <td>1.713672</td>\n",
       "      <td>0.495796</td>\n",
       "      <td>00:13</td>\n",
       "    </tr>\n",
       "    <tr>\n",
       "      <td>1</td>\n",
       "      <td>1.324317</td>\n",
       "      <td>1.343712</td>\n",
       "      <td>0.656815</td>\n",
       "      <td>00:11</td>\n",
       "    </tr>\n",
       "    <tr>\n",
       "      <td>2</td>\n",
       "      <td>1.105591</td>\n",
       "      <td>1.070178</td>\n",
       "      <td>0.778089</td>\n",
       "      <td>00:11</td>\n",
       "    </tr>\n",
       "    <tr>\n",
       "      <td>3</td>\n",
       "      <td>0.967111</td>\n",
       "      <td>0.954822</td>\n",
       "      <td>0.823185</td>\n",
       "      <td>00:11</td>\n",
       "    </tr>\n",
       "    <tr>\n",
       "      <td>4</td>\n",
       "      <td>0.881434</td>\n",
       "      <td>0.947054</td>\n",
       "      <td>0.823949</td>\n",
       "      <td>00:11</td>\n",
       "    </tr>\n",
       "  </tbody>\n",
       "</table>"
      ],
      "text/plain": [
       "<IPython.core.display.HTML object>"
      ]
     },
     "metadata": {},
     "output_type": "display_data"
    },
    {
     "data": {
      "image/png": "[encoded data removed]",
      "text/plain": [
       "<Figure size 400x400 with 1 Axes>"
      ]
     },
     "metadata": {},
     "output_type": "display_data"
    }
   ],
   "source": [
    "#|hide\n",
    "#|cuda\n",
    "with less_random():\n",
    "    dblock = DataBlock(blocks=(ImageBlock, CategoryBlock),\n",
    "                    splitter=GrandparentSplitter(valid_name='val'),\n",
    "                    get_items=get_image_files, get_y=parent_label,\n",
    "                    item_tfms=Resize(128),\n",
    "                    batch_tfms=[Normalize.from_stats(*imagenet_stats)])\n",
    "\n",
    "    dls = dblock.dataloaders(imagenette, bs=32, num_workers=num_cpus())\n",
    "\n",
    "    cbs = [GradientAccumulationSchedule(64, 128, 0.25, 0.75)]\n",
    "    learn = Learner(dls, xresnext34(n_out=dls.c), opt_func=adam(foreach=True),\n",
    "                    loss_func=nn.CrossEntropyLoss(label_smoothing=0.1),\n",
    "                    metrics=Accuracy(), cbs=cbs+[GradAccumSchedTest]).to_channelslast()\n",
    "\n",
    "    learn.fit_one_cycle(5, 3e-3)"
   ]
  }
 ],
 "metadata": {
  "jupytext": {
   "split_at_heading": true
  },
  "kernelspec": {
   "display_name": "python3",
   "language": "python",
   "name": "python3"
  }
 },
 "nbformat": 4,
 "nbformat_minor": 4
}
