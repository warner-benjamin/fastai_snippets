{
 "cells": [
  {
   "cell_type": "code",
   "execution_count": null,
   "metadata": {},
   "outputs": [],
   "source": [
    "# default_exp audio.mixup"
   ]
  },
  {
   "cell_type": "markdown",
   "metadata": {},
   "source": [
    "# MixUp for Audio\n",
    "\n",
    "> Apply MixUp to audio waveforms before converting to Spectrogram or MelSpectrogram"
   ]
  },
  {
   "cell_type": "code",
   "execution_count": null,
   "metadata": {},
   "outputs": [],
   "source": [
    "#export\n",
    "from __future__ import annotations\n",
    "\n",
    "from fastcore.transform import Pipeline\n",
    "\n",
    "from fastai.callback.mixup import MixUp\n",
    "\n",
    "from fastxtend.audio.data import MelSpectrogram, Spectrogram\n",
    "from fastxtend.imports import *"
   ]
  },
  {
   "cell_type": "code",
   "execution_count": null,
   "metadata": {},
   "outputs": [],
   "source": [
    "#export\n",
    "class AudioMixUp(MixUp):\n",
    "    \"Implementation of https://arxiv.org/abs/1710.09412 on audio waveforms\"\n",
    "\n",
    "    def before_fit(self):\n",
    "        waveforms, wave, spec = True, [], []\n",
    "        self._wave_pipe = Pipeline([])\n",
    "        self._spec_pipe = Pipeline([])\n",
    "        \n",
    "        # first copy transforms\n",
    "        self._orig_pipe = self.dls.train.after_batch\n",
    "        \n",
    "        # loop through existing transforms appending to pre_spec/post_spec until Spec/Mel is found\n",
    "        for i in range(len(self.dls.train.after_batch.fs)):\n",
    "            if isinstance(self.dls.train.after_batch[i], (Spectrogram, MelSpectrogram)):\n",
    "                waveforms = False\n",
    "            if waveforms: wave.append(self.dls.train.after_batch[i])\n",
    "            else:         spec.append(self.dls.train.after_batch[i])\n",
    "\n",
    "        self._wave_pipe.add(wave)\n",
    "        self._spec_pipe.add(spec)\n",
    "\n",
    "        # set existing transforms to an empty Pipeline\n",
    "        self.dls.train.after_batch = Pipeline([])\n",
    "\n",
    "    def before_batch(self):\n",
    "        self.learn.xb = self._wave_pipe(self.xb)\n",
    "        super().before_batch()\n",
    "        self.learn.xb = self._spec_pipe(self.xb)\n",
    "\n",
    "    def after_fit(self):\n",
    "        self.dls.train.after_batch = self._orig_pipe\n",
    "\n",
    "    def after_cancel_fit(self):\n",
    "        self.after_fit()\n",
    "        super().after_cancel_fit()"
   ]
  }
 ],
 "metadata": {
  "kernelspec": {
   "display_name": "Python 3.9.7 ('base')",
   "language": "python",
   "name": "python3"
  }
 },
 "nbformat": 4,
 "nbformat_minor": 2
}
