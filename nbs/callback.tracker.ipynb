{
 "cells": [
  {
   "cell_type": "code",
   "execution_count": null,
   "metadata": {},
   "outputs": [],
   "source": [
    "#|default_exp callback.tracker"
   ]
  },
  {
   "cell_type": "code",
   "execution_count": null,
   "metadata": {},
   "outputs": [],
   "source": [
    "#|exporti\n",
    "# Contains code from:\n",
    "# fastai - Apache License 2.0 - Copyright (c) 2023 fast.ai"
   ]
  },
  {
   "cell_type": "markdown",
   "metadata": {},
   "source": [
    "# Tracking Callbacks\n",
    "> Additional callbacks which make decisions depending how a monitored metric/loss behaves."
   ]
  },
  {
   "cell_type": "code",
   "execution_count": null,
   "metadata": {},
   "outputs": [],
   "source": [
    "#|export\n",
    "from __future__ import annotations\n",
    "\n",
    "from fastai.callback.core import Callback, CancelFitException\n",
    "from fastai.callback.tracker import SaveModelCallback, TrackerCallback\n",
    "\n",
    "from fastxtend.imports import *"
   ]
  },
  {
   "cell_type": "code",
   "execution_count": null,
   "metadata": {},
   "outputs": [],
   "source": [
    "#|hide\n",
    "import tempfile\n",
    "from pathlib import Path\n",
    "from fastxtend.test_utils import *"
   ]
  },
  {
   "cell_type": "markdown",
   "metadata": {},
   "source": [
    "## TerminateOnTrainNaN -"
   ]
  },
  {
   "cell_type": "code",
   "execution_count": null,
   "metadata": {},
   "outputs": [],
   "source": [
    "#|export\n",
    "class TerminateOnTrainNaN(Callback):\n",
    "    \"A `Callback` that terminates training if the training loss is NaN and ignores valid loss.\"\n",
    "    order, run_valid = -9, False\n",
    "    def after_batch(self):\n",
    "        \"Test if `last_loss` is NaN and interrupts training.\"\n",
    "        if torch.isinf(self.loss) or torch.isnan(self.loss): raise CancelFitException"
   ]
  },
  {
   "cell_type": "code",
   "execution_count": null,
   "metadata": {},
   "outputs": [
    {
     "data": {
      "text/html": [
       "<table border=\"1\" class=\"dataframe\">\n",
       "  <thead>\n",
       "    <tr style=\"text-align: left;\">\n",
       "      <th>epoch</th>\n",
       "      <th>train_loss</th>\n",
       "      <th>valid_loss</th>\n",
       "      <th>time</th>\n",
       "    </tr>\n",
       "  </thead>\n",
       "  <tbody>\n",
       "  </tbody>\n",
       "</table>"
      ],
      "text/plain": [
       "<IPython.core.display.HTML object>"
      ]
     },
     "metadata": {},
     "output_type": "display_data"
    }
   ],
   "source": [
    "#|hide\n",
    "learn = synth_learner()\n",
    "learn.fit(10, lr=100, cbs=TerminateOnTrainNaN())\n",
    "\n",
    "assert len(learn.recorder.losses) < 10 * len(learn.dls.train)\n",
    "for l in learn.recorder.losses:\n",
    "    assert not torch.isinf(l) and not torch.isnan(l) "
   ]
  },
  {
   "cell_type": "markdown",
   "metadata": {},
   "source": [
    "## SaveModelAtEndCallback -"
   ]
  },
  {
   "cell_type": "code",
   "execution_count": null,
   "metadata": {},
   "outputs": [],
   "source": [
    "#|export\n",
    "class SaveModelAtEnd(SaveModelCallback):\n",
    "    \"A `SaveModelCallback` which only saves the model at the end so loggers can find it.\"\n",
    "    order = TrackerCallback.order+1\n",
    "    def __init__(self,\n",
    "        fname='model', # Model filename\n",
    "        with_opt=False # Include optimizer state\n",
    "    ):\n",
    "        # keep track of file path for loggers\n",
    "        self.last_saved_path = None\n",
    "        store_attr()\n",
    "\n",
    "    def before_fit(self):\n",
    "        pass\n",
    "\n",
    "    def after_epoch(self):\n",
    "        pass\n",
    "\n",
    "    def after_fit(self, **kwargs):\n",
    "        self.last_saved_path = self.learn.save(f'{self.fname}', with_opt=self.with_opt)"
   ]
  },
  {
   "cell_type": "code",
   "execution_count": null,
   "metadata": {},
   "outputs": [
    {
     "data": {
      "text/html": [
       "<table border=\"1\" class=\"dataframe\">\n",
       "  <thead>\n",
       "    <tr style=\"text-align: left;\">\n",
       "      <th>epoch</th>\n",
       "      <th>train_loss</th>\n",
       "      <th>valid_loss</th>\n",
       "      <th>time</th>\n",
       "    </tr>\n",
       "  </thead>\n",
       "  <tbody>\n",
       "    <tr>\n",
       "      <td>0</td>\n",
       "      <td>15.257207</td>\n",
       "      <td>11.782478</td>\n",
       "      <td>00:00</td>\n",
       "    </tr>\n",
       "    <tr>\n",
       "      <td>1</td>\n",
       "      <td>15.102713</td>\n",
       "      <td>11.396034</td>\n",
       "      <td>00:00</td>\n",
       "    </tr>\n",
       "  </tbody>\n",
       "</table>"
      ],
      "text/plain": [
       "<IPython.core.display.HTML object>"
      ]
     },
     "metadata": {},
     "output_type": "display_data"
    }
   ],
   "source": [
    "#|hide\n",
    "with no_random():\n",
    "    tmp_d = tempfile.TemporaryDirectory()\n",
    "    tmp_p = Path(tmp_d.name)\n",
    "    learn = synth_learner(n_trn=2, path=tmp_p)\n",
    "    learn.fit(n_epoch=2, cbs=SaveModelAtEnd())\n",
    "    assert (tmp_p/'models/model.pth').exists()\n",
    "    tmp_d.cleanup()"
   ]
  },
  {
   "cell_type": "code",
   "execution_count": null,
   "metadata": {},
   "outputs": [],
   "source": [
    "#|export\n",
    "class LastMetricCallback(Callback):\n",
    "    \"A `Callback` which stores the last metric(s) value by name (or all if None) in the `Learner.lastmetric` dictionary\"\n",
    "    order,remove_on_fetch,_only_train_loop = 60,True,True\n",
    "    def __init__(self, metrics:Listified[str]|None=None):\n",
    "        self._all_metrics = metrics is None\n",
    "        self._last_metrics=L(metrics)\n",
    "\n",
    "    def before_fit(self):\n",
    "        \"Prepare the monitored value(s)\"\n",
    "        self.run = not hasattr(self, \"lr_finder\") and not hasattr(self, \"gather_preds\")\n",
    "        self.idx, self.learn.lastmetric = [], {}\n",
    "        if self._all_metrics:\n",
    "            self._last_metrics = L([m for m in self.recorder.metric_names[1:] if m !='time'])\n",
    "        for m in self._last_metrics:\n",
    "            assert m in self.recorder.metric_names[1:], f'Metric {m} does not exist'\n",
    "            self.idx.append(list(self.recorder.metric_names[1:]).index(m))\n",
    "\n",
    "    def after_fit(self):\n",
    "        \"Store the last the monitored value(s)\"\n",
    "        for i, idx in enumerate(self.idx):\n",
    "            self.learn.lastmetric[self._last_metrics[i]] = self.recorder.values[-1][idx]\n",
    "        self.run = True\n",
    "\n",
    "    def after_fit_exception(self):\n",
    "        try:\n",
    "            self.after_fit()\n",
    "        finally:\n",
    "            self.run = True"
   ]
  },
  {
   "cell_type": "code",
   "execution_count": null,
   "metadata": {},
   "outputs": [
    {
     "data": {
      "text/html": [
       "\n",
       "<style>\n",
       "    /* Turns off some styling */\n",
       "    progress {\n",
       "        /* gets rid of default border in Firefox and Opera. */\n",
       "        border: none;\n",
       "        /* Needs to be in here for Safari polyfill so background images work as expected. */\n",
       "        background-size: auto;\n",
       "    }\n",
       "    progress:not([value]), progress:not([value])::-webkit-progress-bar {\n",
       "        background: repeating-linear-gradient(45deg, #7e7e7e, #7e7e7e 10px, #5c5c5c 10px, #5c5c5c 20px);\n",
       "    }\n",
       "    .progress-bar-interrupted, .progress-bar-interrupted::-webkit-progress-bar {\n",
       "        background: #F44336;\n",
       "    }\n",
       "</style>\n"
      ],
      "text/plain": [
       "<IPython.core.display.HTML object>"
      ]
     },
     "metadata": {},
     "output_type": "display_data"
    },
    {
     "data": {
      "text/html": [
       "<table border=\"1\" class=\"dataframe\">\n",
       "  <thead>\n",
       "    <tr style=\"text-align: left;\">\n",
       "      <th>epoch</th>\n",
       "      <th>train_loss</th>\n",
       "      <th>valid_loss</th>\n",
       "      <th>time</th>\n",
       "    </tr>\n",
       "  </thead>\n",
       "  <tbody>\n",
       "    <tr>\n",
       "      <td>0</td>\n",
       "      <td>15.257207</td>\n",
       "      <td>11.782478</td>\n",
       "      <td>00:00</td>\n",
       "    </tr>\n",
       "    <tr>\n",
       "      <td>1</td>\n",
       "      <td>15.102713</td>\n",
       "      <td>11.396034</td>\n",
       "      <td>00:00</td>\n",
       "    </tr>\n",
       "  </tbody>\n",
       "</table>"
      ],
      "text/plain": [
       "<IPython.core.display.HTML object>"
      ]
     },
     "metadata": {},
     "output_type": "display_data"
    },
    {
     "name": "stdout",
     "output_type": "stream",
     "text": [
      "{'valid_loss': 11.396034240722656}\n"
     ]
    }
   ],
   "source": [
    "#|hide\n",
    "with no_random():\n",
    "    learn = synth_learner(n_trn=2, path=tmp_p)\n",
    "    learn.fit(n_epoch=2, cbs=LastMetricCallback())\n",
    "    print(learn.lastmetric)"
   ]
  }
 ],
 "metadata": {
  "kernelspec": {
   "display_name": "fastai",
   "language": "python",
   "name": "python3"
  }
 },
 "nbformat": 4,
 "nbformat_minor": 2
}
