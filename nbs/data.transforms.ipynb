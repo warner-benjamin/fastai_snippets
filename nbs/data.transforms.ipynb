{
 "cells": [
  {
   "cell_type": "code",
   "execution_count": null,
   "metadata": {},
   "outputs": [],
   "source": [
    "#|default_exp data.transforms"
   ]
  },
  {
   "cell_type": "code",
   "execution_count": null,
   "metadata": {},
   "outputs": [],
   "source": [
    "#|export\n",
    "from __future__ import annotations\n",
    "\n",
    "import pandas as pd\n",
    "from pathlib import Path\n",
    "\n",
    "from fastcore.foundation import mask2idxs\n",
    "\n",
    "from fastai.data.transforms import IndexSplitter\n",
    "\n",
    "from fastxtend.imports import *"
   ]
  },
  {
   "cell_type": "markdown",
   "metadata": {},
   "source": [
    "# Processing data and basic transforms\n",
    "\n",
    "> Additional functions for getting, splitting, and labeling data, as well as generic transforms"
   ]
  },
  {
   "cell_type": "code",
   "execution_count": null,
   "metadata": {},
   "outputs": [],
   "source": [
    "#|hide\n",
    "from nbdev.showdoc import *\n",
    "from fastxtend.test_utils import *"
   ]
  },
  {
   "cell_type": "code",
   "execution_count": null,
   "metadata": {},
   "outputs": [],
   "source": [
    "#|export\n",
    "def KFoldColSplitter(fold:listified[int]=0, col:int|str='folds'):\n",
    "    \"Split `items` (supposed to be a dataframe) by `fold` in `col`\"\n",
    "    def _inner(o):\n",
    "        assert isinstance(o, pd.DataFrame), \"KFoldColSplitter only works when your items are a pandas DataFrame\"\n",
    "        valid_col = o.iloc[:,col] if isinstance(col, int) else o[col]\n",
    "        valid_idx = valid_col.isin(fold) if is_listy(fold) else valid_col.values == fold\n",
    "        return IndexSplitter(mask2idxs(valid_idx))(o)\n",
    "    return _inner"
   ]
  },
  {
   "cell_type": "code",
   "execution_count": null,
   "metadata": {},
   "outputs": [],
   "source": [
    "#|hide\n",
    "df = pd.DataFrame({'a': [0,1,2,3,4,5,6,7,8,9], 'b': [0,1,2,3,4,0,1,2,3,4]})\n",
    "splits = KFoldColSplitter(col='b')(df)\n",
    "test_eq(splits, [[1,2,3,4,6,7,8,9], [0,5]])\n",
    "\n",
    "# Works with strings or index\n",
    "splits = KFoldColSplitter(col=1)(df)\n",
    "test_eq(splits, [[1,2,3,4,6,7,8,9], [0,5]])\n",
    "\n",
    "# Works with single or multiple folds\n",
    "df = pd.DataFrame({'a': [0,1,2,3,4,5,6,7,8,9], 'folds': [0,1,2,3,4,0,1,2,3,4]})\n",
    "splits = KFoldColSplitter(fold=[0,1],col='folds')(df)\n",
    "test_eq(splits, [[2,3,4,7,8,9], [0,1,5,6]])"
   ]
  },
  {
   "cell_type": "code",
   "execution_count": null,
   "metadata": {},
   "outputs": [],
   "source": [
    "#|hide\n",
    "from fastcore.basics import ifnone, range_of\n",
    "\n",
    "def _test_splitter(f, items=None):\n",
    "    \"A basic set of condition a splitter must pass\"\n",
    "    items = ifnone(items, range_of(30))\n",
    "    trn,val = f(items)\n",
    "    assert 0<len(trn)<len(items)\n",
    "    assert all(o not in val for o in trn)\n",
    "    test_eq(len(trn), len(items)-len(val))\n",
    "    # test random seed consistency\n",
    "    test_eq(f(items)[0], trn)\n",
    "    return trn, val"
   ]
  },
  {
   "cell_type": "code",
   "execution_count": null,
   "metadata": {},
   "outputs": [],
   "source": [
    "#|exporti\n",
    "def _parent_idxs(items, name):\n",
    "    def _inner(items, name): return mask2idxs(Path(o).parent.name == name for o in items)\n",
    "    return [i for n in L(name) for i in _inner(items,n)]"
   ]
  },
  {
   "cell_type": "code",
   "execution_count": null,
   "metadata": {},
   "outputs": [],
   "source": [
    "#|export\n",
    "def ParentSplitter(train_name:str='train', valid_name:str='valid'):\n",
    "    \"Split `items` from the parent folder names (`train_name` and `valid_name`).\"\n",
    "    def _inner(o):\n",
    "        return _parent_idxs(o, train_name),_parent_idxs(o, valid_name)\n",
    "    return _inner"
   ]
  },
  {
   "cell_type": "code",
   "execution_count": null,
   "metadata": {},
   "outputs": [],
   "source": [
    "#|hide\n",
    "fnames = ['dir/train/9932.png', 'dir/valid/7189.png', \n",
    "          'dir/valid/7320.png', 'dir/train/9833.png',  \n",
    "          'dir/train/7666.png', 'dir/valid/925.png',\n",
    "          'dir/train/724.png',  'dir/valid/93055.png']\n",
    "splitter = ParentSplitter()\n",
    "\n",
    "_test_splitter(splitter, items=fnames)\n",
    "test_eq(splitter(fnames),[[0,3,4,6],[1,2,5,7]])"
   ]
  },
  {
   "cell_type": "code",
   "execution_count": null,
   "metadata": {},
   "outputs": [],
   "source": [
    "#|exporti\n",
    "def _greatgrandparent_idxs(items, name):\n",
    "    def _inner(items, name): return mask2idxs(Path(o).parent.parent.parent.name == name for o in items)\n",
    "    return [i for n in L(name) for i in _inner(items,n)]"
   ]
  },
  {
   "cell_type": "code",
   "execution_count": null,
   "metadata": {},
   "outputs": [],
   "source": [
    "#|export\n",
    "def GreatGrandparentSplitter(train_name:str='train', valid_name:str='valid'):\n",
    "    \"Split `items` from the great grand parent folder names (`train_name` and `valid_name`).\"\n",
    "    def _inner(o):\n",
    "        return _greatgrandparent_idxs(o, train_name),_greatgrandparent_idxs(o, valid_name)\n",
    "    return _inner"
   ]
  },
  {
   "cell_type": "code",
   "execution_count": null,
   "metadata": {},
   "outputs": [],
   "source": [
    "#|hide\n",
    "fnames = ['dir/train/9/9/9932.png', 'dir/valid/7/1/7189.png', \n",
    "          'dir/valid/7/3/7320.png', 'dir/train/9/8/9833.png',  \n",
    "          'dir/train/7/6/7666.png', 'dir/valid/9/2/925.png',\n",
    "          'dir/train/7/2/724.png',  'dir/valid/9/3/93055.png']\n",
    "splitter = GreatGrandparentSplitter()\n",
    "\n",
    "_test_splitter(splitter, items=fnames)\n",
    "test_eq(splitter(fnames),[[0,3,4,6],[1,2,5,7]])"
   ]
  }
 ],
 "metadata": {
  "kernelspec": {
   "display_name": "Python 3.9.7 ('base')",
   "language": "python",
   "name": "python3"
  }
 },
 "nbformat": 4,
 "nbformat_minor": 2
}
