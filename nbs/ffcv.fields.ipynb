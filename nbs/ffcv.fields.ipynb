{
 "cells": [
  {
   "cell_type": "code",
   "execution_count": null,
   "metadata": {},
   "outputs": [],
   "source": [
    "#|default_exp ffcv.fields"
   ]
  },
  {
   "cell_type": "code",
   "execution_count": null,
   "metadata": {},
   "outputs": [],
   "source": [
    "#|exporti\n",
    "# Contains code from:\n",
    "# FFCV - Apache License 2.0 - Copyright (c) 2022 FFCV Team"
   ]
  },
  {
   "attachments": {},
   "cell_type": "markdown",
   "metadata": {},
   "source": [
    "# FFCV Fields\n",
    "> Fields for the fastxtend `Loader`"
   ]
  },
  {
   "attachments": {},
   "cell_type": "markdown",
   "metadata": {},
   "source": [
    "fastxtend provides multiple FFCV fields, including existing FFCV fields as [a reference](#ffcv-field-reference), and a modified `RGBImageField` with Pillow support for dataset creation."
   ]
  },
  {
   "cell_type": "code",
   "execution_count": null,
   "metadata": {},
   "outputs": [],
   "source": [
    "#|export\n",
    "import cv2\n",
    "import numpy as np\n",
    "from typing import Type\n",
    "from numba.typed import Dict\n",
    "from PIL import Image\n",
    "\n",
    "try:\n",
    "    LANCZOS = Image.Resampling.LANCZOS\n",
    "except AttributeError:\n",
    "    from PIL.Image import LANCZOS\n",
    "\n",
    "from ffcv.fields.base import Field, ARG_TYPE\n",
    "from ffcv.fields.rgb_image import SimpleRGBImageDecoder, encode_jpeg, IMAGE_MODES\n",
    "from ffcv.fields.rgb_image import RGBImageField as _RGBImageField\n",
    "from ffcv.pipeline.operation import Operation\n",
    "from fastxtend.utils import pil_to_numpy"
   ]
  },
  {
   "cell_type": "code",
   "execution_count": null,
   "metadata": {},
   "outputs": [],
   "source": [
    "#|hide\n",
    "from ffcv.fields import BytesField, IntField, FloatField, NDArrayField, JSONField, TorchTensorField\n",
    "from nbdev.showdoc import show_doc"
   ]
  },
  {
   "attachments": {},
   "cell_type": "markdown",
   "metadata": {},
   "source": [
    "## FFCV Field Reference\n",
    "\n",
    "These fields are from FFCV. You can find the original documentation at the [FFCV API Reference](https://docs.ffcv.io/api/fields.html).\n",
    "\n",
    "Each field has at least one [decoder](https://docs.ffcv.io/api/decoders.html) to use in a FFCV Pipline."
   ]
  },
  {
   "cell_type": "markdown",
   "metadata": {},
   "source": [
    "### BytesField -"
   ]
  },
  {
   "cell_type": "code",
   "execution_count": null,
   "metadata": {},
   "outputs": [],
   "source": [
    "show_doc(BytesField)"
   ]
  },
  {
   "attachments": {},
   "cell_type": "markdown",
   "metadata": {},
   "source": [
    "Pair with the [`BytesDecoder`](https://docs.ffcv.io/api/decoders.html#ffcv.fields.decoders.BytesDecoder)."
   ]
  },
  {
   "attachments": {},
   "cell_type": "markdown",
   "metadata": {},
   "source": [
    "### IntField -"
   ]
  },
  {
   "cell_type": "code",
   "execution_count": null,
   "metadata": {},
   "outputs": [],
   "source": [
    "show_doc(IntField)"
   ]
  },
  {
   "attachments": {},
   "cell_type": "markdown",
   "metadata": {},
   "source": [
    "Pair with the [`IntDecoder`](https://docs.ffcv.io/api/decoders.html#ffcv.fields.decoders.IntDecoder)."
   ]
  },
  {
   "attachments": {},
   "cell_type": "markdown",
   "metadata": {},
   "source": [
    "### FloatField -"
   ]
  },
  {
   "cell_type": "code",
   "execution_count": null,
   "metadata": {},
   "outputs": [],
   "source": [
    "show_doc(FloatField)"
   ]
  },
  {
   "attachments": {},
   "cell_type": "markdown",
   "metadata": {},
   "source": [
    "Pair with the [`FloatDecoder`](https://docs.ffcv.io/api/decoders.html#ffcv.fields.decoders.FloatDecoder)."
   ]
  },
  {
   "attachments": {},
   "cell_type": "markdown",
   "metadata": {},
   "source": [
    "### NDArrayField -"
   ]
  },
  {
   "cell_type": "code",
   "execution_count": null,
   "metadata": {},
   "outputs": [],
   "source": [
    "show_doc(NDArrayField)"
   ]
  },
  {
   "attachments": {},
   "cell_type": "markdown",
   "metadata": {},
   "source": [
    "Pair with the [`NDArrayDecoder`](https://docs.ffcv.io/api/decoders.html#ffcv.fields.decoders.NDArrayDecoder)."
   ]
  },
  {
   "attachments": {},
   "cell_type": "markdown",
   "metadata": {},
   "source": [
    "### JSONField -"
   ]
  },
  {
   "cell_type": "code",
   "execution_count": null,
   "metadata": {},
   "outputs": [],
   "source": [
    "show_doc(JSONField)"
   ]
  },
  {
   "attachments": {},
   "cell_type": "markdown",
   "metadata": {},
   "source": [
    "Pair with the [`BytesDecoder`](https://docs.ffcv.io/api/decoders.html#ffcv.fields.decoders.BytesDecoder).\n",
    "\n",
    ":::{.callout-warning collapse=\"false\"}\n",
    "Because FFCV is based on tensors/ndarrays the reader and therefore the loader can't give return JSON to the user. This is why we provide `JSONField.unpack` which does the conversion. It's up to the user to call it in the main body of the loop.\n",
    ":::"
   ]
  },
  {
   "cell_type": "code",
   "execution_count": null,
   "metadata": {},
   "outputs": [],
   "source": [
    "show_doc(JSONField.unpack)"
   ]
  },
  {
   "attachments": {},
   "cell_type": "markdown",
   "metadata": {},
   "source": [
    "### TorchTensorField -"
   ]
  },
  {
   "cell_type": "code",
   "execution_count": null,
   "metadata": {},
   "outputs": [],
   "source": [
    "show_doc(TorchTensorField)"
   ]
  },
  {
   "attachments": {},
   "cell_type": "markdown",
   "metadata": {},
   "source": [
    "Pair with the [`NDArrayDecoder`](https://docs.ffcv.io/api/decoders.html#ffcv.fields.decoders.NDArrayDecoder)."
   ]
  },
  {
   "attachments": {},
   "cell_type": "markdown",
   "metadata": {},
   "source": [
    "## Modified Fields"
   ]
  },
  {
   "attachments": {},
   "cell_type": "markdown",
   "metadata": {},
   "source": [
    "FFCV's <code>RGBImageField</code> with Pillow support for dataset creation."
   ]
  },
  {
   "cell_type": "code",
   "execution_count": null,
   "metadata": {},
   "outputs": [],
   "source": [
    "#|exporti\n",
    "def resizer(image, max_resolution, min_resolution, interpolation=(cv2.INTER_AREA, LANCZOS)):\n",
    "    pillow_resize = isinstance(image, Image.Image)\n",
    "    if max_resolution is None and min_resolution is None:\n",
    "        return pil_to_numpy(image) if pillow_resize else image\n",
    "\n",
    "    if pillow_resize:\n",
    "        original_size = np.array([image.size[0], image.size[1]])\n",
    "    else:\n",
    "        original_size = np.array([image.shape[1], image.shape[0]])\n",
    "\n",
    "    if max_resolution is not None:\n",
    "        ratio = max_resolution / original_size.max()\n",
    "    elif min_resolution is not None:\n",
    "        ratio = min_resolution / original_size.min()\n",
    "    else:\n",
    "        ratio = 1\n",
    "\n",
    "    if ratio < 1:\n",
    "        new_size = (ratio * original_size).astype(int)\n",
    "        if pillow_resize:\n",
    "            image = image.resize(new_size, resample=interpolation[1])\n",
    "        else:\n",
    "            image = cv2.resize(image, tuple(new_size), interpolation=interpolation[0])\n",
    "    if pillow_resize:\n",
    "        return pil_to_numpy(image)\n",
    "    else:\n",
    "        return image"
   ]
  },
  {
   "attachments": {},
   "cell_type": "markdown",
   "metadata": {},
   "source": [
    "### RGBImageField -"
   ]
  },
  {
   "cell_type": "code",
   "execution_count": null,
   "metadata": {},
   "outputs": [],
   "source": [
    "#|export\n",
    "class RGBImageField(_RGBImageField):\n",
    "    \"\"\"\n",
    "    A subclass of :class:`~ffcv.fields.Field` supporting RGB image data.\n",
    "\n",
    "    Parameters\n",
    "    ----------\n",
    "    write_mode : str, optional\n",
    "        How to write the image data to the dataset file. Should be either 'raw'\n",
    "        (``uint8`` pixel values), 'jpg' (compress to JPEG format), 'smart'\n",
    "        (decide between saving pixel values and JPEG compressing based on image\n",
    "        size), and 'proportion' (JPEG compress a random subset of the data with\n",
    "        size specified by the ``compress_probability`` argument). By default: 'raw'.\n",
    "    max_resolution : int, optional\n",
    "        If specified, resize images to have maximum side length equal to this \n",
    "        value if maximum side length is larger. By default: None\n",
    "    min_resolution : int, optional\n",
    "        If specified, resize images to have minimum side length equal to this \n",
    "        value if minimum side length is larger. By default: None\n",
    "    smart_threshold : int, optional\n",
    "        When `write_mode='smart`, will compress an image if RAW byte size is\n",
    "        larger than `smart_threshold`.\n",
    "    jpeg_quality : int, optional\n",
    "        The quality parameter for JPEG encoding (ignored for ``write_mode='raw'``). \n",
    "        By default 90\n",
    "    compress_probability : float, optional\n",
    "        Ignored unless ``write_mode='proportion'``; in the latter case it is the\n",
    "        probability with which image is JPEG-compressed. By default 0.5.\n",
    "    interpolation : optional\n",
    "        The OpenCV interpolation flag for resizing images with OpenCV. \n",
    "        By default INTER_AREA.\n",
    "    resample : optional\n",
    "        The Pillow resampling filter for resizing images with Pillow. By default LANCZOS.\n",
    "    pillow_resize : bool, optional\n",
    "        Use Pillow to resize images instead of OpenCV. By default False (OpenCV).\n",
    "    \"\"\"\n",
    "    def __init__(self, write_mode='raw', max_resolution: int = None,\n",
    "                min_resolution: int = None, smart_threshold: int = None,\n",
    "                jpeg_quality: int = 90, compress_probability: float = 0.5,\n",
    "                interpolation = cv2.INTER_AREA, resample = LANCZOS,\n",
    "                pillow_resize:bool = False) -> None:\n",
    "        self.write_mode = write_mode\n",
    "        self.smart_threshold = smart_threshold\n",
    "        self.max_resolution = max_resolution\n",
    "        self.min_resolution = min_resolution\n",
    "        self.jpeg_quality = int(jpeg_quality)\n",
    "        self.proportion = compress_probability\n",
    "        self.interpolation = interpolation\n",
    "        self.resample = resample\n",
    "        self.pillow_resize = pillow_resize\n",
    "        if max_resolution is not None and min_resolution is not None:\n",
    "            raise ValueError(f'Can only set one of {max_resolution=} or {min_resolution=}')\n",
    "\n",
    "\n",
    "    def encode(self, destination, image, malloc):\n",
    "        if not isinstance(image, np.ndarray) and not isinstance(image, Image.Image):\n",
    "            raise TypeError(f\"Unsupported image type {type(image)}\")\n",
    "\n",
    "        if self.pillow_resize:\n",
    "            if isinstance(image, np.ndarray):\n",
    "                image = Image.fromarray(image)\n",
    "        else:\n",
    "            if isinstance(image, Image.Image):\n",
    "                image = pil_to_numpy(image)\n",
    "\n",
    "        image = resizer(image, self.max_resolution, self.min_resolution,\n",
    "                        (self.interpolation, self.resample))\n",
    "\n",
    "        if len(image.shape) > 2 and image.shape[2] != 3:\n",
    "            raise ValueError(f\"Invalid shape for rgb image: {image.shape}\")\n",
    "\n",
    "        if image.dtype != np.uint8:\n",
    "            raise ValueError(\"Image type has to be uint8\")\n",
    "\n",
    "        write_mode = self.write_mode\n",
    "        as_jpg = None\n",
    "\n",
    "        if write_mode == 'smart':\n",
    "            as_jpg = encode_jpeg(image, self.jpeg_quality)\n",
    "            write_mode = 'raw'\n",
    "            if self.smart_threshold is not None:\n",
    "                if image.nbytes > self.smart_threshold:\n",
    "                    write_mode = 'jpg'\n",
    "        elif write_mode == 'proportion':\n",
    "            if np.random.rand() < self.proportion:\n",
    "                write_mode = 'jpg'\n",
    "            else:\n",
    "                write_mode = 'raw'\n",
    "\n",
    "        destination['mode'] = IMAGE_MODES[write_mode]\n",
    "        destination['height'], destination['width'] = image.shape[:2]\n",
    "\n",
    "        if write_mode == 'jpg':\n",
    "            if as_jpg is None:\n",
    "                as_jpg = encode_jpeg(image, self.jpeg_quality)\n",
    "            destination['data_ptr'], storage = malloc(as_jpg.nbytes)\n",
    "            storage[:] = as_jpg\n",
    "        elif write_mode == 'raw':\n",
    "            image_bytes = np.ascontiguousarray(image).view('<u1').reshape(-1)\n",
    "            destination['data_ptr'], storage = malloc(image.nbytes)\n",
    "            storage[:] = image_bytes\n",
    "        else:\n",
    "            raise ValueError(f\"Unsupported write mode {self.write_mode}\")"
   ]
  },
  {
   "attachments": {},
   "cell_type": "markdown",
   "metadata": {},
   "source": [
    "Pair with one of the following three decoders:\n",
    "\n",
    "- [`SimpleRGBImageDecoder`](https://docs.ffcv.io/api/decoders.html#ffcv.fields.decoders.SimpleRGBImageDecoder)\n",
    "- [`RandomResizedCropRGBImageDecoder`](https://docs.ffcv.io/api/decoders.html#ffcv.fields.decoders.RandomResizedCropRGBImageDecoder)\n",
    "- [`CenterCropRGBImageDecoder`](https://docs.ffcv.io/api/decoders.html#ffcv.fields.decoders.CenterCropRGBImageDecoder)"
   ]
  }
 ],
 "metadata": {},
 "nbformat": 4,
 "nbformat_minor": 2
}
