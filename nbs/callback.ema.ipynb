{
 "cells": [
  {
   "cell_type": "code",
   "execution_count": null,
   "metadata": {},
   "outputs": [],
   "source": [
    "#|default_exp callback.ema"
   ]
  },
  {
   "cell_type": "code",
   "execution_count": null,
   "metadata": {},
   "outputs": [],
   "source": [
    "#|export\n",
    "try:\n",
    "    import timm\n",
    "except ImportError:\n",
    "    raise ImportError(\"timm is required to use EMACallback. Install via `pip install timm`.\")\n",
    "\n",
    "from timm.utils.model_ema import ModelEmaV2\n",
    "\n",
    "from fastai.callback.core import Callback\n",
    "from fastai.callback.fp16 import MixedPrecision\n",
    "\n",
    "from fastxtend.imports import *"
   ]
  },
  {
   "cell_type": "markdown",
   "metadata": {},
   "source": [
    "# Exponential Moving Average\n",
    "> First pass at a fastai callback to add Exponential Moving Average similar to [tensorflow](https://www.tensorflow.org/api_docs/python/tf/train/ExponentialMovingAverage). Implementation from [timm](https://github.com/rwightman/pytorch-image-models/blob/master/timm/utils/model_ema.py)."
   ]
  },
  {
   "cell_type": "code",
   "execution_count": null,
   "metadata": {},
   "outputs": [],
   "source": [
    "#|export\n",
    "class EMACallback(Callback):\n",
    "    order,run_valid = MixedPrecision.order+1,False\n",
    "    \"Callback to implment Model Exponential Moving Average from PyTorch Image Models in fast.ai\"\n",
    "    def __init__(self, decay=0.9998, ema_device=None):\n",
    "        store_attr()\n",
    "\n",
    "    @torch.no_grad()\n",
    "    def before_fit(self):\n",
    "        self.ema_model = ModelEmaV2(self.learn.model, self.decay, self.ema_device)\n",
    "\n",
    "    def after_batch(self):\n",
    "        self.ema_model.update(self.learn.model)\n",
    "\n",
    "    def before_validate(self):\n",
    "        self.temp_model = self.learn.model\n",
    "        self.learn.model = self.ema_model.module\n",
    "\n",
    "    def after_validate(self):\n",
    "        self.learn.model = self.temp_model\n",
    "\n",
    "    @torch.no_grad()\n",
    "    def after_fit(self):\n",
    "        self.learn.model = self.ema_model.module\n",
    "        self.ema_model = None\n",
    "        self.remove_cb(EMACallback)"
   ]
  }
 ],
 "metadata": {
  "kernelspec": {
   "display_name": "Python 3.9.7 ('base')",
   "language": "python",
   "name": "python3"
  }
 },
 "nbformat": 4,
 "nbformat_minor": 2
}
