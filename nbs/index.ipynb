{
 "cells": [
  {
   "cell_type": "markdown",
   "metadata": {},
   "source": [
    "# fastxtend\n",
    "> fastxtend (fastai extended) is a collection of tools, extensions, and addons for fastai"
   ]
  },
  {
   "cell_type": "markdown",
   "metadata": {},
   "source": [
    "## Install\n",
    "\n",
    "To install, run:\n",
    "```\n",
    "pip install fastxtend\n",
    "```\n",
    "\n",
    "Or to create an editable install:\n",
    "```\n",
    "git clone https://github.com/warner-benjamin/fastxtend.git\n",
    "cd fastxtend\n",
    "pip install -e \".[dev]\"\n",
    "```"
   ]
  },
  {
   "cell_type": "markdown",
   "metadata": {},
   "source": [
    "## Requirements\n",
    "\n",
    "fastxtend requires fastai to be installed. See http://docs.fast.ai/ for installation instructions.\n",
    "\n",
    "To install with dependencies for vision, audio, or all tasks run one of:\n",
    "```\n",
    "pip install fastxtend[vision]\n",
    "\n",
    "pip install fastxtend[audio]\n",
    "\n",
    "pip install fastxtend[all]\n",
    "```"
   ]
  },
  {
   "cell_type": "markdown",
   "metadata": {},
   "source": [
    "## Usage\n",
    "Like fastai, fastxtend provides safe wildcard imports using python’s `__all__`. \n",
    "```python\n",
    "from fastai.vision.all import *\n",
    "from fastxtend.vision.all import *\n",
    "```\n",
    "In general, import fastxtend after all fastai imports, as fastxtend modifies fastai. Any method modified by fastxtend is backwards compatible with the original fastai code."
   ]
  },
  {
   "cell_type": "markdown",
   "metadata": {},
   "source": [
    "## Documentation\n",
    "https://fastxtend.benjaminwarner.dev"
   ]
  }
 ],
 "metadata": {},
 "nbformat": 4,
 "nbformat_minor": 2
}
