{
 "cells": [
  {
   "cell_type": "markdown",
   "metadata": {},
   "source": [
    "# fastxtend\n",
    "> fastxtend (fastai extended) is a collection of tools, extensions, and addons for fastai"
   ]
  },
  {
   "cell_type": "markdown",
   "metadata": {},
   "source": [
    "::: {.content-hidden when-format=\"html\"}\n",
    "fastxtend (fastai extended) is a collection of tools, extensions, and addons for fastai\n",
    ":::"
   ]
  },
  {
   "cell_type": "markdown",
   "metadata": {},
   "source": [
    "## Feature overview\n",
    "\n",
    "**General Features**\n",
    "\n",
    "* [Fused optimizers](optimizer.fused.html) which are 21 to 293 percent faster relative to fastai native optimizers.\n",
    "* Flexible [metrics](metrics.html) which can log on train, valid, or both. Backwards compatible with fastai metrics.\n",
    "* Easily use [multiple losses](multiloss.html) and log each individual loss on train and valid.\n",
    "* A [simple profiler](callback.simpleprofiler.html) for profiling fastai training.\n",
    "\n",
    "**Vision**\n",
    "\n",
    "* Increase training speed using `ProgressiveResize` to automaticly apply progressive resizing.\n",
    "* Apply `MixUp`, `CutMix`, or Augmentations with `CutMixUp` or `CutMixUpAugment`.\n",
    "* Additional [image augmentations](vision.augment.batch.html).\n",
    "* Support for running fastai [batch transforms on CPU](vision.data.html).\n",
    "* More [attention](vision.models.attention_modules.html) and [pooling](vision.models.pooling.html) modules\n",
    "* A flexible implementation of fastai’s `XResNet`.\n",
    "\n",
    "**Audio**\n",
    "\n",
    "* `TensorAudio`, `TensorSpec`, `TensorMelSpec` objects which maintain metadata and support plotting themselves using librosa.\n",
    "* A selection of performant [audio augmentations](audio.augment.html) inspired by fastaudio and torch-audiomentations.\n",
    "* Uses TorchAudio to quickly convert `TensorAudio` waveforms into `TensorSpec` spectrograms or `TensorMelSpec` mel spectrograms using the GPU.\n",
    "* Out of the box support for converting one `TensorAudio` to one or multiple `TensorSpec` or `TensorMelSpec` objects from the Datablock api.\n",
    "* Audio [MixUp and CutMix](audio.mixup.html) Callbacks.\n",
    "* `audio_learner` which merges multiple `TensorSpec` or `TensorMelSpec` objects before passing to the model.\n",
    "\n",
    "Check out the documentation for additional splitters, callbacks, schedulers, utilities, and more."
   ]
  },
  {
   "cell_type": "markdown",
   "metadata": {},
   "source": [
    "::: {.content-hidden when-format=\"html\"}\n",
    "## Documentation\n",
    "<https://fastxtend.benjaminwarner.dev>\n",
    ":::"
   ]
  },
  {
   "cell_type": "markdown",
   "metadata": {},
   "source": [
    "## Install\n",
    "\n",
    "fastxtend is avalible on pypi:\n",
    "```default\n",
    "pip install fastxtend\n",
    "```\n",
    "\n",
    "To install with dependencies for vision, audio, or all tasks run one of:\n",
    "```default\n",
    "pip install fastxtend[vision]\n",
    "\n",
    "pip install fastxtend[audio]\n",
    "\n",
    "pip install fastxtend[all]\n",
    "```\n",
    "\n",
    "Or to create an editable install:\n",
    "```default\n",
    "git clone https://github.com/warner-benjamin/fastxtend.git\n",
    "cd fastxtend\n",
    "pip install -e \".[dev]\"\n",
    "```"
   ]
  },
  {
   "cell_type": "markdown",
   "metadata": {},
   "source": [
    "## Usage\n",
    "Like fastai, fastxtend provides safe wildcard imports using python’s `__all__`. \n",
    "```python\n",
    "from fastai.vision.all import *\n",
    "from fastxtend.vision.all import *\n",
    "```\n",
    "In general, import fastxtend after all fastai imports, as fastxtend modifies fastai. Any method modified by fastxtend is backwards compatible with the original fastai code."
   ]
  },
  {
   "cell_type": "markdown",
   "metadata": {},
   "source": [
    "## Examples\n",
    "Use a fused ForEach optimizer:\n",
    "```python\n",
    "Learner(..., opt_func=adam(fused=True))\n",
    "```\n",
    "\n",
    "Log an accuracy metric on the training set as a smoothed metric and validation set like normal:\n",
    "```python\n",
    "Learner(..., metrics=[Accuracy(log_metric=LogMetric.Train, metric_type=MetricType.Smooth),\n",
    "                      Accuracy()])\n",
    "```\n",
    "\n",
    "Log multiple losses as individual metrics on train and valid:\n",
    "```python\n",
    "mloss = MultiLoss(loss_funcs=[nn.MSELoss, nn.L1Loss], \n",
    "                  weights=[1, 3.5], loss_names=['mse_loss', 'l1_loss'])\n",
    "\n",
    "Learner(..., loss_func=mloss, metrics=RMSE(), cbs=MultiLossCallback)\n",
    "```\n",
    "\n",
    "Apply MixUp, CutMix, or Augmentation while training:\n",
    "```python\n",
    "Learner(..., cbs=CutMixUpAugment)\n",
    "```\n",
    "\n",
    "Profile a fastai training loop:\n",
    "```python\n",
    "from fastxtend.callback import simpleprofiler\n",
    "\n",
    "learn = Learner(...).profile()\n",
    "learn.fit_one_cycle(2, 3e-3)\n",
    "```\n",
    "\n",
    "Train in channels last format:\n",
    "```python\n",
    "Learner(...).to_channelslast()\n",
    "```"
   ]
  },
  {
   "cell_type": "markdown",
   "metadata": {},
   "source": [
    "## Requirements\n",
    "\n",
    "fastxtend requires fastai to be installed. See [http://docs.fast.ai](http://docs.fast.ai) for installation instructions."
   ]
  }
 ],
 "metadata": {
  "kernelspec": {
   "display_name": "python3",
   "language": "python",
   "name": "python3"
  }
 },
 "nbformat": 4,
 "nbformat_minor": 2
}
