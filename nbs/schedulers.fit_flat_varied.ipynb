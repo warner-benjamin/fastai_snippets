{
 "cells": [
  {
   "cell_type": "code",
   "execution_count": null,
   "metadata": {},
   "outputs": [],
   "source": [
    "#|default_exp schedulers.fit_flat_varied"
   ]
  },
  {
   "cell_type": "markdown",
   "metadata": {},
   "source": [
    "# Fit Flat Varied\n",
    "> Like `fit_flat_cos`, but allows changing to multiple new learning rates immediately or via any fastai schedule."
   ]
  },
  {
   "cell_type": "code",
   "execution_count": null,
   "metadata": {},
   "outputs": [],
   "source": [
    "#|export\n",
    "import warnings\n",
    "import numpy as np\n",
    "from fastcore.basics import even_mults\n",
    "from fastcore.foundation import patch, L\n",
    "from fastai.learner import Learner\n",
    "from fastai.callback.schedule import SchedCos, SchedNo, combine_scheds, ParamScheduler\n",
    "from fastxtend.basics import is_listish"
   ]
  },
  {
   "cell_type": "code",
   "execution_count": null,
   "metadata": {},
   "outputs": [],
   "source": [
    "#|export\n",
    "@patch\n",
    "def fit_flat_varied(self:Learner, n_epoch, start_lr=None, div_final=1e5, pct_start=0.75, wd=None,\n",
    "                    next_lr=None, change_by=None, change_time=1, change_sched=None, cbs=None, reset_opt=False):\n",
    "    \"\"\"\n",
    "    Fit `self.model` for `n_epoch` at flat `start_lr`, then change to flat `next_lr` at `change_by`, \n",
    "    optionally with cosine annealing or custom `change_sched` over `change_time`. Final cosine annealing at `pct_start`.\n",
    "    \n",
    "    `n_epoch`, `start_lr`, `div_final`, `pct_start`, `wd`, `cbs`, & `reset_opt` are all same as fit_flat_cos from fast.ai.\n",
    "\n",
    "    `next_lr` single or list of learning rates to switch to at change_by. Must be same length as `change_by`.\n",
    "\n",
    "    `change_by` single or list of epochs or percent of steps to switch to `next_lr` by. Must be same length as `next_lr`.\n",
    "\n",
    "    `change_time` if greater than 0 (percent of steps or epochs), how long to cosine anneal to `next_lr`. Can be single or list of same length as `next_lr`.\n",
    "\n",
    "    `change_sched` optional single or list of fast.ai schedules. If `None` defaults to `SchedCos`. Must be same length as `next_lr`. `SchedPoly` must be passed as partial: `partial(SchedPoly, power=0.5)`.\n",
    "    \"\"\"\n",
    "    assert isinstance(next_lr, (float, slice)) or (is_listish(next_lr) and len(next_lr)>=1), '`next_lr` must be float, slice, or list of float or slice'\n",
    "    assert isinstance(change_by, (int, float, slice)) or (is_listish(change_by) and len(change_by)>=1), '`change_by` must be int, float, slice, or list of int, float, or slice'\n",
    "\n",
    "    if self.opt is None: self.create_opt()\n",
    "    self.opt.set_hyper('lr', self.lr if start_lr is None else start_lr)\n",
    "    start_lr = np.array([h['lr'] for h in self.opt.hypers])\n",
    "    params_len = len(start_lr)\n",
    "\n",
    "    if not is_listish(next_lr): next_lr = [next_lr]\n",
    "    if not is_listish(change_by): change_by = [change_by]\n",
    "    change_by = [i/n_epoch if i>=1 else i for i in change_by]\n",
    "    assert len(change_by)==len(next_lr), '`next_lr` & `change_by` need to be same length'\n",
    "\n",
    "    if not is_listish(change_time): change_time = [change_time]*len(change_by)\n",
    "    else: assert len(change_by)==len(change_time), '`change_time` list needs to be same length as `next_lr` & `change_by`'\n",
    "    change_time = [i/n_epoch if i>=1 else i for i in change_time]\n",
    "\n",
    "    if change_sched is not None: \n",
    "        if not is_listish(change_sched): change_sched = [change_sched]\n",
    "        assert len(change_by)==len(change_sched), '`next_lr` & `change_sched` need to be same length'\n",
    "\n",
    "    pcts, scheds, last_lr, last_pct = [], [SchedNo(start_lr, start_lr)], start_lr, 0\n",
    "    for i, cb in enumerate(change_by):\n",
    "        if cb < pct_start:\n",
    "            nlr = next_lr[i]\n",
    "            if isinstance(nlr, slice):\n",
    "                if nlr.start: nlr = even_mults(nlr.start, nlr.stop, params_len)\n",
    "                else: nlr = [nlr.stop/10]*(params_len-1) + [nlr.stop]\n",
    "                nlr=np.array(nlr)\n",
    "            change_pct = cb - change_time[i]\n",
    "            assert change_pct >= last_pct, f'{change_pct} in pos {i} of `change_by` overlaps with previous schedule {last_pct}'\n",
    "            pcts.append(change_pct - sum(pcts))\n",
    "            scheds.append(SchedNo(nlr, nlr))\n",
    "            if change_time[i] > 0:\n",
    "                pcts.append(change_time[i])\n",
    "                if is_listish(change_sched): scheds.insert(-1, change_sched[i](last_lr, nlr))\n",
    "                else: scheds.insert(-1, SchedCos(last_lr, nlr))\n",
    "            last_lr = nlr\n",
    "            last_pct = change_pct\n",
    "        else: warnings.warn(f'change_by: {change_by[i]} is after pct_start={pct_start} and ignored.')\n",
    "    pcts += [pct_start - sum(pcts), 1-pct_start]\n",
    "    scheds += [SchedCos(last_lr, last_lr/div_final)]\n",
    "\n",
    "    scheds = {'lr': combine_scheds(pcts, scheds)}\n",
    "    self.fit(n_epoch, cbs=ParamScheduler(scheds)+L(cbs), reset_opt=reset_opt, wd=wd)"
   ]
  },
  {
   "cell_type": "markdown",
   "metadata": {},
   "source": [
    "## Example Schedules\n",
    "\n",
    "Discriminative Linear Warmup:\n",
    "\n",
    "`learn.fit_flat_varied(4, slice(3e-5, 3e-3), next_lr=3e-3, change_by=1, change_time=1, change_sched=SchedLin)`\n",
    "\n",
    "![discriminative linear warmup](images/fit_flat_varied_3.png)\n",
    "\n",
    "Multiple Cosine Annealing:\n",
    "\n",
    "`learn.fit_flat_varied(15, 8e-3, next_lr=[6e-3, 4e-3], change_by=[4, 8], change_time=2)`\n",
    "\n",
    "![multiple cosine annealing](images/fit_flat_varied_1.png)\n",
    "\n",
    "\n",
    "Immediate Change:\n",
    "\n",
    "`learn.fit_flat_varied(10, 8e-3, next_lr=[6e-3, 4e-3], change_by=[0.25, 0.5], change_time=0)`\n",
    "\n",
    "![immediate change](images/fit_flat_varied_2.png)"
   ]
  },
  {
   "cell_type": "code",
   "execution_count": null,
   "metadata": {},
   "outputs": [
    {
     "name": "stdout",
     "output_type": "stream",
     "text": [
      "[0, 0.5519981384277344, 0.009125043638050556, '00:00']\n",
      "[1, 0.0736357569694519, 0.009279237128794193, '00:00']\n",
      "[2, 0.018577147275209427, 0.009262175299227238, '00:00']\n",
      "[3, 0.011731836013495922, 0.009302484802901745, '00:00']\n"
     ]
    },
    {
     "data": {
      "image/png": "[encoded data removed]",
      "text/plain": [
       "<Figure size 432x288 with 1 Axes>"
      ]
     },
     "metadata": {
      "needs_background": "light"
     },
     "output_type": "display_data"
    }
   ],
   "source": [
    "#|hide\n",
    "#|slow\n",
    "from fastai.test_utils import synth_learner\n",
    "from fastai.callback.schedule import SchedLin\n",
    "\n",
    "learn = synth_learner(100, 10)\n",
    "learn.fit_flat_varied(4, slice(3e-5, 3e-3), next_lr=3e-3, change_by=1, change_time=1, change_sched=SchedLin)\n",
    "learn.recorder.plot_sched()"
   ]
  },
  {
   "cell_type": "code",
   "execution_count": null,
   "metadata": {},
   "outputs": [
    {
     "name": "stdout",
     "output_type": "stream",
     "text": [
      "[0, 0.4857367277145386, 0.010013757273554802, '00:00']\n",
      "[1, 0.06560628116130829, 0.009947831742465496, '00:00']\n",
      "[2, 0.017354624345898628, 0.009765828028321266, '00:00']\n",
      "[3, 0.011333700269460678, 0.010316001251339912, '00:00']\n",
      "[4, 0.010050332173705101, 0.009690850973129272, '00:00']\n",
      "[5, 0.01015984546393156, 0.009897427633404732, '00:00']\n",
      "[6, 0.01005034614354372, 0.00972864218056202, '00:00']\n",
      "[7, 0.009965868666768074, 0.009740944020450115, '00:00']\n",
      "[8, 0.01029820367693901, 0.009805220179259777, '00:00']\n",
      "[9, 0.010123246349394321, 0.009986121207475662, '00:00']\n",
      "[10, 0.009817359037697315, 0.009939275681972504, '00:00']\n",
      "[11, 0.009877949953079224, 0.00973101519048214, '00:00']\n",
      "[12, 0.009876875206828117, 0.009846814908087254, '00:00']\n",
      "[13, 0.00998685322701931, 0.00983098428696394, '00:00']\n",
      "[14, 0.009789206087589264, 0.009836437180638313, '00:00']\n"
     ]
    },
    {
     "data": {
      "image/png": "[encoded data removed]",
      "text/plain": [
       "<Figure size 432x288 with 1 Axes>"
      ]
     },
     "metadata": {
      "needs_background": "light"
     },
     "output_type": "display_data"
    }
   ],
   "source": [
    "#|hide\n",
    "#|slow\n",
    "learn = synth_learner(100, 10)\n",
    "learn.fit_flat_varied(15, 8e-3, next_lr=[6e-3, 4e-3], change_by=[4, 8], change_time=2)\n",
    "learn.recorder.plot_sched()"
   ]
  },
  {
   "cell_type": "code",
   "execution_count": null,
   "metadata": {},
   "outputs": [
    {
     "name": "stdout",
     "output_type": "stream",
     "text": [
      "[0, 0.7806915640830994, 0.010005583986639977, '00:00']\n",
      "[1, 0.10016239434480667, 0.009833318181335926, '00:00']\n",
      "[2, 0.021698256954550743, 0.00981915183365345, '00:00']\n",
      "[3, 0.011349670588970184, 0.009730835445225239, '00:00']\n",
      "[4, 0.010066516697406769, 0.00972744356840849, '00:00']\n",
      "[5, 0.009601901285350323, 0.009733257815241814, '00:00']\n",
      "[6, 0.009675953537225723, 0.009685656055808067, '00:00']\n",
      "[7, 0.00978333130478859, 0.009677143767476082, '00:00']\n",
      "[8, 0.00942174345254898, 0.00970753189176321, '00:00']\n",
      "[9, 0.009458736516535282, 0.009744592010974884, '00:00']\n"
     ]
    },
    {
     "data": {
      "image/png": "[encoded data removed]",
      "text/plain": [
       "<Figure size 432x288 with 1 Axes>"
      ]
     },
     "metadata": {
      "needs_background": "light"
     },
     "output_type": "display_data"
    }
   ],
   "source": [
    "#|hide\n",
    "#|slow\n",
    "learn = synth_learner(100, 10)\n",
    "learn.fit_flat_varied(10, 8e-3, next_lr=[6e-3, 4e-3], change_by=[0.25, 0.5], change_time=0)\n",
    "learn.recorder.plot_sched()"
   ]
  },
  {
   "cell_type": "code",
   "execution_count": null,
   "metadata": {},
   "outputs": [
    {
     "name": "stdout",
     "output_type": "stream",
     "text": [
      "Converted augment.tensor_item_tfm.ipynb.\n",
      "Converted index.ipynb.\n",
      "Converted schedulers.fit_flat_varied.ipynb.\n"
     ]
    }
   ],
   "source": [
    "#|hide\n",
    "#|slow\n",
    "from nbdev.export import notebook2script; notebook2script()"
   ]
  }
 ],
 "metadata": {
  "jupytext": {
   "split_at_heading": true
  },
  "kernelspec": {
   "display_name": "Python 3.7.6 64-bit ('base': conda)",
   "name": "python3"
  }
 },
 "nbformat": 4,
 "nbformat_minor": 4
}
