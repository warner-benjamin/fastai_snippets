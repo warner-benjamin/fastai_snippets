{
 "cells": [
  {
   "cell_type": "code",
   "execution_count": null,
   "metadata": {},
   "outputs": [],
   "source": [
    "#|default_exp callback.casttotensor"
   ]
  },
  {
   "cell_type": "code",
   "execution_count": null,
   "metadata": {},
   "outputs": [],
   "source": [
    "#|hide\n",
    "from nbdev.showdoc import *"
   ]
  },
  {
   "cell_type": "code",
   "execution_count": null,
   "metadata": {},
   "outputs": [],
   "source": [
    "#|export\n",
    "from packaging.version import parse\n",
    "\n",
    "from fastcore.dispatch import cast\n",
    "\n",
    "import fastai\n",
    "from fastai.callback.core import Callback\n",
    "from fastai.basics import defaults\n",
    "\n",
    "from fastxtend.imports import *"
   ]
  },
  {
   "cell_type": "markdown",
   "metadata": {},
   "source": [
    "# Cast To Tensor Backport\n",
    "> A callback to cast model inputs to `Tensor` as a workaroud for a PyTorch performance bug"
   ]
  },
  {
   "cell_type": "markdown",
   "metadata": {},
   "source": [
    "For use in fastai 2.6.x or older. Import globally:\n",
    "\n",
    "```python\n",
    "from fastxtend.vision.all import *\n",
    "```\n",
    "\n",
    "or individually:\n",
    "\n",
    "```python\n",
    "from fastxtend.callback import casttotensor\n",
    "```"
   ]
  },
  {
   "cell_type": "code",
   "execution_count": null,
   "metadata": {},
   "outputs": [],
   "source": [
    "#|exporti\n",
    "def _cast_tensor(x): \n",
    "    if isinstance(x, tuple): return tuple(_cast_tensor(x_) for x_ in x)\n",
    "    else: return cast(x, Tensor) if isinstance(x,torch.Tensor) else x"
   ]
  },
  {
   "cell_type": "code",
   "execution_count": null,
   "metadata": {},
   "outputs": [],
   "source": [
    "#|export\n",
    "class CastToTensorBackport(Callback):\n",
    "    \"Cast Subclassed Tensors to `Tensor`\"\n",
    "    order=9 # Right before MixedPrecision\n",
    "\n",
    "    def before_batch(self):\n",
    "        self.learn.xb,self.learn.yb = _cast_tensor(self.learn.xb),_cast_tensor(self.learn.yb)"
   ]
  },
  {
   "cell_type": "markdown",
   "metadata": {},
   "source": [
    "Workaround for bug in PyTorch where subclassed tensors, such as `TensorBase`, train up to ~20% slower than `Tensor` when passed to a model. Added to `Learner` by default if using fastai 2.6.x or older. \n",
    "\n",
    "CastToTensorBackport is identical to the CastToTensor callback releasing with fastai 2.7.0.\n",
    "\n",
    "CastToTensorBackport's order is right before `MixedPrecision` so callbacks which make use of fastai's tensor subclasses still can use them.\n",
    "\n",
    "If inputs are not a subclassed tensor or tuple of tensors, you may need to cast inputs in `Learner.xb` and `Learner.yb` to `Tensor` via your own callback or in the dataloader before `Learner` performs the forward pass.\n",
    "\n",
    "If the CastToTensorBackport workaround interferes with custom code, it can be removed:\n",
    "\n",
    "```python\n",
    "learn = Learner(...)\n",
    "learn.remove_cb(CastToTensorBackport)\n",
    "```\n",
    "\n",
    "You should verify your inputs are of type `Tensor` or implement a cast to `Tensor` via a custom callback or dataloader if CastToTensor is removed."
   ]
  },
  {
   "cell_type": "code",
   "execution_count": null,
   "metadata": {},
   "outputs": [],
   "source": [
    "#|export\n",
    "if parse(fastai.__version__) < parse('2.7.0') and CastToTensorBackport not in defaults.callbacks: \n",
    "    defaults.callbacks.append(CastToTensorBackport)"
   ]
  }
 ],
 "metadata": {
  "kernelspec": {
   "display_name": "Python 3.9.7 ('base')",
   "language": "python",
   "name": "python3"
  }
 },
 "nbformat": 4,
 "nbformat_minor": 2
}
