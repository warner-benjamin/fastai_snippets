{
 "cells": [
  {
   "cell_type": "code",
   "execution_count": null,
   "metadata": {},
   "outputs": [],
   "source": [
    "#|default_exp torch_core"
   ]
  },
  {
   "cell_type": "code",
   "execution_count": null,
   "metadata": {},
   "outputs": [],
   "source": [
    "#|exporti\n",
    "# Contains code from:\n",
    "# fastai - Apache License 2.0 - Copyright (c) 2023 fast.ai"
   ]
  },
  {
   "cell_type": "code",
   "execution_count": null,
   "metadata": {},
   "outputs": [],
   "source": [
    "#|export\n",
    "from fastai.torch_core import show_title\n",
    "from fastai.torch_core import TensorCategory as _TensorCategory\n",
    "from fastai.torch_core import TensorMultiCategory as _TensorMultiCategory"
   ]
  },
  {
   "attachments": {},
   "cell_type": "markdown",
   "metadata": {},
   "source": [
    "# Torch Core\n",
    "> Basic PyTorch functions used in fastxtend"
   ]
  },
  {
   "cell_type": "code",
   "execution_count": null,
   "metadata": {},
   "outputs": [],
   "source": [
    "#|export\n",
    "class TensorCategory(_TensorCategory):\n",
    "    \"fastai's TensorCategory with a show method\"\n",
    "    def show(self, **kwargs):\n",
    "        show_title(self.item(), **kwargs)"
   ]
  },
  {
   "cell_type": "code",
   "execution_count": null,
   "metadata": {},
   "outputs": [],
   "source": [
    "#|export\n",
    "class TensorMultiCategory(_TensorMultiCategory):\n",
    "    \"fastai's TensorMultiCategory with a show method\"\n",
    "    def show(self, **kwargs):\n",
    "        show_title(self.item(), **kwargs)"
   ]
  }
 ],
 "metadata": {},
 "nbformat": 4,
 "nbformat_minor": 2
}
