{
 "cells": [
  {
   "cell_type": "code",
   "execution_count": null,
   "metadata": {},
   "outputs": [],
   "source": [
    "#|default_exp ffcv.utils"
   ]
  },
  {
   "attachments": {},
   "cell_type": "markdown",
   "metadata": {},
   "source": [
    "# FFCV Utilities\n",
    "> Utilities for the fastxtend FFCV integration"
   ]
  },
  {
   "attachments": {},
   "cell_type": "markdown",
   "metadata": {},
   "source": [
    "fastxtend provides the `rgb_dataset_to_ffcv` convenience method for easy FFCV image dataset creation.\n",
    "\n",
    "`rgb_dataset_to_ffcv` uses fastxtend's `Writer` for dataset interoperability with FFCV."
   ]
  },
  {
   "cell_type": "code",
   "execution_count": null,
   "metadata": {},
   "outputs": [],
   "source": [
    "#|export\n",
    "from __future__ import annotations\n",
    "\n",
    "import cv2\n",
    "from enum import Enum\n",
    "from pathlib import Path\n",
    "\n",
    "try:\n",
    "    import PIL.Image as Image\n",
    "    LANCZOS = Image.Resampling.LANCZOS\n",
    "except AttributeError:\n",
    "    from PIL.Image import LANCZOS\n",
    "\n",
    "from torch.utils.data import Dataset\n",
    "\n",
    "from fastai.data.core import Datasets\n",
    "\n",
    "from ffcv.fields import IntField, FloatField\n",
    "\n",
    "from fastxtend.ffcv.fields import RGBImageField\n",
    "from fastxtend.ffcv.writer import DatasetWriter"
   ]
  },
  {
   "cell_type": "code",
   "execution_count": null,
   "metadata": {},
   "outputs": [],
   "source": [
    "#|export\n",
    "class LabelField(Enum):\n",
    "    int = 'int'\n",
    "    float = 'float'"
   ]
  },
  {
   "cell_type": "code",
   "execution_count": null,
   "metadata": {},
   "outputs": [],
   "source": [
    "#|export\n",
    "def rgb_dataset_to_ffcv(\n",
    "    dataset:Dataset|Datasets, # A PyTorch Dataset or single fastai Datasets\n",
    "    write_path:str|Path, # File name to store dataset in FFCV beton format\n",
    "    max_resolution:int|None=None, # If maximum side length is greater than `max_resolution`, resize so maximum side length equals `max_resolution`\n",
    "    min_resolution:int|None=None, # If minimum side length is greater than `min_resolution`, resize so minimum side length equals `min_resolution`\n",
    "    write_mode:str='raw', # `RGBImageField` write mode: 'raw', 'jpg', 'smart', 'proportion'\n",
    "    smart_threshold:int|None=None, # If `write_mode='smart'`, JPEG-compress RAW bytes is larger than `smart_threshold`\n",
    "    compress_probability:float=0.50, # Probability with which image is JPEG-compressed\n",
    "    jpeg_quality:float=90, # Quality to use for jpeg compression if `write_mode='proportion'`\n",
    "    interpolation=cv2.INTER_AREA, # OpenCV interpolation flag for resizing images with OpenCV\n",
    "    resample=LANCZOS, # Pillow resampling filter for resizing images with Pillow\n",
    "    num_workers:int=-1, # Number of workers to use. Defaults to number of CPUs\n",
    "    chunk_size:int=100, # Size of chunks processed by each worker\n",
    "    pillow_resize:bool=True, # Use Pillow to resize images instead of OpenCV\n",
    "    label_field:LabelField=LabelField.int # Use FFCV `IntField` or `FloatField` for labels\n",
    "):\n",
    "    \"Writes PyTorch/fastai compatible `dataset` into FFCV format at filepath `write_path`.\"\n",
    "    if isinstance(write_path, Path):\n",
    "        write_path = str(write_path)\n",
    "    writer = DatasetWriter(write_path, {\n",
    "        'image': RGBImageField(write_mode=write_mode, max_resolution=max_resolution,\n",
    "                               min_resolution=min_resolution, smart_threshold=smart_threshold,\n",
    "                               compress_probability=compress_probability, jpeg_quality=jpeg_quality,\n",
    "                               interpolation=interpolation, resample=resample, pillow_resize=pillow_resize),\n",
    "        'label': IntField() if label_field==LabelField.int else FloatField()\n",
    "    }, num_workers=num_workers)\n",
    "    writer.from_indexed_dataset(dataset, chunksize=chunk_size)"
   ]
  },
  {
   "attachments": {},
   "cell_type": "markdown",
   "metadata": {},
   "source": [
    "`write_mode` should be one of:\n",
    "\n",
    "- 'raw': write `uint8` pixel values\n",
    "- 'jpg': compress to JPEG format\n",
    "- 'smart': decide between saving pixel values and JPEG compressing based on image size\n",
    "- 'proportion': JPEG compress a random subset of the data with size specified by the `compress_probability` argument"
   ]
  }
 ],
 "metadata": {
  "kernelspec": {
   "display_name": "python3",
   "language": "python",
   "name": "python3"
  }
 },
 "nbformat": 4,
 "nbformat_minor": 2
}
